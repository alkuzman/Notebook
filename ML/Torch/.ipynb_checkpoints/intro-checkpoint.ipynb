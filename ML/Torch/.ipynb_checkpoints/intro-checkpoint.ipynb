{
 "cells": [
  {
   "cell_type": "code",
   "execution_count": 1,
   "metadata": {
    "ExecuteTime": {
     "end_time": "2022-06-30T08:25:17.906343Z",
     "start_time": "2022-06-30T08:25:16.873123Z"
    }
   },
   "outputs": [],
   "source": [
    "%matplotlib inline"
   ]
  },
  {
   "cell_type": "markdown",
   "metadata": {},
   "source": [
    "\n",
    "**Learn the Basics** ||\n",
    "`Quickstart <quickstart_tutorial.html>`_ ||\n",
    "`Tensors <tensorqs_tutorial.html>`_ ||\n",
    "`Datasets & DataLoaders <data_tutorial.html>`_ ||\n",
    "`Transforms <transforms_tutorial.html>`_ ||\n",
    "`Build Model <buildmodel_tutorial.html>`_ ||\n",
    "`Autograd <autogradqs_tutorial.html>`_ ||\n",
    "`Optimization <optimization_tutorial.html>`_ ||\n",
    "`Save & Load Model <saveloadrun_tutorial.html>`_\n",
    "\n",
    "Learn the Basics\n",
    "===================\n",
    "\n",
    "Authors:\n",
    "`Suraj Subramanian <https://github.com/suraj813>`_,\n",
    "`Seth Juarez <https://github.com/sethjuarez/>`_,\n",
    "`Cassie Breviu <https://github.com/cassieview/>`_,\n",
    "`Dmitry Soshnikov <https://soshnikov.com/>`_,\n",
    "`Ari Bornstein <https://github.com/aribornstein/>`_\n",
    "\n",
    "Most machine learning workflows involve working with data, creating models, optimizing model\n",
    "parameters, and saving the trained models. This tutorial introduces you to a complete ML workflow\n",
    "implemented in PyTorch, with links to learn more about each of these concepts.\n",
    "\n",
    "We'll use the FashionMNIST dataset to train a neural network that predicts if an input image belongs\n",
    "to one of the following classes: T-shirt/top, Trouser, Pullover, Dress, Coat, Sandal, Shirt, Sneaker,\n",
    "Bag, or Ankle boot.\n",
    "\n",
    "`This tutorial assumes a basic familiarity with Python and Deep Learning concepts.`\n",
    "\n",
    "\n",
    "Running the Tutorial Code\n",
    "------------------\n",
    "You can run this tutorial in a couple of ways:\n",
    "\n",
    "- **In the cloud**: This is the easiest way to get started! Each section has a \"Run in Microsoft Learn\" link at the top, which opens an integrated notebook in Microsoft Learn with the code in a fully-hosted environment.\n",
    "- **Locally**: This option requires you to setup PyTorch and TorchVision first on your local machine (`installation instructions <https://pytorch.org/get-started/locally/>`_). Download the notebook or copy the code into your favorite IDE.\n",
    "\n",
    "\n",
    "How to Use this Guide\n",
    "-----------------\n",
    "If you're familiar with other deep learning frameworks, check out the `0. Quickstart <quickstart_tutorial.html>`_ first\n",
    "to quickly familiarize yourself with PyTorch's API.\n",
    "\n",
    "If you're new to deep learning frameworks, head right into the first section of our step-by-step guide: `1. Tensors <tensor_tutorial.html>`_.\n",
    "\n",
    "\n",
    ".. include:: /beginner_source/basics/qs_toc.txt\n",
    "\n",
    ".. toctree::\n",
    "   :hidden:\n"
   ]
  },
  {
   "cell_type": "code",
   "execution_count": 76,
   "metadata": {
    "ExecuteTime": {
     "end_time": "2022-06-30T10:16:09.836499Z",
     "start_time": "2022-06-30T10:16:09.821600Z"
    }
   },
   "outputs": [],
   "source": [
    "import numpy as np\n",
    "\n",
    "import torch\n",
    "from torch import nn\n",
    "from torch.utils.data import Dataset\n",
    "from torch.utils.data import DataLoader\n",
    "from torchvision import datasets\n",
    "from torchvision.transforms import ToTensor\n",
    "\n",
    "import matplotlib.pyplot as plt\n",
    "\n",
    "import pandas as pd"
   ]
  },
  {
   "cell_type": "code",
   "execution_count": 77,
   "metadata": {
    "ExecuteTime": {
     "end_time": "2022-06-30T10:16:10.901045Z",
     "start_time": "2022-06-30T10:16:10.729617Z"
    }
   },
   "outputs": [],
   "source": [
    "training_data = datasets.FashionMNIST(\n",
    "    root = \"data\",\n",
    "    train = True,\n",
    "    download = True,\n",
    "    transform = ToTensor()\n",
    ")\n",
    "test_data = datasets.FashionMNIST(\n",
    "    root = \"data\",\n",
    "    train = False,\n",
    "    download = True,\n",
    "    transform = ToTensor()\n",
    ")"
   ]
  },
  {
   "cell_type": "code",
   "execution_count": 78,
   "metadata": {
    "ExecuteTime": {
     "end_time": "2022-06-30T10:16:11.692850Z",
     "start_time": "2022-06-30T10:16:11.016817Z"
    }
   },
   "outputs": [
    {
     "data": {
      "image/png": "[encoded data removed]",
      "text/plain": [
       "<Figure size 576x576 with 9 Axes>"
      ]
     },
     "metadata": {
      "needs_background": "light"
     },
     "output_type": "display_data"
    }
   ],
   "source": [
    "labels_map = {\n",
    "    0: \"T-Shirt\",\n",
    "    1: \"Trouser\",\n",
    "    2: \"Pullover\",\n",
    "    3: \"Dress\",\n",
    "    4: \"Coat\",\n",
    "    5: \"Sandal\",\n",
    "    6: \"Shirt\",\n",
    "    7: \"Sneaker\",\n",
    "    8: \"Bag\",\n",
    "    9: \"Ankle Boot\",\n",
    "}\n",
    "\n",
    "figure = plt.figure(figsize=(8, 8))\n",
    "cols, rows = 3, 3\n",
    "\n",
    "for i in range(1, cols * rows + 1):\n",
    "    sample_idx = torch.randint(len(training_data), size=(1,)).item()\n",
    "    image, label = training_data[sample_idx]\n",
    "    figure.add_subplot(rows, cols, i)\n",
    "    plt.title(labels_map[label])\n",
    "    plt.axis('off')\n",
    "    plt.imshow(image.squeeze(), cmap='gray')\n",
    "plt.show()"
   ]
  },
  {
   "cell_type": "code",
   "execution_count": 79,
   "metadata": {
    "ExecuteTime": {
     "end_time": "2022-06-30T10:16:11.777994Z",
     "start_time": "2022-06-30T10:16:11.768113Z"
    }
   },
   "outputs": [],
   "source": [
    "train_dataloader = DataLoader(training_data, batch_size=64, shuffle=True)\n",
    "test_dataloader = DataLoader(test_data, batch_size=64, shuffle=True)"
   ]
  },
  {
   "cell_type": "code",
   "execution_count": 80,
   "metadata": {
    "ExecuteTime": {
     "end_time": "2022-06-30T10:16:12.054431Z",
     "start_time": "2022-06-30T10:16:11.846969Z"
    }
   },
   "outputs": [
    {
     "name": "stdout",
     "output_type": "stream",
     "text": [
      "Feature batch shape: torch.Size([64, 1, 28, 28])\n",
      "Labels batch sahep: torch.Size([64])\n"
     ]
    },
    {
     "data": {
      "image/png": "[encoded data removed]",
      "text/plain": [
       "<Figure size 432x288 with 1 Axes>"
      ]
     },
     "metadata": {
      "needs_background": "light"
     },
     "output_type": "display_data"
    },
    {
     "name": "stdout",
     "output_type": "stream",
     "text": [
      "Label: Shirt\n"
     ]
    }
   ],
   "source": [
    "# Display image and label\n",
    "train_features, train_labels = next(iter(train_dataloader))\n",
    "print(f\"Feature batch shape: {train_features.size()}\")\n",
    "print(f\"Labels batch sahep: {train_labels.size()}\")\n",
    "\n",
    "img = train_features[0].squeeze()\n",
    "label = train_labels[0]\n",
    "\n",
    "plt.imshow(img, cmap='gray')\n",
    "plt.show()\n",
    "print(f\"Label: {labels_map[label.item()]}\")"
   ]
  },
  {
   "cell_type": "code",
   "execution_count": 81,
   "metadata": {
    "ExecuteTime": {
     "end_time": "2022-06-30T10:16:12.142556Z",
     "start_time": "2022-06-30T10:16:12.134777Z"
    }
   },
   "outputs": [
    {
     "data": {
      "text/plain": [
       "tensor([0., 0., 0., 0., 0., 0., 1., 0., 0., 0.])"
      ]
     },
     "execution_count": 81,
     "metadata": {},
     "output_type": "execute_result"
    }
   ],
   "source": [
    "y = [2, 6, 3, 7, 8]\n",
    "\n",
    "torch.zeros(10, dtype=torch.float).scatter_(0, torch.tensor(6), value=1)"
   ]
  },
  {
   "cell_type": "code",
   "execution_count": 82,
   "metadata": {
    "ExecuteTime": {
     "end_time": "2022-06-30T10:16:31.229726Z",
     "start_time": "2022-06-30T10:16:31.217314Z"
    }
   },
   "outputs": [
    {
     "name": "stdout",
     "output_type": "stream",
     "text": [
      "Using cpu device\n"
     ]
    }
   ],
   "source": [
    "device = \"cuda\" if torch.cuda.is_available() else \"cpu\"\n",
    "print(f\"Using {device} device\")"
   ]
  },
  {
   "cell_type": "code",
   "execution_count": 83,
   "metadata": {
    "ExecuteTime": {
     "end_time": "2022-06-30T10:21:32.555536Z",
     "start_time": "2022-06-30T10:21:32.532774Z"
    }
   },
   "outputs": [],
   "source": [
    "class NeuralNetwork(nn.Module):\n",
    "    def __init__(self):\n",
    "        super(NeuralNetwork, self).__init__()\n",
    "        self.flatten = nn.Flatten()\n",
    "        self.linear_relu_stack = nn.Sequential(\n",
    "            nn.Linear(28 * 28, 512),\n",
    "            nn.ReLU(),\n",
    "            nn.Linear(512, 512),\n",
    "            nn.ReLU(),\n",
    "            nn.Linear(512, 10),\n",
    "        )\n",
    "    \n",
    "    \n",
    "    def forward(self, x):\n",
    "        x = self.flatten(x)\n",
    "        logits = self.linear_relu_stack(x)\n",
    "        return logits"
   ]
  },
  {
   "cell_type": "code",
   "execution_count": 84,
   "metadata": {
    "ExecuteTime": {
     "end_time": "2022-06-30T10:21:33.761177Z",
     "start_time": "2022-06-30T10:21:33.729567Z"
    }
   },
   "outputs": [
    {
     "name": "stdout",
     "output_type": "stream",
     "text": [
      "NeuralNetwork(\n",
      "  (flatten): Flatten(start_dim=1, end_dim=-1)\n",
      "  (linear_relu_stack): Sequential(\n",
      "    (0): Linear(in_features=784, out_features=512, bias=True)\n",
      "    (1): ReLU()\n",
      "    (2): Linear(in_features=512, out_features=512, bias=True)\n",
      "    (3): ReLU()\n",
      "    (4): Linear(in_features=512, out_features=10, bias=True)\n",
      "  )\n",
      ")\n"
     ]
    }
   ],
   "source": [
    "model = NeuralNetwork().to(device)\n",
    "print(model)"
   ]
  },
  {
   "cell_type": "code",
   "execution_count": 88,
   "metadata": {
    "ExecuteTime": {
     "end_time": "2022-06-30T10:24:08.224303Z",
     "start_time": "2022-06-30T10:24:08.200099Z"
    }
   },
   "outputs": [
    {
     "name": "stdout",
     "output_type": "stream",
     "text": [
      "tensor([[0.0918, 0.1010, 0.0983, 0.0997, 0.1012, 0.1082, 0.0957, 0.1025, 0.1021,\n",
      "         0.0995]], grad_fn=<SoftmaxBackward0>)\n",
      "Predicted class: tensor([5])\n"
     ]
    }
   ],
   "source": [
    "X = torch.rand(1, 28, 28, device=device)\n",
    "logits = model(X)\n",
    "pred_probab = nn.Softmax(dim=1)(logits)\n",
    "y_pred = pred_probab.argmax(1)\n",
    "print(pred_probab)\n",
    "print(f\"Predicted class: {y_pred}\")"
   ]
  },
  {
   "cell_type": "code",
   "execution_count": 96,
   "metadata": {
    "ExecuteTime": {
     "end_time": "2022-06-30T10:37:31.458552Z",
     "start_time": "2022-06-30T10:37:31.434623Z"
    }
   },
   "outputs": [
    {
     "data": {
      "text/plain": [
       "tensor(1.9978, grad_fn=<BinaryCrossEntropyWithLogitsBackward0>)"
      ]
     },
     "execution_count": 96,
     "metadata": {},
     "output_type": "execute_result"
    }
   ],
   "source": [
    "x = torch.ones(5)  # input tensor\n",
    "y = torch.zeros(3)  # expected output\n",
    "w = torch.randn(5, 3, requires_grad=True)\n",
    "b = torch.randn(3, requires_grad=True)\n",
    "z = torch.matmul(x, w)+b\n",
    "loss = torch.nn.functional.binary_cross_entropy_with_logits(z, y)\n",
    "loss"
   ]
  },
  {
   "cell_type": "code",
   "execution_count": 97,
   "metadata": {
    "ExecuteTime": {
     "end_time": "2022-06-30T10:40:58.432381Z",
     "start_time": "2022-06-30T10:40:58.410508Z"
    }
   },
   "outputs": [
    {
     "name": "stdout",
     "output_type": "stream",
     "text": [
      "tensor([[0.0734, 0.3282, 0.2637],\n",
      "        [0.0734, 0.3282, 0.2637],\n",
      "        [0.0734, 0.3282, 0.2637],\n",
      "        [0.0734, 0.3282, 0.2637],\n",
      "        [0.0734, 0.3282, 0.2637]])\n",
      "tensor([0.0734, 0.3282, 0.2637])\n"
     ]
    }
   ],
   "source": [
    "loss.backward()\n",
    "print(w.grad)\n",
    "print(b.grad)"
   ]
  },
  {
   "cell_type": "code",
   "execution_count": 98,
   "metadata": {
    "ExecuteTime": {
     "end_time": "2022-06-30T10:53:31.437267Z",
     "start_time": "2022-06-30T10:53:31.421197Z"
    }
   },
   "outputs": [
    {
     "data": {
      "text/plain": [
       "tensor(1.)"
      ]
     },
     "execution_count": 98,
     "metadata": {},
     "output_type": "execute_result"
    }
   ],
   "source": [
    "torch.tensor(1.0)"
   ]
  },
  {
   "cell_type": "code",
   "execution_count": 99,
   "metadata": {
    "ExecuteTime": {
     "end_time": "2022-06-30T10:54:42.832107Z",
     "start_time": "2022-06-30T10:54:42.822617Z"
    }
   },
   "outputs": [],
   "source": [
    "learning_rate = 1e-3\n",
    "batch_size = 64\n",
    "epochs = 5"
   ]
  },
  {
   "cell_type": "code",
   "execution_count": 100,
   "metadata": {
    "ExecuteTime": {
     "end_time": "2022-06-30T10:55:59.998281Z",
     "start_time": "2022-06-30T10:55:59.985278Z"
    }
   },
   "outputs": [],
   "source": [
    "optimizer = torch.optim.SGD(model.parameters(), lr=learning_rate)"
   ]
  },
  {
   "cell_type": "code",
   "execution_count": 101,
   "metadata": {
    "ExecuteTime": {
     "end_time": "2022-06-30T10:59:00.120152Z",
     "start_time": "2022-06-30T10:59:00.093804Z"
    }
   },
   "outputs": [],
   "source": [
    "def train_loop(dataloader, model, loss_fn, optimizer):\n",
    "    size = len(dataloader.dataset)\n",
    "    for batch, (X, y) in enumerate(dataloader):\n",
    "        # Compute prediction and loss\n",
    "        pred = model(X)\n",
    "        loss = loss_fn(pred, y)\n",
    "\n",
    "        # Backpropagation\n",
    "        optimizer.zero_grad()\n",
    "        loss.backward()\n",
    "        optimizer.step()\n",
    "\n",
    "        if batch % 100 == 0:\n",
    "            loss, current = loss.item(), batch * len(X)\n",
    "            print(f\"loss: {loss:>7f}  [{current:>5d}/{size:>5d}]\")\n",
    "            \n",
    "\n",
    "def test_loop(dataloader, model, loss_fn):\n",
    "    size = len(dataloader.dataset)\n",
    "    num_batches = len(dataloader)\n",
    "    test_loss, correct = 0, 0\n",
    "\n",
    "    with torch.no_grad():\n",
    "        for X, y in dataloader:\n",
    "            pred = model(X)\n",
    "            test_loss += loss_fn(pred, y).item()\n",
    "            correct += (pred.argmax(1) == y).type(torch.float).sum().item()\n",
    "\n",
    "    test_loss /= num_batches\n",
    "    correct /= size\n",
    "    print(f\"Test Error: \\n Accuracy: {(100*correct):>0.1f}%, Avg loss: {test_loss:>8f} \\n\")"
   ]
  },
  {
   "cell_type": "code",
   "execution_count": 102,
   "metadata": {
    "ExecuteTime": {
     "end_time": "2022-06-30T11:01:05.368521Z",
     "start_time": "2022-06-30T10:59:00.387766Z"
    }
   },
   "outputs": [
    {
     "name": "stdout",
     "output_type": "stream",
     "text": [
      "Epoch 1\n",
      "-------------------------------\n",
      "loss: 2.316215  [    0/60000]\n",
      "loss: 2.301243  [ 6400/60000]\n",
      "loss: 2.293474  [12800/60000]\n",
      "loss: 2.264749  [19200/60000]\n",
      "loss: 2.259216  [25600/60000]\n",
      "loss: 2.237661  [32000/60000]\n",
      "loss: 2.231282  [38400/60000]\n",
      "loss: 2.238293  [44800/60000]\n",
      "loss: 2.191226  [51200/60000]\n",
      "loss: 2.171384  [57600/60000]\n",
      "Test Error: \n",
      " Accuracy: 44.8%, Avg loss: 2.180024 \n",
      "\n",
      "Epoch 2\n",
      "-------------------------------\n",
      "loss: 2.164278  [    0/60000]\n",
      "loss: 2.165318  [ 6400/60000]\n",
      "loss: 2.145152  [12800/60000]\n",
      "loss: 2.127032  [19200/60000]\n",
      "loss: 2.115347  [25600/60000]\n",
      "loss: 2.106534  [32000/60000]\n",
      "loss: 2.075476  [38400/60000]\n",
      "loss: 1.982977  [44800/60000]\n",
      "loss: 2.038883  [51200/60000]\n",
      "loss: 1.993519  [57600/60000]\n",
      "Test Error: \n",
      " Accuracy: 56.0%, Avg loss: 1.947799 \n",
      "\n",
      "Epoch 3\n",
      "-------------------------------\n",
      "loss: 1.993181  [    0/60000]\n",
      "loss: 1.857754  [ 6400/60000]\n",
      "loss: 1.879774  [12800/60000]\n",
      "loss: 1.867149  [19200/60000]\n",
      "loss: 1.797088  [25600/60000]\n",
      "loss: 1.670297  [32000/60000]\n",
      "loss: 1.737094  [38400/60000]\n",
      "loss: 1.722504  [44800/60000]\n",
      "loss: 1.527754  [51200/60000]\n",
      "loss: 1.464387  [57600/60000]\n",
      "Test Error: \n",
      " Accuracy: 58.2%, Avg loss: 1.582761 \n",
      "\n",
      "Epoch 4\n",
      "-------------------------------\n",
      "loss: 1.491874  [    0/60000]\n",
      "loss: 1.559185  [ 6400/60000]\n",
      "loss: 1.585212  [12800/60000]\n",
      "loss: 1.499480  [19200/60000]\n",
      "loss: 1.537184  [25600/60000]\n",
      "loss: 1.338051  [32000/60000]\n",
      "loss: 1.387400  [38400/60000]\n",
      "loss: 1.358281  [44800/60000]\n",
      "loss: 1.241592  [51200/60000]\n",
      "loss: 1.314068  [57600/60000]\n",
      "Test Error: \n",
      " Accuracy: 62.5%, Avg loss: 1.297326 \n",
      "\n",
      "Epoch 5\n",
      "-------------------------------\n",
      "loss: 1.295521  [    0/60000]\n",
      "loss: 1.295033  [ 6400/60000]\n",
      "loss: 1.276799  [12800/60000]\n",
      "loss: 1.346220  [19200/60000]\n",
      "loss: 1.287783  [25600/60000]\n",
      "loss: 1.111671  [32000/60000]\n",
      "loss: 1.140836  [38400/60000]\n",
      "loss: 1.155080  [44800/60000]\n",
      "loss: 1.083508  [51200/60000]\n",
      "loss: 1.175509  [57600/60000]\n",
      "Test Error: \n",
      " Accuracy: 63.6%, Avg loss: 1.120849 \n",
      "\n",
      "Epoch 6\n",
      "-------------------------------\n",
      "loss: 1.037040  [    0/60000]\n",
      "loss: 1.083492  [ 6400/60000]\n",
      "loss: 1.214002  [12800/60000]\n",
      "loss: 1.200444  [19200/60000]\n",
      "loss: 1.067060  [25600/60000]\n",
      "loss: 1.093445  [32000/60000]\n",
      "loss: 1.003007  [38400/60000]\n",
      "loss: 1.016381  [44800/60000]\n",
      "loss: 1.051818  [51200/60000]\n",
      "loss: 0.973772  [57600/60000]\n",
      "Test Error: \n",
      " Accuracy: 65.0%, Avg loss: 1.008089 \n",
      "\n",
      "Epoch 7\n",
      "-------------------------------\n",
      "loss: 0.940859  [    0/60000]\n",
      "loss: 0.948776  [ 6400/60000]\n",
      "loss: 0.899432  [12800/60000]\n",
      "loss: 0.975636  [19200/60000]\n",
      "loss: 0.981345  [25600/60000]\n",
      "loss: 1.021730  [32000/60000]\n",
      "loss: 1.095420  [38400/60000]\n",
      "loss: 0.832416  [44800/60000]\n",
      "loss: 0.919733  [51200/60000]\n",
      "loss: 0.718588  [57600/60000]\n",
      "Test Error: \n",
      " Accuracy: 66.9%, Avg loss: 0.933899 \n",
      "\n",
      "Epoch 8\n",
      "-------------------------------\n",
      "loss: 0.869151  [    0/60000]\n",
      "loss: 0.923812  [ 6400/60000]\n",
      "loss: 0.728906  [12800/60000]\n",
      "loss: 0.907960  [19200/60000]\n",
      "loss: 0.879698  [25600/60000]\n",
      "loss: 0.820867  [32000/60000]\n",
      "loss: 0.888795  [38400/60000]\n",
      "loss: 0.879028  [44800/60000]\n",
      "loss: 0.753589  [51200/60000]\n",
      "loss: 0.864785  [57600/60000]\n",
      "Test Error: \n",
      " Accuracy: 67.9%, Avg loss: 0.876752 \n",
      "\n",
      "Epoch 9\n",
      "-------------------------------\n",
      "loss: 0.871954  [    0/60000]\n",
      "loss: 0.889047  [ 6400/60000]\n",
      "loss: 0.849227  [12800/60000]\n",
      "loss: 0.718475  [19200/60000]\n",
      "loss: 0.890405  [25600/60000]\n",
      "loss: 0.882264  [32000/60000]\n",
      "loss: 0.806663  [38400/60000]\n",
      "loss: 0.801298  [44800/60000]\n",
      "loss: 0.996949  [51200/60000]\n",
      "loss: 0.903912  [57600/60000]\n",
      "Test Error: \n",
      " Accuracy: 69.4%, Avg loss: 0.835305 \n",
      "\n",
      "Epoch 10\n",
      "-------------------------------\n",
      "loss: 0.809824  [    0/60000]\n",
      "loss: 0.812571  [ 6400/60000]\n",
      "loss: 0.646319  [12800/60000]\n",
      "loss: 0.911299  [19200/60000]\n",
      "loss: 0.768228  [25600/60000]\n",
      "loss: 0.800583  [32000/60000]\n",
      "loss: 0.697154  [38400/60000]\n",
      "loss: 0.931626  [44800/60000]\n",
      "loss: 0.735641  [51200/60000]\n",
      "loss: 0.762001  [57600/60000]\n",
      "Test Error: \n",
      " Accuracy: 70.5%, Avg loss: 0.799422 \n",
      "\n",
      "Done!\n"
     ]
    }
   ],
   "source": [
    "loss_fn = nn.CrossEntropyLoss()\n",
    "optimizer = torch.optim.SGD(model.parameters(), lr=learning_rate)\n",
    "\n",
    "epochs = 10\n",
    "for t in range(epochs):\n",
    "    print(f\"Epoch {t+1}\\n-------------------------------\")\n",
    "    train_loop(train_dataloader, model, loss_fn, optimizer)\n",
    "    test_loop(test_dataloader, model, loss_fn)\n",
    "print(\"Done!\")"
   ]
  },
  {
   "cell_type": "code",
   "execution_count": null,
   "metadata": {},
   "outputs": [],
   "source": []
  }
 ],
 "metadata": {
  "kernelspec": {
   "display_name": "Python [conda env:.conda-aml]",
   "language": "python",
   "name": "conda-env-.conda-aml-py"
  },
  "language_info": {
   "codemirror_mode": {
    "name": "ipython",
    "version": 3
   },
   "file_extension": ".py",
   "mimetype": "text/x-python",
   "name": "python",
   "nbconvert_exporter": "python",
   "pygments_lexer": "ipython3",
   "version": "3.8.13"
  },
  "toc": {
   "base_numbering": 1,
   "nav_menu": {},
   "number_sections": true,
   "sideBar": true,
   "skip_h1_title": false,
   "title_cell": "Table of Contents",
   "title_sidebar": "Contents",
   "toc_cell": false,
   "toc_position": {},
   "toc_section_display": true,
   "toc_window_display": true
  },
  "varInspector": {
   "cols": {
    "lenName": 16,
    "lenType": 16,
    "lenVar": 40
   },
   "kernels_config": {
    "python": {
     "delete_cmd_postfix": "",
     "delete_cmd_prefix": "del ",
     "library": "var_list.py",
     "varRefreshCmd": "print(var_dic_list())"
    },
    "r": {
     "delete_cmd_postfix": ") ",
     "delete_cmd_prefix": "rm(",
     "library": "var_list.r",
     "varRefreshCmd": "cat(var_dic_list()) "
    }
   },
   "position": {
    "height": "301.85px",
    "left": "1166px",
    "right": "20px",
    "top": "120px",
    "width": "350px"
   },
   "types_to_exclude": [
    "module",
    "function",
    "builtin_function_or_method",
    "instance",
    "_Feature"
   ],
   "window_display": false
  }
 },
 "nbformat": 4,
 "nbformat_minor": 1
}
