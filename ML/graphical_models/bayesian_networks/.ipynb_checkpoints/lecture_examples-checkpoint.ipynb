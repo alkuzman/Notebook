{
 "cells": [
  {
   "cell_type": "code",
   "execution_count": 119,
   "id": "833aa7b7-f575-46dd-87cf-8e5d3c7b7e39",
   "metadata": {
    "ExecuteTime": {
     "end_time": "2022-05-20T12:16:38.106003Z",
     "start_time": "2022-05-20T12:16:38.101985Z"
    }
   },
   "outputs": [],
   "source": [
    "import numpy as np\n",
    "\n",
    "from matplotlib import pyplot as plt\n",
    "import networkx as nx\n",
    "\n",
    "from pgmpy.factors.discrete import DiscreteFactor\n",
    "from pgmpy.factors.discrete.CPD import TabularCPD\n",
    "from pgmpy.inference import BeliefPropagation\n",
    "from pgmpy.models import BayesianNetwork, MarkovModel"
   ]
  },
  {
   "cell_type": "code",
   "execution_count": 102,
   "id": "4ba32a64-b772-424b-a0be-1bea3cd9ae56",
   "metadata": {
    "ExecuteTime": {
     "end_time": "2022-05-20T11:36:05.111314Z",
     "start_time": "2022-05-20T11:36:05.107932Z"
    }
   },
   "outputs": [],
   "source": [
    "def plot_graph(G, ax):\n",
    "    pos = nx.nx_agraph.graphviz_layout(\n",
    "        G, prog=\"dot\"\n",
    "    )  # graphviz layout `dot` which supports tree like structured graphs\n",
    "    r = nx.draw_networkx(G,\n",
    "                         ax=ax,\n",
    "                         pos=pos,\n",
    "                         arrows=True,\n",
    "                         node_shape=\"o\",\n",
    "                         node_color='white',\n",
    "                         node_size=2000,\n",
    "                         edgecolors='red',\n",
    "                         width=2,\n",
    "                         linewidths=2)"
   ]
  },
  {
   "cell_type": "markdown",
   "id": "97e18515",
   "metadata": {},
   "source": [
    "\n",
    "# Bayesian Graphical Models"
   ]
  },
  {
   "cell_type": "code",
   "execution_count": 103,
   "id": "f39f96bd",
   "metadata": {
    "ExecuteTime": {
     "end_time": "2022-05-20T11:36:05.606463Z",
     "start_time": "2022-05-20T11:36:05.474785Z"
    }
   },
   "outputs": [
    {
     "data": {
      "image/png": "[encoded data removed]",
      "text/plain": [
       "<Figure size 432x288 with 1 Axes>"
      ]
     },
     "metadata": {},
     "output_type": "display_data"
    }
   ],
   "source": [
    "model = BayesianNetwork()\n",
    "\"\"\"\n",
    "Build the model adding nodes.\n",
    "You can use `add_edges_from` function for this\n",
    "\"\"\"\n",
    "\n",
    "model.add_nodes_from(['a', 'b'])\n",
    "model.add_edge('a', 'b')\n",
    "plot_graph(model, ax=plt.subplot(111))\n",
    "plt.tight_layout()\n",
    "plt.show()"
   ]
  },
  {
   "cell_type": "markdown",
   "id": "b9485d8d",
   "metadata": {},
   "source": [
    "## Holmes's Lawn Example"
   ]
  },
  {
   "cell_type": "code",
   "execution_count": 104,
   "id": "9d53a40a",
   "metadata": {
    "ExecuteTime": {
     "end_time": "2022-05-20T11:36:06.495012Z",
     "start_time": "2022-05-20T11:36:06.357370Z"
    }
   },
   "outputs": [
    {
     "data": {
      "image/png": "[encoded data removed]",
      "text/plain": [
       "<Figure size 432x288 with 1 Axes>"
      ]
     },
     "metadata": {},
     "output_type": "display_data"
    }
   ],
   "source": [
    "sl_model = BayesianNetwork()\n",
    "\"\"\"\n",
    "Build the model adding nodes.\n",
    "You can use `add_edges_from` function for this\n",
    "\"\"\"\n",
    "\n",
    "sl_model.add_nodes_from(['R', 'S', 'NL', 'HL'])\n",
    "sl_model.add_edge('R', 'NL')\n",
    "sl_model.add_edge('R', 'HL')\n",
    "sl_model.add_edge('S', 'HL')\n",
    "\n",
    "plot_graph(sl_model, plt.subplot(111))\n",
    "plt.tight_layout()\n",
    "plt.show()"
   ]
  },
  {
   "cell_type": "markdown",
   "id": "26de64ee",
   "metadata": {},
   "source": [
    "### Cloudy"
   ]
  },
  {
   "cell_type": "code",
   "execution_count": 105,
   "id": "b44a8b57",
   "metadata": {
    "ExecuteTime": {
     "end_time": "2022-05-20T11:36:06.851257Z",
     "start_time": "2022-05-20T11:36:06.839121Z"
    }
   },
   "outputs": [
    {
     "data": {
      "text/plain": [
       "True"
      ]
     },
     "execution_count": 105,
     "metadata": {},
     "output_type": "execute_result"
    }
   ],
   "source": [
    "csl_model = BayesianNetwork()\n",
    "\"\"\"\n",
    "Build the model adding nodes.\n",
    "You can use `add_edges_from` function for this\n",
    "\"\"\"\n",
    "\n",
    "csl_model.add_nodes_from(['C', 'S', 'R', 'W'])\n",
    "csl_model.add_edge('C', 'S')\n",
    "csl_model.add_edge('C', 'R')\n",
    "csl_model.add_edge('S', 'W')\n",
    "csl_model.add_edge('R', 'W')\n",
    "\n",
    "C = TabularCPD(variable='C',\n",
    "               variable_card=2,\n",
    "               values=[[0.5], [0.5]],\n",
    "               state_names={'C': [False, True]})\n",
    "S = TabularCPD(variable='S',\n",
    "               variable_card=2,\n",
    "               evidence=['C'],\n",
    "               evidence_card=[2],\n",
    "               values=[[0.5, 0.9], [0.5, 0.1]],\n",
    "               state_names={\n",
    "                   'S': [False, True],\n",
    "                   'C': [False, True]\n",
    "               })\n",
    "R = TabularCPD(variable='R',\n",
    "               variable_card=2,\n",
    "               evidence=['C'],\n",
    "               evidence_card=[2],\n",
    "               values=[[0.8, 0.2], [0.2, 0.8]],\n",
    "               state_names={\n",
    "                   'R': [False, True],\n",
    "                   'C': [False, True]\n",
    "               })\n",
    "W = TabularCPD(variable='W',\n",
    "               variable_card=2,\n",
    "               evidence=['R', 'S'],\n",
    "               evidence_card=[2, 2],\n",
    "               values=[[1.0, 0.1, 0.1, 0.01], [0.0, 0.9, 0.9, 0.99]],\n",
    "               state_names={\n",
    "                   'W': [False, True],\n",
    "                   'R': [False, True],\n",
    "                   'S': [False, True]\n",
    "               })\n",
    "\n",
    "csl_model.add_cpds(C, S, R, W)\n",
    "csl_model.add_\n",
    "\n",
    "csl_model.check_model()"
   ]
  },
  {
   "cell_type": "code",
   "execution_count": 106,
   "id": "253d5e75",
   "metadata": {
    "ExecuteTime": {
     "end_time": "2022-05-20T11:36:07.216928Z",
     "start_time": "2022-05-20T11:36:07.060789Z"
    }
   },
   "outputs": [
    {
     "data": {
      "image/png": "[encoded data removed]",
      "text/plain": [
       "<Figure size 432x288 with 1 Axes>"
      ]
     },
     "metadata": {},
     "output_type": "display_data"
    }
   ],
   "source": [
    "plot_graph(csl_model, ax=plt.subplot(111))\n",
    "plt.tight_layout()\n",
    "plt.show()"
   ]
  },
  {
   "cell_type": "code",
   "execution_count": 107,
   "id": "b0d1b0f0",
   "metadata": {
    "ExecuteTime": {
     "end_time": "2022-05-20T11:36:07.350542Z",
     "start_time": "2022-05-20T11:36:07.342349Z"
    }
   },
   "outputs": [],
   "source": [
    "csl_belief_propagation = BeliefPropagation(csl_model)"
   ]
  },
  {
   "cell_type": "code",
   "execution_count": 108,
   "id": "a9ad8a60",
   "metadata": {
    "ExecuteTime": {
     "end_time": "2022-05-20T11:36:07.985757Z",
     "start_time": "2022-05-20T11:36:07.947965Z"
    }
   },
   "outputs": [
    {
     "data": {
      "application/vnd.jupyter.widget-view+json": {
       "model_id": "dfdad5c25aaf4388bd9bd097f5f11e51",
       "version_major": 2,
       "version_minor": 0
      },
      "text/plain": [
       "0it [00:00, ?it/s]"
      ]
     },
     "metadata": {},
     "output_type": "display_data"
    },
    {
     "name": "stdout",
     "output_type": "stream",
     "text": [
      "+----------+----------+----------+--------------+\n",
      "| R        | S        | W        |   phi(R,S,W) |\n",
      "+==========+==========+==========+==============+\n",
      "| R(False) | S(False) | W(False) |       0.1800 |\n",
      "+----------+----------+----------+--------------+\n",
      "| R(False) | S(False) | W(True)  |       0.0000 |\n",
      "+----------+----------+----------+--------------+\n",
      "| R(False) | S(True)  | W(False) |       0.0020 |\n",
      "+----------+----------+----------+--------------+\n",
      "| R(False) | S(True)  | W(True)  |       0.0180 |\n",
      "+----------+----------+----------+--------------+\n",
      "| R(True)  | S(False) | W(False) |       0.0720 |\n",
      "+----------+----------+----------+--------------+\n",
      "| R(True)  | S(False) | W(True)  |       0.6480 |\n",
      "+----------+----------+----------+--------------+\n",
      "| R(True)  | S(True)  | W(False) |       0.0008 |\n",
      "+----------+----------+----------+--------------+\n",
      "| R(True)  | S(True)  | W(True)  |       0.0792 |\n",
      "+----------+----------+----------+--------------+\n"
     ]
    }
   ],
   "source": [
    "print(\n",
    "    csl_belief_propagation.query(variables=['W', 'S', 'R'],\n",
    "                                 evidence={'C': True}))"
   ]
  },
  {
   "cell_type": "markdown",
   "id": "31b00de4",
   "metadata": {},
   "source": [
    "## Joint Probability Factorization"
   ]
  },
  {
   "cell_type": "code",
   "execution_count": 118,
   "id": "c87c0344",
   "metadata": {
    "ExecuteTime": {
     "end_time": "2022-05-20T12:10:18.523615Z",
     "start_time": "2022-05-20T12:10:18.332529Z"
    }
   },
   "outputs": [
    {
     "data": {
      "image/png": "[encoded data removed]",
      "text/plain": [
       "<Figure size 432x288 with 1 Axes>"
      ]
     },
     "metadata": {},
     "output_type": "display_data"
    }
   ],
   "source": [
    "model = BayesianNetwork()\n",
    "\"\"\"\n",
    "Build the model adding nodes.\n",
    "You can use `add_edges_from` function for this\n",
    "\"\"\"\n",
    "\n",
    "model.add_nodes_from(\n",
    "    ['$x_1$', '$x_2$', '$x_3$', '$x_4$', '$x_5$', '$x_6$', '$x_7$'])\n",
    "model.add_edge('$x_1$', '$x_4$')\n",
    "model.add_edge('$x_1$', '$x_5$')\n",
    "model.add_edge('$x_2$', '$x_4$')\n",
    "model.add_edge('$x_3$', '$x_4$')\n",
    "model.add_edge('$x_3$', '$x_5$')\n",
    "model.add_edge('$x_4$', '$x_6$')\n",
    "model.add_edge('$x_4$', '$x_7$')\n",
    "model.add_edge('$x_5$', '$x_7$')\n",
    "\n",
    "plot_graph(model, ax=plt.subplot(111))\n",
    "plt.tight_layout()\n",
    "plt.show()"
   ]
  },
  {
   "cell_type": "markdown",
   "id": "bb0686d5",
   "metadata": {},
   "source": [
    "\\begin{equation}\n",
    "p(x_1,x_2,x_3,x_4,x_5,x_6,x_7) = p(x_1)p(x_2)p(x_3)p(x_4|x_1,x_2,x_3)p(x_5|x_1,x_3)p(x_6|x_4)p(x_7|x_4,x_5)\n",
    "\\end{equation}\n",
    "General factorization\n",
    "\\begin{equation}\n",
    "p(\\mathbf{x})=\\prod_{k=1}^K p(x_k|pa_k)\n",
    "\\end{equation}"
   ]
  },
  {
   "cell_type": "code",
   "execution_count": null,
   "id": "6510b3dd",
   "metadata": {},
   "outputs": [],
   "source": []
  }
 ],
 "metadata": {
  "kernelspec": {
   "display_name": "Python 3",
   "language": "python",
   "name": "python3"
  },
  "language_info": {
   "codemirror_mode": {
    "name": "ipython",
    "version": 3
   },
   "file_extension": ".py",
   "mimetype": "text/x-python",
   "name": "python",
   "nbconvert_exporter": "python",
   "pygments_lexer": "ipython3",
   "version": "3.7.13"
  },
  "notify_time": "5",
  "toc": {
   "base_numbering": 1,
   "nav_menu": {},
   "number_sections": true,
   "sideBar": true,
   "skip_h1_title": false,
   "title_cell": "Table of Contents",
   "title_sidebar": "Contents",
   "toc_cell": false,
   "toc_position": {
    "height": "calc(100% - 180px)",
    "left": "10px",
    "top": "150px",
    "width": "384px"
   },
   "toc_section_display": true,
   "toc_window_display": true
  },
  "varInspector": {
   "cols": {
    "lenName": 16,
    "lenType": 16,
    "lenVar": 40
   },
   "kernels_config": {
    "python": {
     "delete_cmd_postfix": "",
     "delete_cmd_prefix": "del ",
     "library": "var_list.py",
     "varRefreshCmd": "print(var_dic_list())"
    },
    "r": {
     "delete_cmd_postfix": ") ",
     "delete_cmd_prefix": "rm(",
     "library": "var_list.r",
     "varRefreshCmd": "cat(var_dic_list()) "
    }
   },
   "position": {
    "height": "380.85px",
    "left": "1546px",
    "right": "20px",
    "top": "123px",
    "width": "343px"
   },
   "types_to_exclude": [
    "module",
    "function",
    "builtin_function_or_method",
    "instance",
    "_Feature"
   ],
   "window_display": true
  },
  "widgets": {
   "application/vnd.jupyter.widget-state+json": {
    "state": {},
    "version_major": 2,
    "version_minor": 0
   }
  }
 },
 "nbformat": 4,
 "nbformat_minor": 5
}
