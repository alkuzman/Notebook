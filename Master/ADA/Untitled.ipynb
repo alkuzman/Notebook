{
 "cells": [
  {
   "cell_type": "markdown",
   "metadata": {},
   "source": [
    "# CheatSheet"
   ]
  },
  {
   "cell_type": "markdown",
   "metadata": {},
   "source": [
    "## Linear Models\n",
    "### Multivariate Normal Distribution"
   ]
  },
  {
   "cell_type": "markdown",
   "metadata": {},
   "source": [
    "#### I.2.1 Univariate Normal Distribution"
   ]
  },
  {
   "cell_type": "markdown",
   "metadata": {},
   "source": [
    "#### I.2.2\n",
    "Let $ Z_1,...,Z_k \\overset{iid}{\\sim} \\mathcal{N}(0, 1) $, $ \\textbf{Z} = (Z_1,...,Z_k)`$, and $ \\boldsymbol{\\mu} \\in \\mathbb{R}^p$, $ A \\in \\mathbb{R}^{p \\times k} $ Then:\n",
    "* $Z$ has **k-dimensional standard normal distribution** (for short $ \\textbf{Z} \\sim \\mathcal{N}_k(0, I_k) $)\n",
    "* $X$"
   ]
  }
 ],
 "metadata": {
  "kernelspec": {
   "display_name": "Python 3",
   "language": "python",
   "name": "python3"
  },
  "language_info": {
   "codemirror_mode": {
    "name": "ipython",
    "version": 3
   },
   "file_extension": ".py",
   "mimetype": "text/x-python",
   "name": "python",
   "nbconvert_exporter": "python",
   "pygments_lexer": "ipython3",
   "version": "3.7.7"
  },
  "widgets": {
   "application/vnd.jupyter.widget-state+json": {
    "state": {},
    "version_major": 2,
    "version_minor": 0
   }
  }
 },
 "nbformat": 4,
 "nbformat_minor": 4
}
