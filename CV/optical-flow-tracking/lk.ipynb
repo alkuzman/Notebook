{
 "cells": [
  {
   "cell_type": "code",
   "execution_count": 1,
   "metadata": {},
   "outputs": [],
   "source": [
    "import numpy as np\n",
    "import matplotlib.pyplot as plt\n",
    "import imageio\n",
    "import cv2\n",
    "from scipy import ndimage\n",
    "from scipy import stats\n",
    "import os\n",
    "import sys\n",
    "sys.path.append('..')\n",
    "import cvutils as cvu\n",
    "import math\n",
    "from scipy import interpolate\n",
    "import time\n",
    "from scipy.interpolate import griddata\n",
    "from numba import jit"
   ]
  },
  {
   "cell_type": "code",
   "execution_count": 2,
   "metadata": {},
   "outputs": [],
   "source": [
    "plt.rcParams['figure.figsize'] = (10, 10)"
   ]
  },
  {
   "cell_type": "markdown",
   "metadata": {},
   "source": [
    "# Lukas Kanade\n",
    "\n",
    "### Gaussian Derivatives\n",
    "We need the derivatives to find the direction of the optical flow. [See this notebook for more details](../local-filters/gaussian.ipynb). We use `cvu` library to access the functions we need"
   ]
  },
  {
   "cell_type": "code",
   "execution_count": 3,
   "metadata": {},
   "outputs": [],
   "source": [
    "def warp_image(im, u, v, xx, yy):\n",
    "    xx = xx + u\n",
    "    yy = yy + v\n",
    "    return interp2(im, xx, yy)\n",
    "\n",
    "def interp2(im, xx, yy):\n",
    "    h, w = im.shape\n",
    "    interp_spline = interpolate.RectBivariateSpline(np.arange(h), np.arange(w), im)\n",
    "    ww, hh = xx.shape\n",
    "    print(ww, hh)\n",
    "    x = np.linspace(np.min(xx), np.max(xx) + 1, hh)\n",
    "    y = np.linspace(np.min(yy), np.max(yy) + 1, ww)\n",
    "    res = interp_spline(y, x)\n",
    "    return res\n",
    "\n",
    "def draw_rectangle(im, rect):\n",
    "    (x1, y1), (x2, y2) = rect\n",
    "    res = im.copy()\n",
    "    res[y1, np.arange(x1, (x2+1)), :] = [0, 0, 255]\n",
    "    res[y2, np.arange(x1, (x2+1)), :] = [0, 0, 255]\n",
    "    res[np.arange(y1, (y2+1)), x1, :] = [0, 0, 255]\n",
    "    res[np.arange(y1, (y2+1)), x2, :] = [0, 0, 255]\n",
    "    return res"
   ]
  },
  {
   "cell_type": "markdown",
   "metadata": {},
   "source": [
    "# Lucas Kanade"
   ]
  },
  {
   "cell_type": "code",
   "execution_count": 4,
   "metadata": {},
   "outputs": [],
   "source": [
    "def lk_small(im1, im2, Ix_interp, Iy_interp, It_interp, window_size=5):\n",
    "    height, width = im1.shape\n",
    "    u = np.zeros_like(im1)\n",
    "    v = np.zeros_like(im2)\n",
    "    ws_half = np.int(window_size / 2)\n",
    "    for i in range(width):\n",
    "        row_indices = np.arange(max(i - ws_half, 0), min(i + ws_half + 1, width))\n",
    "        for j in range(height):\n",
    "            column_indices = np.arange(max(j - ws_half, 0), min(j + ws_half + 1, height))\n",
    "            Ix_win = Ix_interp(column_indices, row_indices).reshape((-1, 1))\n",
    "            Iy_win = Iy_interp(column_indices, row_indices).reshape((-1, 1))\n",
    "            It_win = It_interp(column_indices, row_indices).reshape((-1))\n",
    "            A = np.hstack((Ix_win, Iy_win))\n",
    "            b = -It_win\n",
    "            \n",
    "            d = np.linalg.lstsq(A, b)[0]\n",
    "            u[j, i] = d[0]\n",
    "            v[j, i] = d[1]\n",
    "            \n",
    "    return u, v\n",
    "\n",
    "\n",
    "def lucas_kanade(im1, im2, window_size=5, sigma = 1):\n",
    "    height, width = im1.shape\n",
    "    y, x = np.arange(height), np.arange(width)\n",
    "    \n",
    "    u = np.zeros_like(im1)\n",
    "    v = np.zeros_like(im2)\n",
    "    Ix, Iy = cvu.gauss_deriv_filter(im1, sigma)\n",
    "    Ix_interp = interpolate.RectBivariateSpline(y, x, Ix)\n",
    "    Iy_interp = interpolate.RectBivariateSpline(y, x, Iy)\n",
    "    \n",
    "    It = cvu.gauss_smooth_filter(im2, sigma) - cvu.gauss_smooth_filter(im1, sigma)\n",
    "    It_interp = interpolate.RectBivariateSpline(y, x, It)\n",
    "    \n",
    "#     for i in range(width):\n",
    "#         row_indices = np.arange(max(i - ws_half, 0), min(i + ws_half + 1, width))\n",
    "#         for j in range(height):\n",
    "#             column_indices = np.arange(max(j - ws_half, 0), min(j + ws_half + 1, height))\n",
    "#             Ix_win = Ix_interp(column_indices, row_indices).reshape((-1, 1))\n",
    "#             Iy_win = Iy_interp(column_indices, row_indices).reshape((-1, 1))\n",
    "#             It_win = It_interp(column_indices, row_indices).reshape((-1))\n",
    "#             A = np.hstack((Ix_win, Iy_win))\n",
    "#             b = -It_win\n",
    "            \n",
    "#             d = np.linalg.lstsq(A, b)[0]\n",
    "#             u[j, i] = d[0]\n",
    "#             v[j, i] = d[1]\n",
    "    \n",
    "#     return u, v\n",
    "    return lk_small(im1, im2, Ix_interp, Iy_interp, It_interp, window_size)"
   ]
  },
  {
   "cell_type": "code",
   "execution_count": 5,
   "metadata": {},
   "outputs": [
    {
     "name": "stderr",
     "output_type": "stream",
     "text": [
      "/home/aleks/.conda/envs/cv2021/lib/python3.6/site-packages/ipykernel_launcher.py:16: FutureWarning: `rcond` parameter will change to the default of machine precision times ``max(M, N)`` where M and N are the input matrix dimensions.\n",
      "To use the future default and silence this warning we advise to pass `rcond=None`, to keep using the old, explicitly pass `rcond=-1`.\n",
      "  app.launch_new_instance()\n"
     ]
    },
    {
     "name": "stdout",
     "output_type": "stream",
     "text": [
      "CPU times: user 23.9 s, sys: 12.1 ms, total: 23.9 s\n",
      "Wall time: 24 s\n"
     ]
    },
    {
     "data": {
      "text/plain": [
       "(array([[-0.87729377,  0.13610645,  0.20062475, ...,  0.03568921,\n",
       "          0.03646551,  0.03832131],\n",
       "        [-0.3238559 ,  0.06859834,  0.18568963, ...,  0.02425791,\n",
       "          0.02681748,  0.03288487],\n",
       "        [ 0.26725832,  0.2695329 ,  0.19302419, ...,  0.0373462 ,\n",
       "          0.05668979,  0.09157817],\n",
       "        ...,\n",
       "        [ 1.4720231 ,  1.3709668 ,  1.3451769 , ..., -0.1463011 ,\n",
       "         -0.11070872, -0.00563199],\n",
       "        [ 0.37461257,  0.29426238,  0.19594777, ..., -0.07942375,\n",
       "         -0.10088883, -0.07044145],\n",
       "        [ 0.23740785,  0.18414333, -0.09971307, ..., -0.05329672,\n",
       "         -0.07812724, -0.06551766]], dtype=float32),\n",
       " array([[ 0.1150495 ,  0.16344965,  0.16919759, ..., -0.15108292,\n",
       "         -0.08819071,  0.08358338],\n",
       "        [ 0.14495553,  0.17498465,  0.18833737, ...,  0.056097  ,\n",
       "          0.10883509,  0.22639754],\n",
       "        [ 0.15853685,  0.18267709,  0.19042805, ...,  0.0838266 ,\n",
       "          0.02128884, -0.1565484 ],\n",
       "        ...,\n",
       "        [ 0.06044991,  0.05992878,  0.05620398, ...,  5.8794594 ,\n",
       "          2.643665  ,  4.7189784 ],\n",
       "        [ 0.03729113,  0.03537617,  0.03252864, ...,  6.512638  ,\n",
       "          2.940493  ,  1.8644668 ],\n",
       "        [ 0.0397942 ,  0.03684983,  0.0306639 , ...,  6.493659  ,\n",
       "          3.0592873 ,  1.977851  ]], dtype=float32))"
      ]
     },
     "execution_count": 5,
     "metadata": {},
     "output_type": "execute_result"
    }
   ],
   "source": [
    "im1ex = cv2.imread(\"./sequence-01/0150.jpg\", cv2.IMREAD_GRAYSCALE).astype(np.float32)\n",
    "im2ex = cv2.imread(\"./sequence-01/0151.jpg\", cv2.IMREAD_GRAYSCALE).astype(np.float32)\n",
    "%time lucas_kanade(im1ex, im2ex)"
   ]
  },
  {
   "cell_type": "code",
   "execution_count": 6,
   "metadata": {},
   "outputs": [],
   "source": [
    "def lk_apply(in_stream, out_stream):\n",
    "    with in_stream as stream, out_stream as ostream:\n",
    "        for i in range(100):\n",
    "            # Ignoring the first 100 frames since nothing happens in them\n",
    "            next(stream)\n",
    "        _, frame = next(stream)\n",
    "        prev_frame = np.mean(frame, 2)\n",
    "#         prev_frame = cv2.cvtColor(frame, cv2.COLOR_BGR2GRAY)\n",
    "        for _, frame in stream:\n",
    "            curr_frame = np.mean(frame, 2)\n",
    "#             curr_frame = cv2.cvtColor(frame, cv2.COLOR_BGR2GRAY)\n",
    "            \n",
    "            u, v = lucas_kanade(prev_frame, curr_frame)\n",
    "            prev_frame = curr_frame\n",
    "            \n",
    "            u_c = cv2.cvtColor(u.astype('uint8'), cv2.COLOR_GRAY2BGR)\n",
    "            v_c = cv2.cvtColor(v.astype('uint8'), cv2.COLOR_GRAY2BGR)\n",
    "            ostream([frame, u_c, v_c], (1, 3))"
   ]
  },
  {
   "cell_type": "code",
   "execution_count": 9,
   "metadata": {},
   "outputs": [
    {
     "name": "stderr",
     "output_type": "stream",
     "text": [
      "/home/aleks/.conda/envs/cv2021/lib/python3.6/site-packages/ipykernel_launcher.py:16: FutureWarning: `rcond` parameter will change to the default of machine precision times ``max(M, N)`` where M and N are the input matrix dimensions.\n",
      "To use the future default and silence this warning we advise to pass `rcond=None`, to keep using the old, explicitly pass `rcond=-1`.\n",
      "  app.launch_new_instance()\n"
     ]
    }
   ],
   "source": [
    "lk_apply(cvu.dir_stream(\"./sequence-01\", wait_key=50, scale=0.2), cvu.window_stream())"
   ]
  },
  {
   "cell_type": "markdown",
   "metadata": {},
   "source": [
    "# Lucas Kanade for Single Object Tracking"
   ]
  },
  {
   "cell_type": "code",
   "execution_count": null,
   "metadata": {},
   "outputs": [],
   "source": [
    "def lucas_kanade_template_tracking(prev_template, curr_template):\n",
    "    sigma = 1\n",
    "    Ix, Iy = gaussderiv(prev_template, sigma)\n",
    "    It = gaussianfilter(curr_template, sigma) - gaussianfilter(prev_template, sigma)\n",
    "    Ixy, Ixx, Iyy = np.sum(np.multiply(Ix, Iy)), np.sum(np.multiply(Ix, Ix)), np.sum(np.multiply(Iy, Iy))\n",
    "    Ixt, Iyt = np.sum(np.multiply(Ix, It)), np.sum(np.multiply(Iy, It))\n",
    "    A = np.array([[Ixx, Ixy], [Ixy, Iyy]])\n",
    "    b = np.array([[Ixt], [Iyt]]) * (-1)\n",
    "    \n",
    "    d = np.linalg.lstsq(A, b)[0]\n",
    "    \n",
    "    return d"
   ]
  },
  {
   "cell_type": "code",
   "execution_count": null,
   "metadata": {},
   "outputs": [],
   "source": [
    "def lucas_kanade_tracking(in_stream, out_stream, win2track):\n",
    "    top_left = win2track[0]\n",
    "    bottom_right = win2track[1]\n",
    "    \n",
    "    dims = bottom_right - top_left\n",
    "    # half_dims = (dims/2).astype(np.int)\n",
    "    # center = (np.round(dims/2 + bottom_left)).astype(np.int)\n",
    "    \n",
    "    # Template window relative pixel positions\n",
    "    # gridxx, gridyy = np.meshgrid(np.arange(-half_dims[0],half_dims[0] + 1),np.arange(-half_dims[1],half_dims[1] + 1))\n",
    "    \n",
    "    # Template window absolute pixel positions\n",
    "    # xx = gridxx + center[0]\n",
    "    # yy = gridyy + center[1]\n",
    "    xx = np.arange(top_left[0], bottom_right[0] + 1)\n",
    "    yy = np.arange(top_left[1], bottom_right[1] + 1)\n",
    "\n",
    "    with in_stream as stream, out_stream as ostream:\n",
    "        ret, prev_frame = next(stream)\n",
    "        height, width, _ = prev_frame.shape\n",
    "        x, y = np.arange(width), np.arange(height)\n",
    "        prev_im = np.mean(prev_frame, axis=2)\n",
    "        prev_interp = interpolate.RectBivariateSpline(y, x, prev_im)\n",
    "        for ret, frame in stream:\n",
    "            curr_im = np.mean(frame, axis=2)\n",
    "            curr_interp = interpolate.RectBivariateSpline(y, x, curr_im)\n",
    "            prev_template = prev_interp(yy, xx)\n",
    "            curr_template = curr_interp(yy, xx)\n",
    "            \n",
    "            u, v = lucas_kanade_template_tracking(prev_template, curr_template)\n",
    "            total_u, total_v = u, v\n",
    "            \n",
    "            # Iteratively computing optical flow (LK Refinement steps)\n",
    "            # here: no convergence criterion, we always run 10 iterations\n",
    "            for i in range(10):\n",
    "                xx_u = xx + total_u\n",
    "                yy_v = yy + total_v\n",
    "                template_w = prev_interp(yy_v, xx_u)\n",
    "                u, v = lucas_kanade_template_tracking(template_w, curr_template)\n",
    "                \n",
    "                # Hint: When alternatingly warping and estimating the flow,\n",
    "                # small errors in either of these steps will propagate through \n",
    "                # the rest of the process. In order to prevent warping errors from \n",
    "                # propagating, you should not update your warped version of the \n",
    "                # image in each step by iteratively warping it with each flow field\n",
    "                # you compute. Instead, you should first add your flow field to the\n",
    "                # accumulated flow, and then apply the accumulated flow to the \n",
    "                # original image. This way, flow estimation will be more stable.\n",
    "                total_u = total_u + u;\n",
    "                total_v = total_v + v;\n",
    "                \n",
    "            # Adding flow to pixels in the win2track\n",
    "            xx = xx + total_u;\n",
    "            yy = yy + total_v;\n",
    "            \n",
    "            # Computing the template postion in next image\n",
    "            # min(min()) gives minimal x/y coordinate + template width / height\n",
    "            x1 = np.int(np.min(xx))\n",
    "            y1 = np.int(np.min(yy))\n",
    "            x2 = x1 + dims[0]\n",
    "            y2 = y1 + dims[1]\n",
    "            #rect = np.array([[x1, y1], [x2, y2]]);\n",
    "            \n",
    "            color = (0, 0, 255) \n",
    "            res_im = cv2.rectangle(frame, (x1, y1), (x2, y2), color=color, thickness=2) \n",
    "            #res_im = draw_rectangle(frame, rect)\n",
    "            \n",
    "            prev_interp = curr_interp\n",
    "            \n",
    "            ostream([res_im], [1, 1])"
   ]
  },
  {
   "cell_type": "code",
   "execution_count": null,
   "metadata": {},
   "outputs": [],
   "source": [
    "win2track = np.array([\n",
    "    [294,251],\n",
    "    [328,279]\n",
    "])\n",
    "lucas_kanade_tracking(cvu.dir_stream(\"./sequence-02\", wait_key=1), cvu.window_stream(), win2track)"
   ]
  },
  {
   "cell_type": "code",
   "execution_count": null,
   "metadata": {},
   "outputs": [],
   "source": [
    "def lucas_kanade_tracking2(in_stream, out_stream, win2track):\n",
    "    top_left = win2track[0]\n",
    "    bottom_right = win2track[1]\n",
    "    \n",
    "    dims = bottom_right - top_left\n",
    "    # half_dims = (dims/2).astype(np.int)\n",
    "    # center = (np.round(dims/2 + bottom_left)).astype(np.int)\n",
    "    \n",
    "    # Template window relative pixel positions\n",
    "    # gridxx, gridyy = np.meshgrid(np.arange(-half_dims[0],half_dims[0] + 1),np.arange(-half_dims[1],half_dims[1] + 1))\n",
    "    \n",
    "    # Template window absolute pixel positions\n",
    "    # xx = gridxx + center[0]\n",
    "    # yy = gridyy + center[1]\n",
    "    xx = np.arange(top_left[0], bottom_right[0] + 1)\n",
    "    yy = np.arange(top_left[1], bottom_right[1] + 1)\n",
    "    XX, YY = np.meshgrid(xx, yy)\n",
    "\n",
    "    with in_stream as stream, out_stream as ostream:\n",
    "        ret, prev_frame = next(stream)\n",
    "        height, width, _ = prev_frame.shape\n",
    "        x, y = np.arange(width), np.arange(height)\n",
    "        X, Y = np.meshgrid(x, y)\n",
    "        points = np.column_stack([X.reshape((-1, 1)), Y.reshape((-1, 1))])\n",
    "        prev_im = np.mean(prev_frame, axis=2)\n",
    "        prev_im_flat = prev_im.reshape((-1,))\n",
    "        for ret, frame in stream:\n",
    "            curr_im = np.mean(frame, axis=2)\n",
    "            curr_im_flat = curr_im.reshape((-1, ))\n",
    "            prev_template = griddata(points, prev_im_flat, (XX, YY))\n",
    "            curr_template = griddata(points, curr_im_flat, (XX, YY))\n",
    "            \n",
    "            u, v = lucas_kanade_template_tracking(prev_template, curr_template)\n",
    "            total_u, total_v = u, v\n",
    "            \n",
    "            # Iteratively computing optical flow (LK Refinement steps)\n",
    "            # here: no convergence criterion, we always run 10 iterations\n",
    "            for i in range(10):\n",
    "                XX_u = XX + total_u\n",
    "                YY_v = XX + total_v\n",
    "                template_w = griddata(points, prev_im_flat, (XX_u, YY_v))\n",
    "                u, v = lucas_kanade_template_tracking(template_w, curr_template)\n",
    "                \n",
    "                # Hint: When alternatingly warping and estimating the flow,\n",
    "                # small errors in either of these steps will propagate through \n",
    "                # the rest of the process. In order to prevent warping errors from \n",
    "                # propagating, you should not update your warped version of the \n",
    "                # image in each step by iteratively warping it with each flow field\n",
    "                # you compute. Instead, you should first add your flow field to the\n",
    "                # accumulated flow, and then apply the accumulated flow to the \n",
    "                # original image. This way, flow estimation will be more stable.\n",
    "                total_u = total_u + u;\n",
    "                total_v = total_v + v;\n",
    "                \n",
    "            # Adding flow to pixels in the win2track\n",
    "            XX = XX + total_u;\n",
    "            YY = YY + total_v;\n",
    "            \n",
    "            # Computing the template postion in next image\n",
    "            # min(min()) gives minimal x/y coordinate + template width / height\n",
    "            x1 = np.int(np.min(XX))\n",
    "            y1 = np.int(np.min(YY))\n",
    "            x2 = x1 + dims[0]\n",
    "            y2 = y1 + dims[1]\n",
    "            #rect = np.array([[x1, y1], [x2, y2]]);\n",
    "            \n",
    "            color = (0, 0, 255) \n",
    "            res_im = cv2.rectangle(frame, (x1, y1), (x2, y2), color=color, thickness=2) \n",
    "            #res_im = draw_rectangle(frame, rect)\n",
    "            \n",
    "            prev_im_flat = curr_im_flat\n",
    "            \n",
    "            ostream([res_im], [1, 1])"
   ]
  },
  {
   "cell_type": "code",
   "execution_count": null,
   "metadata": {},
   "outputs": [],
   "source": [
    "win2track = np.array([\n",
    "    [294,251],\n",
    "    [328,279]\n",
    "])\n",
    "lucas_kanade_tracking2(cvu.dir_stream(\"./sequence-02\", wait_key=1), cvu.window_stream(), win2track)"
   ]
  },
  {
   "cell_type": "code",
   "execution_count": null,
   "metadata": {},
   "outputs": [],
   "source": [
    "from scipy import interpolate\n",
    "x = np.arange(-5.01, 5.01, 0.05)\n",
    "y = np.arange(-5.01, 5.01, 0.05)\n",
    "xx, yy = np.meshgrid(x, y)\n",
    "z = np.sin(xx**2+yy**2)\n",
    "f = interpolate.interp2d(x, y, z, kind='cubic')\n",
    "\n",
    "import matplotlib.pyplot as plt\n",
    "xnew = np.arange(-5.01, 5.01, 1e-2)\n",
    "ynew = np.arange(-5.01, 5.01, 1e-2)\n",
    "znew = f(xnew, ynew)\n",
    "plt.plot(x, z[0, :], 'ro-', xnew, znew[0, :], 'b-')\n",
    "plt.show()"
   ]
  },
  {
   "cell_type": "code",
   "execution_count": null,
   "metadata": {},
   "outputs": [],
   "source": [
    "A = np.array([\n",
    "    [1, 2, 3, 4],\n",
    "    [5, 6, 7, 8],\n",
    "    [9, 10, 11, 12],\n",
    "    [13, 14, 15, 16],\n",
    "    [17, 18, 19, 20]\n",
    "])\n",
    "x = np.arange(4)\n",
    "y = np.arange(5)"
   ]
  },
  {
   "cell_type": "code",
   "execution_count": null,
   "metadata": {},
   "outputs": [],
   "source": [
    "X, Y = np.meshgrid(x, y)\n",
    "points = np.column_stack([Y.reshape((-1, 1)), X.reshape((-1, 1))])\n",
    "values = A.reshape((-1,))\n",
    "\n",
    "print(points.shape)\n",
    "print(values.shape)"
   ]
  },
  {
   "cell_type": "code",
   "execution_count": null,
   "metadata": {},
   "outputs": [],
   "source": [
    "griddata(points, values, ([[4, 1], [2, 3]], [[3, 2], [0, 0.5]]))"
   ]
  },
  {
   "cell_type": "code",
   "execution_count": null,
   "metadata": {},
   "outputs": [],
   "source": [
    "img = cv2.imread('./sequence-02/0001.jpg')\n",
    "rows,cols,ch = img.shape\n",
    "print(rows, cols)\n",
    "pts1 = np.float32([[294,251],[328,251],[328,279]])\n",
    "pts2 = np.float32([[0,0],[640,0],[640,480]])\n",
    "M = cv2.getAffineTransform(pts1,pts2)\n",
    "dst = cv2.warpAffine(img,M,(cols,rows))\n",
    "print(dst.shape)\n",
    "plt.subplot(121),plt.imshow(img),plt.title('Input')\n",
    "plt.subplot(122),plt.imshow(dst),plt.title('Output')\n",
    "plt.show()"
   ]
  },
  {
   "cell_type": "code",
   "execution_count": null,
   "metadata": {},
   "outputs": [],
   "source": []
  },
  {
   "cell_type": "code",
   "execution_count": null,
   "metadata": {},
   "outputs": [],
   "source": []
  }
 ],
 "metadata": {
  "kernelspec": {
   "display_name": "Python 3",
   "language": "python",
   "name": "python3"
  },
  "language_info": {
   "codemirror_mode": {
    "name": "ipython",
    "version": 3
   },
   "file_extension": ".py",
   "mimetype": "text/x-python",
   "name": "python",
   "nbconvert_exporter": "python",
   "pygments_lexer": "ipython3",
   "version": "3.6.13"
  },
  "widgets": {
   "application/vnd.jupyter.widget-state+json": {
    "state": {},
    "version_major": 2,
    "version_minor": 0
   }
  }
 },
 "nbformat": 4,
 "nbformat_minor": 4
}
