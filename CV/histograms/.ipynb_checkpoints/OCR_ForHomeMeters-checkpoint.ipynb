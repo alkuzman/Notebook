{
 "cells": [
  {
   "cell_type": "code",
   "execution_count": 4,
   "id": "a21cbadd-f97f-4d52-9968-f0ee9bdaaff6",
   "metadata": {},
   "outputs": [
    {
     "ename": "AttributeError",
     "evalue": "'NoneType' object has no attribute 'copy'",
     "output_type": "error",
     "traceback": [
      "\u001b[0;31m---------------------------------------------------------------------------\u001b[0m",
      "\u001b[0;31mAttributeError\u001b[0m                            Traceback (most recent call last)",
      "\u001b[0;32m<ipython-input-4-b100aac76a16>\u001b[0m in \u001b[0;36m<module>\u001b[0;34m\u001b[0m\n\u001b[1;32m     11\u001b[0m \u001b[0;32mwhile\u001b[0m \u001b[0;32mTrue\u001b[0m\u001b[0;34m:\u001b[0m\u001b[0;34m\u001b[0m\u001b[0;34m\u001b[0m\u001b[0m\n\u001b[1;32m     12\u001b[0m     \u001b[0mt1\u001b[0m \u001b[0;34m=\u001b[0m \u001b[0mtime\u001b[0m\u001b[0;34m.\u001b[0m\u001b[0mtime\u001b[0m\u001b[0;34m(\u001b[0m\u001b[0;34m)\u001b[0m\u001b[0;34m\u001b[0m\u001b[0;34m\u001b[0m\u001b[0m\n\u001b[0;32m---> 13\u001b[0;31m     \u001b[0mimg\u001b[0m \u001b[0;34m=\u001b[0m \u001b[0mimg\u001b[0m\u001b[0;34m.\u001b[0m\u001b[0mcopy\u001b[0m\u001b[0;34m(\u001b[0m\u001b[0;34m)\u001b[0m\u001b[0;34m\u001b[0m\u001b[0;34m\u001b[0m\u001b[0m\n\u001b[0m\u001b[1;32m     14\u001b[0m \u001b[0;34m\u001b[0m\u001b[0m\n\u001b[1;32m     15\u001b[0m     \u001b[0;31m## crop if required\u001b[0m\u001b[0;34m\u001b[0m\u001b[0;34m\u001b[0m\u001b[0;34m\u001b[0m\u001b[0m\n",
      "\u001b[0;31mAttributeError\u001b[0m: 'NoneType' object has no attribute 'copy'"
     ]
    }
   ],
   "source": [
    "import cv2\n",
    "import numpy as np\n",
    "import matplotlib.pyplot as plt\n",
    "from sklearn.cluster import k_means\n",
    "\n",
    "\n",
    "img = cv2.imread(\"~/Documents/my_documents/home/Aachen/Utilities/app/static/uploads/ai/2021-11-22 14:30:00.677366.jpg\")\n",
    "gray = cv2.cvtColor(img, cv2.COLOR_BGR2GRAY)\n",
    "img_hsv = cv2.cvtColor(img, cv2.COLOR_BGR2HSV)\n",
    "mask = ((img_hsv > np.array([0, 0, 230])).astype(np.float32) + (img_hsv > np.array([0, 0, 230])).astype(np.float32) * (-0.5) + 0.5)\n",
    "img_partly_darken = cv2.cvtColor(mask * img_hsv, cv2.COLOR_HSV2BGR)\n",
    "plt.imshow(cv2.cvtColor(img_partly_darken, cv2.COLOR_BGR2RGB))\n",
    "plt.show()\n",
    "\n",
    "cv2.imwrite(\"t.png\", img_partly_darken)\n",
    "# Save the img now, and ... Surprise! You can feel the mystery:\n",
    "plt.imshow(cv2.cvtColor(cv2.imread(\"t.png\"), cv2.COLOR_BGR2RGB))\n",
    "plt.show()\n",
    "\n",
    "# Then, you can just pick out the green ones:\n",
    "green_mask = img[:, :, 1] > img[:, :, 2]    # value of green channel > that of red channel\n",
    "# Here is a trick, I use color space convertion to boardcast one channel to three channels\n",
    "green_mask = (green_mask.astype(np.uint8)) * 255\n",
    "green_mask = cv2.cvtColor(green_mask, cv2.COLOR_GRAY2BGR)\n",
    "green3_mask = (green_mask > 0).astype(np.uint8) * 255\n",
    "img_green = cv2.bitwise_and(green3_mask, img)\n",
    "plt.imshow(cv2.cvtColor(img_green, cv2.COLOR_BGR2RGB))\n",
    "plt.show()\n",
    "\n",
    "# Back to the original img's colors:\n",
    "ret, thr = cv2.threshold(cv2.cvtColor(img_green, cv2.COLOR_BGR2GRAY), 10, 255, cv2.THRESH_BINARY)\n",
    "blue_mask = (cv2.cvtColor(thr, cv2.COLOR_GRAY2BGR) > 0).astype(np.uint8) * 255\n",
    "kernel_open =cv2.getStructuringElement(cv2.MORPH_RECT, (5, 5))\n",
    "blue_mask = cv2.morphologyEx(blue_mask, cv2.MORPH_OPEN, kernel_open)\n",
    "yellow_mask = 255 - blue_mask\n",
    "\n",
    "# use k-means to get the two main colors -- blue and yellow\n",
    "pixels = img\n",
    "pixels = pixels.reshape(pixels.shape[0] * pixels.shape[1], 3)\n",
    "[centroids, labels, inertia] = k_means(pixels, 2)\n",
    "centroids = np.array(sorted(centroids.astype(np.uint8).tolist(), key=lambda x: x[0]))       # B channel\n",
    "blue_centroid = centroids[1]\n",
    "yellow_centroid = centroids[0]\n",
    "blue_ones = cv2.bitwise_and(blue_mask, centroids[1])\n",
    "yellow_ones = cv2.bitwise_and(yellow_mask, centroids[0])\n",
    "plt.imshow(cv2.cvtColor(cv2.add(blue_ones, yellow_ones), cv2.COLOR_BGR2RGB))\n",
    "plt.show()"
   ]
  },
  {
   "cell_type": "code",
   "execution_count": null,
   "id": "35b00147-00dd-4061-85e5-2719142973e6",
   "metadata": {},
   "outputs": [],
   "source": []
  }
 ],
 "metadata": {
  "kernelspec": {
   "display_name": "Python 3",
   "language": "python",
   "name": "python3"
  },
  "language_info": {
   "codemirror_mode": {
    "name": "ipython",
    "version": 3
   },
   "file_extension": ".py",
   "mimetype": "text/x-python",
   "name": "python",
   "nbconvert_exporter": "python",
   "pygments_lexer": "ipython3",
   "version": "3.6.13"
  },
  "widgets": {
   "application/vnd.jupyter.widget-state+json": {
    "state": {},
    "version_major": 2,
    "version_minor": 0
   }
  }
 },
 "nbformat": 4,
 "nbformat_minor": 5
}
