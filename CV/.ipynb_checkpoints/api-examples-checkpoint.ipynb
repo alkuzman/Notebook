{
 "cells": [
  {
   "cell_type": "code",
   "execution_count": 2,
   "id": "victorian-palestinian",
   "metadata": {},
   "outputs": [],
   "source": [
    "import numpy as np\n",
    "from scipy import signal\n",
    "\n",
    "import cv2\n",
    "from matplotlib import pyplot as plt"
   ]
  },
  {
   "cell_type": "code",
   "execution_count": 30,
   "id": "virgin-passenger",
   "metadata": {},
   "outputs": [
    {
     "data": {
      "text/plain": [
       "array([[  0.,   0.,   0.,   0.,   0.,   0., 255.,   0.,   0.,   0.],\n",
       "       [  0.,   0.,   0.,   0.,   0.,   0., 255.,   0.,   0.,   0.],\n",
       "       [255., 255., 255., 255., 255., 255., 255., 255., 255., 255.],\n",
       "       [  0.,   0.,   0.,   0.,   0.,   0., 255.,   0.,   0.,   0.],\n",
       "       [  0.,   0.,   0.,   0.,   0.,   0., 255.,   0.,   0.,   0.],\n",
       "       [  0.,   0.,   0.,   0.,   0.,   0., 255.,   0.,   0.,   0.],\n",
       "       [  0.,   0.,   0.,   0.,   0.,   0., 255.,   0.,   0.,   0.],\n",
       "       [  0.,   0.,   0.,   0.,   0.,   0., 255.,   0.,   0.,   0.],\n",
       "       [  0.,   0.,   0.,   0.,   0.,   0., 255.,   0.,   0.,   0.],\n",
       "       [  0.,   0.,   0.,   0.,   0.,   0., 255.,   0.,   0.,   0.]])"
      ]
     },
     "execution_count": 30,
     "metadata": {},
     "output_type": "execute_result"
    }
   ],
   "source": [
    "simple_im = np.zeros((10, 10))\n",
    "simple_im[2,:] = 255\n",
    "simple_im[:,6] = 255\n",
    "simple_im"
   ]
  },
  {
   "cell_type": "code",
   "execution_count": 31,
   "id": "pressing-experiment",
   "metadata": {},
   "outputs": [
    {
     "data": {
      "text/plain": [
       "<matplotlib.image.AxesImage at 0x7ffb783043c8>"
      ]
     },
     "execution_count": 31,
     "metadata": {},
     "output_type": "execute_result"
    },
    {
     "data": {
      "image/png": "[encoded data removed]",
      "text/plain": [
       "<Figure size 432x288 with 1 Axes>"
      ]
     },
     "metadata": {
      "needs_background": "light"
     },
     "output_type": "display_data"
    }
   ],
   "source": [
    "plt.imshow(simple_im, cmap='gray')"
   ]
  },
  {
   "cell_type": "markdown",
   "id": "yellow-welsh",
   "metadata": {},
   "source": [
    "# Cross-correlation"
   ]
  },
  {
   "cell_type": "code",
   "execution_count": 5,
   "id": "directed-immigration",
   "metadata": {},
   "outputs": [
    {
     "data": {
      "text/plain": [
       "array([[1, 2, 3],\n",
       "       [4, 5, 6],\n",
       "       [7, 8, 9]])"
      ]
     },
     "execution_count": 5,
     "metadata": {},
     "output_type": "execute_result"
    }
   ],
   "source": [
    "simple_kernel = np.arange(1, 10).reshape(3, 3)\n",
    "simple_kernel"
   ]
  },
  {
   "cell_type": "code",
   "execution_count": 6,
   "id": "statewide-hands",
   "metadata": {},
   "outputs": [],
   "source": [
    "avg_kernel = np.ones((3, 3)).astype(int) / 9\n",
    "gaus_kernel = np.array([\n",
    "    [0.1, 0.2, 0.1],\n",
    "    [0.2, 0.3, 0.2],\n",
    "    [0.1, 0.2, 0.1]\n",
    "])"
   ]
  },
  {
   "cell_type": "code",
   "execution_count": 7,
   "id": "arabic-blues",
   "metadata": {},
   "outputs": [
    {
     "name": "stdout",
     "output_type": "stream",
     "text": [
      "(10, 15) (12, 17)\n"
     ]
    },
    {
     "data": {
      "text/plain": [
       "<matplotlib.image.AxesImage at 0x7ffb7882d6d8>"
      ]
     },
     "execution_count": 7,
     "metadata": {},
     "output_type": "execute_result"
    },
    {
     "data": {
      "image/png": "[encoded data removed]",
      "text/plain": [
       "<Figure size 432x288 with 2 Axes>"
      ]
     },
     "metadata": {
      "needs_background": "light"
     },
     "output_type": "display_data"
    }
   ],
   "source": [
    "def cross_correlate(im, kernel):\n",
    "    m1, m2 = im.shape\n",
    "    k1, k2 = kernel.shape\n",
    "    a1 = (k1 - 1) / 2\n",
    "    a2 = (k2 - 1) / 2\n",
    "    m = m1 * m2\n",
    "    \n",
    "    im_arr = im.reshape(-1, 1)\n",
    "    W = np.zeros((m, m))\n",
    "    \n",
    "    W_is = np.zeros((k1, m2, m2))\n",
    "    \n",
    "    for ik1 in range(k1):\n",
    "        for im2 in range(m2):\n",
    "            k_start = 0\n",
    "            k_end = a2 * 2 + 1\n",
    "            start = im2 - a2\n",
    "            end = im2 + a2 + 1\n",
    "            if start < 0:\n",
    "                k_start = k_start - start\n",
    "                start = 0\n",
    "            if end > m2:\n",
    "                diff = end - (m2)\n",
    "                k_end = k_end - diff\n",
    "                end = m2\n",
    "            \n",
    "            k_start = int(k_start)\n",
    "            k_end = int(k_end)\n",
    "            start = int(start)\n",
    "            end = int(end)\n",
    "            k_vals = kernel[ik1, k_start:k_end]\n",
    "            W_is [ik1, im2, start:end] = k_vals\n",
    "            \n",
    "    for im1 in range(m1):\n",
    "        k_start = -a1\n",
    "        k_end = a1 + 1\n",
    "        start = im1 - a1\n",
    "        end = im1 + a1 + 1\n",
    "        \n",
    "        if start < 0:\n",
    "            k_start = k_start - start\n",
    "            start = 0\n",
    "            \n",
    "        if end > m1:\n",
    "                diff = end - (m1)\n",
    "                k_end = k_end - diff\n",
    "                end = m2\n",
    "                \n",
    "        k_start = int(k_start)\n",
    "        k_end = int(k_end)\n",
    "        for ik1 in range(k_start, k_end):\n",
    "            start_y = m2 * (im1 + ik1)\n",
    "            end_y = m2 * (im1 + ik1 + 1)\n",
    "            start_x = m2 * (im1)\n",
    "            end_x = m2 * (im1 + 1)\n",
    "            W[start_x:end_x, start_y:end_y] = W_is[int(ik1 + a1)]\n",
    "        \n",
    "    \n",
    "    return (W @ im_arr).reshape(m1, m2)\n",
    "    \n",
    "    \n",
    "    \n",
    "simple_im_corr = cross_correlate(simple_im, gaus_kernel)\n",
    "simple_im_corr1 = signal.convolve2d(simple_im, gaus_kernel, 'full')\n",
    "\n",
    "print(simple_im_corr.shape, simple_im_corr1.shape)\n",
    "\n",
    "fig, axes = plt.subplots(nrows=2, ncols=1)\n",
    "\n",
    "axes[0].imshow(simple_im_corr, cmap='gray')\n",
    "axes[1].imshow(simple_im_corr1, cmap='gray')"
   ]
  },
  {
   "cell_type": "code",
   "execution_count": null,
   "id": "convenient-bidder",
   "metadata": {},
   "outputs": [],
   "source": []
  },
  {
   "cell_type": "code",
   "execution_count": 8,
   "id": "transparent-original",
   "metadata": {},
   "outputs": [
    {
     "data": {
      "text/plain": [
       "array([ 0,  1,  2,  3,  4,  5,  6,  7,  8,  9, 10, 11, 12, 13, 14, 15, 16,\n",
       "       17, 18, 19, 20, 21, 22, 23, 24, 25, 26, 27, 28, 29, 30, 31, 32, 33,\n",
       "       34, 35, 36, 37, 38, 39, 40, 41, 42, 43, 44, 45, 46, 47, 48, 49, 50,\n",
       "       51, 52, 53, 54, 55, 56, 57, 58, 59, 60, 61, 62, 63, 64, 65, 66, 67,\n",
       "       68, 69, 70, 71, 72, 73, 74, 75, 76, 77, 78, 79])"
      ]
     },
     "execution_count": 8,
     "metadata": {},
     "output_type": "execute_result"
    }
   ],
   "source": [
    "np.arange(0, 80).reshape(8, 10).reshape(-1)"
   ]
  },
  {
   "cell_type": "code",
   "execution_count": 9,
   "id": "widespread-steam",
   "metadata": {},
   "outputs": [
    {
     "data": {
      "text/plain": [
       "(150, 1)"
      ]
     },
     "execution_count": 9,
     "metadata": {},
     "output_type": "execute_result"
    }
   ],
   "source": [
    "simple_im.reshape(-1, 1).shape"
   ]
  },
  {
   "cell_type": "markdown",
   "id": "d98d49a6-0f3e-489b-9bed-e5077d6823d5",
   "metadata": {},
   "source": [
    "# Scipy and Numpy convolution differences\n",
    "Numpy convolves only 1D arrays"
   ]
  },
  {
   "cell_type": "code",
   "execution_count": 10,
   "id": "e94b5ecf-1b9a-478b-9b4e-fa9967b7afa7",
   "metadata": {},
   "outputs": [],
   "source": [
    "from scipy import ndimage"
   ]
  },
  {
   "cell_type": "code",
   "execution_count": 57,
   "id": "95907e92-208c-469d-9780-7dbf3bf39852",
   "metadata": {},
   "outputs": [
    {
     "data": {
      "text/plain": [
       "array([[ 65, 104,  86,  76,  61,  80,  83,  87,  82,  91,  85,  85,  97,\n",
       "        122, 130, 122, 119, 103, 107,  63],\n",
       "       [ 82, 130, 127, 122, 109, 111, 114, 114, 108, 120, 127, 125, 145,\n",
       "        177, 198, 181, 167, 139, 139,  79],\n",
       "       [ 66,  96, 108, 109, 102, 103, 104, 112, 117, 125, 135, 118, 121,\n",
       "        145, 169, 143, 141, 143, 177, 113],\n",
       "       [ 46,  86, 108, 135, 122, 132, 130, 129, 114, 114, 132, 115, 116,\n",
       "        126, 147, 130, 140, 143, 160,  95],\n",
       "       [ 32,  69,  82, 103, 109, 140, 157, 149, 151, 152, 160, 133, 104,\n",
       "        113, 118, 121, 131, 146, 169, 106],\n",
       "       [ 36,  85, 108, 125, 119, 135, 142, 126, 120, 130, 144, 128, 104,\n",
       "        116, 117, 118, 106, 107, 120,  78],\n",
       "       [ 47,  82, 106, 113, 117, 113, 104, 106, 118, 143, 143, 143, 107,\n",
       "        132, 118, 131,  84,  98, 121, 103],\n",
       "       [ 70, 116, 130, 133, 101,  99,  77,  88,  71,  88,  96, 116, 114,\n",
       "        142, 147, 140,  94,  90, 107,  91],\n",
       "       [ 58,  98,  99, 111,  86,  99,  83, 101,  90, 111, 123, 132, 140,\n",
       "        153, 173, 162, 138, 129, 122,  87],\n",
       "       [ 43,  87, 104, 116, 101, 108, 130, 130, 105,  88, 103, 118, 151,\n",
       "        144, 158, 120, 140, 114, 105,  47],\n",
       "       [ 54,  82,  84,  98, 106, 118, 126, 134, 133, 127, 124, 128, 164,\n",
       "        156, 153, 103, 144, 133, 134,  60],\n",
       "       [ 62, 104, 131, 118, 114,  97, 133, 143, 147, 104,  91,  94, 138,\n",
       "        128, 114,  91, 120, 116, 123,  68],\n",
       "       [ 78, 111, 121, 103, 112, 104, 114, 117, 143, 130, 126, 110, 138,\n",
       "        120, 103,  97, 111, 125, 131,  95],\n",
       "       [ 58, 114, 144, 148, 126, 113, 110, 124, 143, 138, 128,  96, 122,\n",
       "         94,  80,  85, 102, 119, 124,  96],\n",
       "       [ 44,  93, 121, 151, 149, 150, 138, 129, 140, 159, 157, 120, 120,\n",
       "         94,  90,  88, 106, 131, 130, 100],\n",
       "       [ 52, 110, 136, 173, 156, 152, 123, 138, 142, 160, 124, 100, 106,\n",
       "        121, 129, 116, 110, 125, 132, 103],\n",
       "       [ 58, 102, 143, 174, 190, 174, 166, 158, 163, 159, 145, 116, 113,\n",
       "        118, 127, 112,  80,  95, 106,  94],\n",
       "       [ 82, 120, 125, 159, 182, 182, 159, 166, 164, 170, 140, 131, 132,\n",
       "        134, 118, 107,  83, 104, 102,  86],\n",
       "       [ 70,  99, 119, 137, 163, 176, 187, 197, 189, 174, 143, 116, 110,\n",
       "        100,  79,  93,  85, 100,  79,  64],\n",
       "       [ 46,  64,  70,  75,  92, 110, 121, 139, 125, 116,  75,  73,  65,\n",
       "         64,  42,  67,  70,  84,  57,  43]])"
      ]
     },
     "execution_count": 57,
     "metadata": {},
     "output_type": "execute_result"
    }
   ],
   "source": [
    "kernel = np.ones((3, 3)) / 9\n",
    "ex_im = np.random.randint(0, 255, (20, 20))"
   ]
  },
  {
   "cell_type": "code",
   "execution_count": 60,
   "id": "dc75ea32-8cbb-4a35-af05-f38459947bb9",
   "metadata": {},
   "outputs": [
    {
     "data": {
      "text/plain": [
       "array([[164, 159, 128, 125, 107, 137, 136, 142, 128, 143, 120, 128, 142,\n",
       "        185, 195, 194, 191, 154, 149, 137],\n",
       "       [132, 130, 127, 122, 109, 111, 114, 114, 108, 120, 127, 125, 145,\n",
       "        177, 198, 181, 167, 139, 139, 126],\n",
       "       [ 96,  96, 108, 109, 102, 103, 104, 112, 117, 125, 135, 118, 121,\n",
       "        145, 169, 143, 141, 143, 177, 170],\n",
       "       [ 70,  86, 108, 135, 122, 132, 130, 129, 114, 114, 132, 115, 116,\n",
       "        126, 147, 130, 140, 143, 160, 143],\n",
       "       [ 48,  69,  82, 103, 109, 140, 157, 149, 151, 152, 160, 133, 104,\n",
       "        113, 118, 121, 131, 146, 169, 160],\n",
       "       [ 48,  85, 108, 125, 119, 135, 142, 126, 120, 130, 144, 128, 104,\n",
       "        116, 117, 118, 106, 107, 120, 126],\n",
       "       [ 57,  82, 106, 113, 117, 113, 104, 106, 118, 143, 143, 143, 107,\n",
       "        132, 118, 131,  84,  98, 121, 163],\n",
       "       [ 92, 116, 130, 133, 101,  99,  77,  88,  71,  88,  96, 116, 114,\n",
       "        142, 147, 140,  94,  90, 107, 146],\n",
       "       [ 83,  98,  99, 111,  86,  99,  83, 101,  90, 111, 123, 132, 140,\n",
       "        153, 173, 162, 138, 129, 122, 125],\n",
       "       [ 68,  87, 104, 116, 101, 108, 130, 130, 105,  88, 103, 118, 151,\n",
       "        144, 158, 120, 140, 114, 105,  69],\n",
       "       [ 92,  82,  84,  98, 106, 118, 126, 134, 133, 127, 124, 128, 164,\n",
       "        156, 153, 103, 144, 133, 134,  80],\n",
       "       [ 96, 104, 131, 118, 114,  97, 133, 143, 147, 104,  91,  94, 138,\n",
       "        128, 114,  91, 120, 116, 123, 104],\n",
       "       [121, 111, 121, 103, 112, 104, 114, 117, 143, 130, 126, 110, 138,\n",
       "        120, 103,  97, 111, 125, 131, 139],\n",
       "       [ 90, 114, 144, 148, 126, 113, 110, 124, 143, 138, 128,  96, 122,\n",
       "         94,  80,  85, 102, 119, 124, 155],\n",
       "       [ 75,  93, 121, 151, 149, 150, 138, 129, 140, 159, 157, 120, 120,\n",
       "         94,  90,  88, 106, 131, 130, 145],\n",
       "       [ 84, 110, 136, 173, 156, 152, 123, 138, 142, 160, 124, 100, 106,\n",
       "        121, 129, 116, 110, 125, 132, 148],\n",
       "       [ 88, 102, 143, 174, 190, 174, 166, 158, 163, 159, 145, 116, 113,\n",
       "        118, 127, 112,  80,  95, 106, 131],\n",
       "       [137, 120, 125, 159, 182, 182, 159, 166, 164, 170, 140, 131, 132,\n",
       "        134, 118, 107,  83, 104, 102, 119],\n",
       "       [110,  99, 119, 137, 163, 176, 187, 197, 189, 174, 143, 116, 110,\n",
       "        100,  79,  93,  85, 100,  79,  95],\n",
       "       [ 94,  91, 115, 106, 127, 153, 179, 212, 193, 165, 105,  93,  93,\n",
       "         95,  61,  96,  94, 109,  77,  91]])"
      ]
     },
     "execution_count": 60,
     "metadata": {},
     "output_type": "execute_result"
    }
   ],
   "source": [
    "ndimage.convolve(ex_im, kernel)"
   ]
  },
  {
   "cell_type": "markdown",
   "id": "b38c4cff-1aa9-49c5-bec1-e12f29355cc7",
   "metadata": {},
   "source": [
    "# MeshGrid"
   ]
  },
  {
   "cell_type": "code",
   "execution_count": 59,
   "id": "7081f238-51ca-495d-872a-3ae21160d973",
   "metadata": {},
   "outputs": [],
   "source": [
    "grid_x, grid_y = np.mgrid[0:1:5j, 0:1:5j]"
   ]
  },
  {
   "cell_type": "code",
   "execution_count": 54,
   "id": "004ad9d4-9448-47c4-89c6-3cfaeb63e2fa",
   "metadata": {},
   "outputs": [
    {
     "data": {
      "text/plain": [
       "array([[0.  , 0.  , 0.  , 0.  , 0.  ],\n",
       "       [0.25, 0.25, 0.25, 0.25, 0.25],\n",
       "       [0.5 , 0.5 , 0.5 , 0.5 , 0.5 ],\n",
       "       [0.75, 0.75, 0.75, 0.75, 0.75],\n",
       "       [1.  , 1.  , 1.  , 1.  , 1.  ]])"
      ]
     },
     "execution_count": 54,
     "metadata": {},
     "output_type": "execute_result"
    }
   ],
   "source": [
    "grid_x"
   ]
  },
  {
   "cell_type": "code",
   "execution_count": 55,
   "id": "d4667aa4-ec6e-45d4-ba80-40ea7ed37943",
   "metadata": {},
   "outputs": [
    {
     "data": {
      "text/plain": [
       "array([[0.  , 0.25, 0.5 , 0.75, 1.  ],\n",
       "       [0.  , 0.25, 0.5 , 0.75, 1.  ],\n",
       "       [0.  , 0.25, 0.5 , 0.75, 1.  ],\n",
       "       [0.  , 0.25, 0.5 , 0.75, 1.  ],\n",
       "       [0.  , 0.25, 0.5 , 0.75, 1.  ]])"
      ]
     },
     "execution_count": 55,
     "metadata": {},
     "output_type": "execute_result"
    }
   ],
   "source": [
    "grid_y"
   ]
  },
  {
   "cell_type": "code",
   "execution_count": null,
   "id": "c68b5eec-c0c3-4626-b582-c3e203f0a63c",
   "metadata": {},
   "outputs": [],
   "source": []
  },
  {
   "cell_type": "code",
   "execution_count": null,
   "id": "ec5efc83-35bf-44b9-b696-a5955e071080",
   "metadata": {},
   "outputs": [],
   "source": []
  }
 ],
 "metadata": {
  "kernelspec": {
   "display_name": "Python 3",
   "language": "python",
   "name": "python3"
  },
  "language_info": {
   "codemirror_mode": {
    "name": "ipython",
    "version": 3
   },
   "file_extension": ".py",
   "mimetype": "text/x-python",
   "name": "python",
   "nbconvert_exporter": "python",
   "pygments_lexer": "ipython3",
   "version": "3.6.13"
  },
  "widgets": {
   "application/vnd.jupyter.widget-state+json": {
    "state": {},
    "version_major": 2,
    "version_minor": 0
   }
  }
 },
 "nbformat": 4,
 "nbformat_minor": 5
}
