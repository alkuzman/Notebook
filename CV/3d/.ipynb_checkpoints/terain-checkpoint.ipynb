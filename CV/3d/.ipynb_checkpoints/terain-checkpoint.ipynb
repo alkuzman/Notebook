{
 "cells": [
  {
   "cell_type": "code",
   "execution_count": 1,
   "id": "21f54d7c-d039-4e1b-b82d-9b96a2468fc8",
   "metadata": {},
   "outputs": [],
   "source": [
    "import cv2 as cv\n",
    "from matplotlib import pyplot as plt \n",
    "import matplotlib.colors as colors\n",
    "import matplotlib.cm as cm\n",
    "import numpy as np\n",
    "\n",
    "import sys\n",
    "sys.path.append('../')\n",
    "import cvutils as cvu\n",
    "%matplotlib widget"
   ]
  },
  {
   "cell_type": "code",
   "execution_count": 2,
   "id": "44f191b6-1c67-48fd-8d79-d5489a612dcd",
   "metadata": {},
   "outputs": [
    {
     "data": {
      "application/vnd.jupyter.widget-view+json": {
       "model_id": "321e78768de745baa4cea11d0f9f9356",
       "version_major": 2,
       "version_minor": 0
      },
      "text/plain": [
       "Canvas(toolbar=Toolbar(toolitems=[('Home', 'Reset original view', 'home', 'home'), ('Back', 'Back to previous …"
      ]
     },
     "metadata": {},
     "output_type": "display_data"
    },
    {
     "data": {
      "text/plain": [
       "<matplotlib.image.AxesImage at 0x7f4c1b46cb38>"
      ]
     },
     "execution_count": 2,
     "metadata": {},
     "output_type": "execute_result"
    }
   ],
   "source": [
    "example_im = cv.imread(\"../images/personal/IMG_20200422_171546.jpg\", cv.IMREAD_GRAYSCALE)\n",
    "example_im = cvu.scale_im(example_im, 0.01)\n",
    "plt.imshow(example_im, cmap='gray')"
   ]
  },
  {
   "cell_type": "code",
   "execution_count": 3,
   "id": "4aa86101-28d5-4470-9a28-5812b523b1d1",
   "metadata": {},
   "outputs": [
    {
     "data": {
      "application/vnd.jupyter.widget-view+json": {
       "model_id": "be75b2cdf3db477ba663b00c0d993a07",
       "version_major": 2,
       "version_minor": 0
      },
      "text/plain": [
       "Canvas(toolbar=Toolbar(toolitems=[('Home', 'Reset original view', 'home', 'home'), ('Back', 'Back to previous …"
      ]
     },
     "metadata": {},
     "output_type": "display_data"
    }
   ],
   "source": [
    "h, w = example_im.shape\n",
    "\n",
    "x_pos, y_pos = np.meshgrid(np.arange(w), np.arange(h))\n",
    "\n",
    "\n",
    "z_pos = np.zeros_like(example_im).reshape(-1)\n",
    "x_size = np.ones_like(x_pos).reshape(-1)\n",
    "y_size = np.ones_like(y_pos).reshape(-1)\n",
    "z_size = example_im.reshape(-1)\n",
    "x_pos = x_pos.reshape(-1)\n",
    "y_pos = y_pos.reshape(-1)\n",
    "\n",
    "norm = colors.Normalize(z_size.min(), z_size.max())\n",
    "clrs = cm.gray(norm(z_size))\n",
    "\n",
    "plt.figure(2)\n",
    "ax = plt.axes(projection=\"3d\")\n",
    "ax.bar3d(x_pos, y_pos, z_pos, x_size, y_size, z_size, color=clrs)\n",
    "plt.show()"
   ]
  },
  {
   "cell_type": "code",
   "execution_count": null,
   "id": "6b044900-1516-4dfc-90e5-e492857559a8",
   "metadata": {},
   "outputs": [],
   "source": []
  }
 ],
 "metadata": {
  "kernelspec": {
   "display_name": "Python 3",
   "language": "python",
   "name": "python3"
  },
  "language_info": {
   "codemirror_mode": {
    "name": "ipython",
    "version": 3
   },
   "file_extension": ".py",
   "mimetype": "text/x-python",
   "name": "python",
   "nbconvert_exporter": "python",
   "pygments_lexer": "ipython3",
   "version": "3.6.13"
  },
  "widgets": {
   "application/vnd.jupyter.widget-state+json": {
    "state": {
     "321e78768de745baa4cea11d0f9f9356": {
      "model_module": "jupyter-matplotlib",
      "model_module_version": "^0.9.0",
      "model_name": "MPLCanvasModel",
      "state": {
       "_cursor": "default",
       "_figure_label": "Figure 1",
       "_height": 480,
       "_image_mode": "diff",
       "_width": 640,
       "layout": "IPY_MODEL_e3a3fc84446e430e9c7b6558fa617b96",
       "toolbar": "IPY_MODEL_95200b5bf23a4ccd8674462d086133ff",
       "toolbar_position": "left"
      }
     },
     "76d0a58b796f47238c44093bc90bc33f": {
      "model_module": "@jupyter-widgets/base",
      "model_module_version": "1.2.0",
      "model_name": "LayoutModel",
      "state": {}
     },
     "86bbd7a957774784b3c8329058b2f3ff": {
      "model_module": "@jupyter-widgets/base",
      "model_module_version": "1.2.0",
      "model_name": "LayoutModel",
      "state": {}
     },
     "8ddc8635a7534110964cf81d849540ab": {
      "model_module": "jupyter-matplotlib",
      "model_module_version": "^0.9.0",
      "model_name": "ToolbarModel",
      "state": {
       "layout": "IPY_MODEL_76d0a58b796f47238c44093bc90bc33f",
       "toolitems": [
        [
         "Home",
         "Reset original view",
         "home",
         "home"
        ],
        [
         "Back",
         "Back to previous view",
         "arrow-left",
         "back"
        ],
        [
         "Forward",
         "Forward to next view",
         "arrow-right",
         "forward"
        ],
        [
         "Pan",
         "Left button pans, Right button zooms\nx/y fixes axis, CTRL fixes aspect",
         "arrows",
         "pan"
        ],
        [
         "Zoom",
         "Zoom to rectangle\nx/y fixes axis, CTRL fixes aspect",
         "square-o",
         "zoom"
        ],
        [
         "Download",
         "Download plot",
         "floppy-o",
         "save_figure"
        ]
       ]
      }
     },
     "95200b5bf23a4ccd8674462d086133ff": {
      "model_module": "jupyter-matplotlib",
      "model_module_version": "^0.9.0",
      "model_name": "ToolbarModel",
      "state": {
       "layout": "IPY_MODEL_df647654eff54635b65d5c330b5ee4ee",
       "toolitems": [
        [
         "Home",
         "Reset original view",
         "home",
         "home"
        ],
        [
         "Back",
         "Back to previous view",
         "arrow-left",
         "back"
        ],
        [
         "Forward",
         "Forward to next view",
         "arrow-right",
         "forward"
        ],
        [
         "Pan",
         "Left button pans, Right button zooms\nx/y fixes axis, CTRL fixes aspect",
         "arrows",
         "pan"
        ],
        [
         "Zoom",
         "Zoom to rectangle\nx/y fixes axis, CTRL fixes aspect",
         "square-o",
         "zoom"
        ],
        [
         "Download",
         "Download plot",
         "floppy-o",
         "save_figure"
        ]
       ]
      }
     },
     "be75b2cdf3db477ba663b00c0d993a07": {
      "model_module": "jupyter-matplotlib",
      "model_module_version": "^0.9.0",
      "model_name": "MPLCanvasModel",
      "state": {
       "_cursor": "default",
       "_figure_label": "Figure 2",
       "_height": 663,
       "_width": 639,
       "layout": "IPY_MODEL_86bbd7a957774784b3c8329058b2f3ff",
       "toolbar": "IPY_MODEL_8ddc8635a7534110964cf81d849540ab",
       "toolbar_position": "left"
      }
     },
     "df647654eff54635b65d5c330b5ee4ee": {
      "model_module": "@jupyter-widgets/base",
      "model_module_version": "1.2.0",
      "model_name": "LayoutModel",
      "state": {}
     },
     "e3a3fc84446e430e9c7b6558fa617b96": {
      "model_module": "@jupyter-widgets/base",
      "model_module_version": "1.2.0",
      "model_name": "LayoutModel",
      "state": {}
     }
    },
    "version_major": 2,
    "version_minor": 0
   }
  }
 },
 "nbformat": 4,
 "nbformat_minor": 5
}
