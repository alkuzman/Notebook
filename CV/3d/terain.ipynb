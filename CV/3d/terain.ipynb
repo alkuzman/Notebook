{
 "cells": [
  {
   "cell_type": "code",
   "execution_count": 1,
   "id": "21f54d7c-d039-4e1b-b82d-9b96a2468fc8",
   "metadata": {},
   "outputs": [],
   "source": [
    "import cv2 as cv\n",
    "from matplotlib import pyplot as plt \n",
    "import matplotlib.colors as colors\n",
    "import matplotlib.cm as cm\n",
    "import numpy as np\n",
    "\n",
    "import sys\n",
    "sys.path.append('../')\n",
    "import cvutils as cvu\n",
    "%matplotlib widget"
   ]
  },
  {
   "cell_type": "code",
   "execution_count": 2,
   "id": "44f191b6-1c67-48fd-8d79-d5489a612dcd",
   "metadata": {},
   "outputs": [
    {
     "data": {
      "application/vnd.jupyter.widget-view+json": {
       "model_id": "945138ab59904233ad74e81a24d01f21",
       "version_major": 2,
       "version_minor": 0
      },
      "text/plain": [
       "Canvas(toolbar=Toolbar(toolitems=[('Home', 'Reset original view', 'home', 'home'), ('Back', 'Back to previous …"
      ]
     },
     "metadata": {},
     "output_type": "display_data"
    },
    {
     "data": {
      "text/plain": [
       "<matplotlib.image.AxesImage at 0x7f5f50b1a748>"
      ]
     },
     "execution_count": 2,
     "metadata": {},
     "output_type": "execute_result"
    }
   ],
   "source": [
    "example_im = cv.imread(\"../images/personal/IMG_20200422_171546.jpg\", cv.IMREAD_GRAYSCALE)\n",
    "example_im = cvu.scale_im(example_im, 0.01)\n",
    "plt.imshow(example_im, cmap='gray')"
   ]
  },
  {
   "cell_type": "code",
   "execution_count": 3,
   "id": "4aa86101-28d5-4470-9a28-5812b523b1d1",
   "metadata": {},
   "outputs": [
    {
     "data": {
      "application/vnd.jupyter.widget-view+json": {
       "model_id": "f0dcb6f478b0460ebb96becaee12fa65",
       "version_major": 2,
       "version_minor": 0
      },
      "text/plain": [
       "Canvas(toolbar=Toolbar(toolitems=[('Home', 'Reset original view', 'home', 'home'), ('Back', 'Back to previous …"
      ]
     },
     "metadata": {},
     "output_type": "display_data"
    }
   ],
   "source": [
    "def plot_image_terain(im, ax, perserve_ratio=True):\n",
    "    if perserve_ratio:\n",
    "        lim = np.max(im.shape) \n",
    "        ax.set_xlim(0, lim)\n",
    "        ax.set_ylim(0, lim)\n",
    "        \n",
    "    ax.set_xlabel('x')\n",
    "    ax.set_ylabel('y')\n",
    "    ax.set_zlabel('z')\n",
    "    h, w = im.shape\n",
    "\n",
    "    x_pos, y_pos = np.meshgrid(np.arange(w), np.arange(h))\n",
    "\n",
    "\n",
    "    z_pos = np.zeros_like(im).reshape(-1)\n",
    "    x_size = np.ones_like(x_pos).reshape(-1)\n",
    "    y_size = np.ones_like(y_pos).reshape(-1)\n",
    "    z_size = im.reshape(-1)\n",
    "    x_pos = x_pos.reshape(-1)\n",
    "    y_pos = y_pos.reshape(-1)\n",
    "\n",
    "    norm = colors.Normalize(z_size.min(), z_size.max())\n",
    "    clrs = cm.gray(norm(z_size))\n",
    "    ax.bar3d(x_pos, y_pos, z_pos, x_size, y_size, z_size, color=clrs)\n",
    "    \n",
    "    \n",
    "plt.figure(2)\n",
    "ax = plt.axes(projection=\"3d\")\n",
    "plot_image_terain(example_im, ax)\n",
    "plt.show()"
   ]
  },
  {
   "cell_type": "code",
   "execution_count": null,
   "id": "6b044900-1516-4dfc-90e5-e492857559a8",
   "metadata": {},
   "outputs": [],
   "source": []
  },
  {
   "cell_type": "code",
   "execution_count": null,
   "id": "f75c9c33-6efa-4b8a-8c8a-abe52e77ec43",
   "metadata": {},
   "outputs": [],
   "source": []
  }
 ],
 "metadata": {
  "kernelspec": {
   "display_name": "Python 3",
   "language": "python",
   "name": "python3"
  },
  "language_info": {
   "codemirror_mode": {
    "name": "ipython",
    "version": 3
   },
   "file_extension": ".py",
   "mimetype": "text/x-python",
   "name": "python",
   "nbconvert_exporter": "python",
   "pygments_lexer": "ipython3",
   "version": "3.6.13"
  },
  "widgets": {
   "application/vnd.jupyter.widget-state+json": {
    "state": {},
    "version_major": 2,
    "version_minor": 0
   }
  }
 },
 "nbformat": 4,
 "nbformat_minor": 5
}
