{
 "cells": [
  {
   "cell_type": "code",
   "execution_count": 4,
   "id": "5f1efdd5-bff1-472d-84d0-454e9a34e85a",
   "metadata": {},
   "outputs": [],
   "source": [
    "import numpy as np\n",
    "from matplotlib import pyplot as plt"
   ]
  },
  {
   "cell_type": "markdown",
   "id": "ed463fc0-26b0-488c-9a64-6e5f494673d6",
   "metadata": {},
   "source": [
    "Here we define a simple cross like `CrossImage` which will be used for testing different derivative algorithms."
   ]
  },
  {
   "cell_type": "code",
   "execution_count": 5,
   "id": "91709a20-f291-4daa-8577-2fb8031d2378",
   "metadata": {},
   "outputs": [],
   "source": [
    "class SyntheticImage:\n",
    "    def get_im(self):\n",
    "        pass\n",
    "    \n",
    "    def add_x_mask(self, ax):\n",
    "        pass\n",
    "        \n",
    "    def add_y_mask(self, ax):\n",
    "        pass\n",
    "    \n",
    "    def add_mask(self, ax):\n",
    "        pass\n",
    "\n",
    "class CrossImage(SyntheticImage):\n",
    "    def __init__(self, width=10, height=10, hline=2, vline=6):\n",
    "        self.width = width\n",
    "        self.height = height\n",
    "        self.hline = hline\n",
    "        self.vline = vline\n",
    "        self.im = np.zeros((self.height, self.width))\n",
    "        self.im[self.hline,:] = 255\n",
    "        self.im[:,self.vline] = 255\n",
    "        \n",
    "    def get_im(self):\n",
    "        return self.im\n",
    "    \n",
    "    def get_width(self):\n",
    "        return self.width\n",
    "    \n",
    "    def get_height(self):\n",
    "        return self.height\n",
    "    \n",
    "    def get_hline(self):\n",
    "        return self.hline\n",
    "    \n",
    "    def get_vline(self):\n",
    "        return self.vline\n",
    "    \n",
    "    def add_x_mask(self, ax):\n",
    "        ax.axhline(y = self.hline, xmin = 0, xmax = self.width, color ='red')\n",
    "        \n",
    "    def add_y_mask(self, ax):\n",
    "        ax.axvline(x = self.vline, ymin = 0, ymax = self.height, color ='red')\n",
    "        \n",
    "    def add_mask(self, ax):\n",
    "        self.add_x_mask(ax)\n",
    "        self.add_y_mask(ax)"
   ]
  },
  {
   "cell_type": "code",
   "execution_count": 6,
   "id": "87e96f20-9554-4e22-9633-4d7648c128e9",
   "metadata": {},
   "outputs": [
    {
     "data": {
      "text/plain": [
       "<matplotlib.image.AxesImage at 0x7f229c94b438>"
      ]
     },
     "execution_count": 6,
     "metadata": {},
     "output_type": "execute_result"
    },
    {
     "data": {
      "image/png": "[encoded data removed]",
      "text/plain": [
       "<Figure size 432x288 with 1 Axes>"
      ]
     },
     "metadata": {
      "needs_background": "light"
     },
     "output_type": "display_data"
    }
   ],
   "source": [
    "cross_im = CrossImage()\n",
    "\n",
    "fig = plt.figure()\n",
    "ax = fig.add_subplot()\n",
    "ax.imshow(cross_im.get_im(), cmap=\"gray\")"
   ]
  }
 ],
 "metadata": {
  "kernelspec": {
   "display_name": "Python 3",
   "language": "python",
   "name": "python3"
  },
  "language_info": {
   "codemirror_mode": {
    "name": "ipython",
    "version": 3
   },
   "file_extension": ".py",
   "mimetype": "text/x-python",
   "name": "python",
   "nbconvert_exporter": "python",
   "pygments_lexer": "ipython3",
   "version": "3.6.13"
  },
  "widgets": {
   "application/vnd.jupyter.widget-state+json": {
    "state": {},
    "version_major": 2,
    "version_minor": 0
   }
  }
 },
 "nbformat": 4,
 "nbformat_minor": 5
}
