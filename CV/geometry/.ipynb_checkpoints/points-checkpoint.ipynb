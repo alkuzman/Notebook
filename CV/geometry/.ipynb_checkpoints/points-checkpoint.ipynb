{
 "cells": [
  {
   "cell_type": "code",
   "execution_count": 1,
   "id": "b6d75d18-ec2c-4bf7-b443-74f22fde9603",
   "metadata": {},
   "outputs": [],
   "source": [
    "import numpy as np\n",
    "\n",
    "from matplotlib import pyplot as plt\n",
    "from mpl_toolkits.mplot3d import Axes3D\n",
    "\n",
    "import sympy as sym\n",
    "from sympy.plotting import plot3d\n",
    "\n",
    "\n",
    "from ipywidgets import interact\n",
    "from ipywidgets import FloatSlider\n",
    "\n",
    "from IPython.display import clear_output\n",
    "\n",
    "x, y = sym.symbols('x y')\n",
    "%matplotlib widget\n",
    "# import matplotlib\n",
    "# matplotlib.rcParams['text.usetex'] = True\n",
    "plt.ion()"
   ]
  },
  {
   "cell_type": "markdown",
   "id": "738a4e64-2d15-4595-901f-6825c5798128",
   "metadata": {},
   "source": [
    "# 2D Points\n",
    "**2D points.** (pixel coordinates in an image) can be denoted using a pair of values $\\textbf{x}=(x,y) \\in \\mathcal{R}^2$ or alternatively,\n",
    "$$\n",
    "\\textbf{x} = \\begin{bmatrix}\n",
    "a \\\\ \n",
    "c\n",
    "\\end{bmatrix}\n",
    "$$\n",
    "(As stated in the introduction, we use the $(x_1, x_2, \\dots)$ notation to denote column vectors.)"
   ]
  },
  {
   "cell_type": "code",
   "execution_count": 2,
   "id": "ac79dd81-58cb-4f87-8775-eb62ba5eea02",
   "metadata": {},
   "outputs": [
    {
     "data": {
      "application/vnd.jupyter.widget-view+json": {
       "model_id": "4ef8632e18764ffbaf9eeb8fd7a3f584",
       "version_major": 2,
       "version_minor": 0
      },
      "text/plain": [
       "Canvas(toolbar=Toolbar(toolitems=[('Home', 'Reset original view', 'home', 'home'), ('Back', 'Back to previous …"
      ]
     },
     "metadata": {},
     "output_type": "display_data"
    },
    {
     "data": {
      "application/vnd.jupyter.widget-view+json": {
       "model_id": "88654e56287e42008977aadf7b640171",
       "version_major": 2,
       "version_minor": 0
      },
      "text/plain": [
       "interactive(children=(FloatSlider(value=0.0, description='x_pos', max=5.0, min=-5.0), FloatSlider(value=0.0, d…"
      ]
     },
     "metadata": {},
     "output_type": "display_data"
    }
   ],
   "source": [
    "class Point2Dplot:\n",
    "    def __init__(self, im_plane_size = (10, 10)):\n",
    "        x_size, y_size = im_plane_size\n",
    "        x_size_h, y_size_h = x_size / 2, y_size / 2\n",
    "        fig, self.ax = plt.subplots()\n",
    "        self.setup(x_size_h, y_size_h)\n",
    "        \n",
    "        self.sc = self.ax.scatter([1], [1], label = 'Point Location', color='blue')\n",
    "        leg = self.ax.legend(loc='upper right')\n",
    "        plt.tight_layout()\n",
    "\n",
    "        x_slider=FloatSlider(min=-x_size_h, max=x_size_h, value=0)\n",
    "        y_slider=FloatSlider(min=-y_size_h, max=y_size_h, value=0)\n",
    "        \n",
    "        interact(self.update, x_pos=x_slider, y_pos=y_slider)\n",
    "        \n",
    "    def setup(self, x_size_h, y_size_h):\n",
    "        self.ax.set_xlim([-x_size_h, x_size_h])\n",
    "        self.ax.set_ylim([-y_size_h, y_size_h])\n",
    "\n",
    "\n",
    "        self.ax.set_title(\"Point on 2D image plane\")\n",
    "        self.ax.set_xlabel('x')\n",
    "        self.ax.set_ylabel('y')\n",
    "        self.ax.grid(True)\n",
    "\n",
    "    def update(self, x_pos, y_pos):\n",
    "        self.sc.remove()\n",
    "        self.sc = self.ax.scatter(x_pos, y_pos, color='blue')\n",
    "        \n",
    "p2p = Point2Dplot()"
   ]
  },
  {
   "cell_type": "markdown",
   "id": "3873a872-bc4d-465d-9183-6747a96ace58",
   "metadata": {},
   "source": [
    "## Homogeneous coordinates\n",
    "\n",
    "2D points can also be represented using *homogeneueous coordinates*, $\\tilde{\\textbf{x}}=(\\tilde{x}, \\tilde{y}, \\tilde{w}) \\in \\mathcal{P}^2$, where vectors that differ only by scale are considered to be equivalent. $\\mathcal{P}^2 = \\mathcal{R}^3 - (0, 0, )$ is called 2D *projective space*.\n",
    "\n",
    "A homogeneous vector $\\tilde{\\textbf{x}}$ can be converted back into an *inhomogeneous* vector $\\textbf{x}$ by dividing through by the last element $\\tilde{w}$ i.e.,\n",
    "\n",
    "$$ \\tilde{\\textbf{x}} = (\\tilde{x}, \\tilde{y}, \\tilde{w}) = \\tilde{w} (x, y, 1) = \\tilde{w}\\bar{\\textbf{x}}$$\n",
    "\n",
    "where $\\bar{\\textbf{x}} = (x, y, 1)$ is and *augumented vector*. Homogeneous points whose last element is $\\tilde{w} = 0$ is called *ideal points or points at infinity* and do not have an equivalent inhomogeneous representation. "
   ]
  },
  {
   "cell_type": "code",
   "execution_count": 3,
   "id": "29c83139-1ed3-4a4a-8106-609815baff41",
   "metadata": {},
   "outputs": [
    {
     "data": {
      "application/vnd.jupyter.widget-view+json": {
       "model_id": "824b8fe6dc884998b1cfd23aa1a65e5a",
       "version_major": 2,
       "version_minor": 0
      },
      "text/plain": [
       "Canvas(toolbar=Toolbar(toolitems=[('Home', 'Reset original view', 'home', 'home'), ('Back', 'Back to previous …"
      ]
     },
     "metadata": {},
     "output_type": "display_data"
    },
    {
     "data": {
      "application/vnd.jupyter.widget-view+json": {
       "model_id": "e0576a38fc2e4826823ec81168b401fc",
       "version_major": 2,
       "version_minor": 0
      },
      "text/plain": [
       "interactive(children=(FloatSlider(value=0.0, description='x_pos', max=3.0, min=-3.0), FloatSlider(value=0.0, d…"
      ]
     },
     "metadata": {},
     "output_type": "display_data"
    }
   ],
   "source": [
    "class Point2Dray3D:\n",
    "    def __init__(self, im_plane_size = (6, 6), depth=5):\n",
    "        x_size, y_size = im_plane_size\n",
    "        x_size_h, y_size_h = x_size / 2, y_size / 2\n",
    "        view_point_x = x_size_h * depth\n",
    "        view_point_y = y_size_h * depth\n",
    "        fig = plt.figure()\n",
    "        self.ax = fig.add_subplot(projection='3d')\n",
    "\n",
    "        self.ax.set_xlim([-view_point_x, view_point_x])\n",
    "        self.ax.set_ylim([0, depth])\n",
    "        self.ax.set_zlim([-view_point_y, view_point_y])\n",
    "\n",
    "        self.ax.set_title(\"3D point projection on Image plane\")\n",
    "        self.ax.set_xlabel('x')\n",
    "        self.ax.set_ylabel('z')\n",
    "        self.ax.set_zlabel('y')\n",
    "        \n",
    "        self.center = np.zeros(3)\n",
    "        self.pov = self.ax.scatter(*self.center, color='black')\n",
    "\n",
    "        xx, yy = np.meshgrid(np.arange(-x_size_h, x_size_h+1), np.arange(-y_size_h, y_size_h+1))\n",
    "        zz = np.ones_like(xx)\n",
    "\n",
    "        self.im_plane = self.ax.plot_surface(xx, zz, yy, alpha=0.3, color=\"blue\")\n",
    "        self.ax.text(-x_size_h, 1, y_size_h, \"Image Plane\", fontsize=6)\n",
    "        \n",
    "        self.ax.plot(*tuple(zip(self.center, [-view_point_x, depth, view_point_y])), color='grey', alpha=0.5)\n",
    "        self.ax.plot(*tuple(zip(self.center, [view_point_x, depth, view_point_y])), color='grey', alpha=0.5)\n",
    "        self.ax.plot(*tuple(zip(self.center, [view_point_x, depth, -view_point_y])), color='grey', alpha=0.5)\n",
    "        self.ax.plot(*tuple(zip(self.center, [-view_point_x, depth, -view_point_y])), color='grey', alpha=0.5)\n",
    "        \n",
    "        \n",
    "        vect = np.array([0, 1, 0])\n",
    "\n",
    "        self.ray = self.ax.quiver(*self.center, *vect, color='black')\n",
    "        self.im_point = self.ax.scatter(*vect, color='red')\n",
    "        \n",
    "        self.ax.legend([self.pov, self.ray, self.im_point], [r'Point of View: $x=(0, 0, 0)$', r'View Ray: Vect($\\tilde{w}(x, y, 1)$)', 'Image point: $(x, y, 1)$'], loc='upper right',\n",
    "                      shadow=True)\n",
    "        plt.tight_layout()\n",
    "        \n",
    "        x_slider=FloatSlider(min=-x_size_h, max=x_size_h, value=0)\n",
    "        y_slider=FloatSlider(min=-y_size_h, max=y_size_h, value=0)\n",
    "        dist_slider=FloatSlider(min=0, max=depth, value=1)\n",
    "        \n",
    "        interact(self.update, x_pos=x_slider, y_pos=y_slider, dist=dist_slider)\n",
    "        \n",
    "    def update(self, x_pos, y_pos, dist):\n",
    "        vect = np.array([x_pos, 1, y_pos])\n",
    "        vect_scaled = vect * dist\n",
    "\n",
    "        self.ray.remove()\n",
    "        self.ray = self.ax.quiver(*self.center, *vect_scaled, color='black')\n",
    "\n",
    "        self.im_point.remove()\n",
    "        self.im_point = self.ax.scatter(*vect, color='red')\n",
    "            \n",
    "p2r3 = Point2Dray3D()"
   ]
  },
  {
   "cell_type": "code",
   "execution_count": null,
   "id": "65d9a82a-d9e1-4fe3-8594-5e5be1655dc5",
   "metadata": {},
   "outputs": [],
   "source": []
  }
 ],
 "metadata": {
  "kernelspec": {
   "display_name": "Python 3",
   "language": "python",
   "name": "python3"
  },
  "language_info": {
   "codemirror_mode": {
    "name": "ipython",
    "version": 3
   },
   "file_extension": ".py",
   "mimetype": "text/x-python",
   "name": "python",
   "nbconvert_exporter": "python",
   "pygments_lexer": "ipython3",
   "version": "3.6.13"
  },
  "widgets": {
   "application/vnd.jupyter.widget-state+json": {
    "state": {
     "1ddde70fbab047a09c67701bfe897a5e": {
      "model_module": "@jupyter-widgets/base",
      "model_module_version": "1.2.0",
      "model_name": "LayoutModel",
      "state": {}
     },
     "1fed0b9f3a694924a40457c4679f70cf": {
      "model_module": "@jupyter-widgets/controls",
      "model_module_version": "1.5.0",
      "model_name": "FloatSliderModel",
      "state": {
       "description": "dist",
       "layout": "IPY_MODEL_c63e6506c0d84f7f909c856e0fa52735",
       "max": 5,
       "step": 0.1,
       "style": "IPY_MODEL_697973f7165348f7b092a4185e843ff1",
       "value": 2.6
      }
     },
     "2ea5b9f604f44d1cadf6a4b42def053f": {
      "model_module": "jupyter-matplotlib",
      "model_module_version": "^0.9.0",
      "model_name": "ToolbarModel",
      "state": {
       "layout": "IPY_MODEL_ae87fe01597645c0bc6156a3fa3b51fd",
       "toolitems": [
        [
         "Home",
         "Reset original view",
         "home",
         "home"
        ],
        [
         "Back",
         "Back to previous view",
         "arrow-left",
         "back"
        ],
        [
         "Forward",
         "Forward to next view",
         "arrow-right",
         "forward"
        ],
        [
         "Pan",
         "Left button pans, Right button zooms\nx/y fixes axis, CTRL fixes aspect",
         "arrows",
         "pan"
        ],
        [
         "Zoom",
         "Zoom to rectangle\nx/y fixes axis, CTRL fixes aspect",
         "square-o",
         "zoom"
        ],
        [
         "Download",
         "Download plot",
         "floppy-o",
         "save_figure"
        ]
       ]
      }
     },
     "33fb475285ee4779b8d875cb972e53e5": {
      "model_module": "@jupyter-widgets/base",
      "model_module_version": "1.2.0",
      "model_name": "LayoutModel",
      "state": {}
     },
     "4127833b5c2547adbcba49e96d49458e": {
      "model_module": "@jupyter-widgets/base",
      "model_module_version": "1.2.0",
      "model_name": "LayoutModel",
      "state": {}
     },
     "4d7af6668ee84db38a50a4851e76fc13": {
      "model_module": "@jupyter-widgets/base",
      "model_module_version": "1.2.0",
      "model_name": "LayoutModel",
      "state": {}
     },
     "4ef8632e18764ffbaf9eeb8fd7a3f584": {
      "model_module": "jupyter-matplotlib",
      "model_module_version": "^0.9.0",
      "model_name": "MPLCanvasModel",
      "state": {
       "_cursor": "default",
       "_figure_label": "Figure 1",
       "_height": 480,
       "_width": 640,
       "layout": "IPY_MODEL_c149ec95366346008a0c00bbf3260cbe",
       "toolbar": "IPY_MODEL_2ea5b9f604f44d1cadf6a4b42def053f",
       "toolbar_position": "left"
      }
     },
     "6196a7a357ad4991827e955c68fde6dd": {
      "model_module": "@jupyter-widgets/controls",
      "model_module_version": "1.5.0",
      "model_name": "FloatSliderModel",
      "state": {
       "description": "y_pos",
       "layout": "IPY_MODEL_b0eac3a5dda24a16bd050f56a8c0b993",
       "max": 3,
       "min": -3,
       "step": 0.1,
       "style": "IPY_MODEL_ae9b2b727a8a42f6bae12d00b0700711",
       "value": 0.1
      }
     },
     "66893910abc54a4da729835fd748bc8c": {
      "model_module": "@jupyter-widgets/base",
      "model_module_version": "1.2.0",
      "model_name": "LayoutModel",
      "state": {}
     },
     "697973f7165348f7b092a4185e843ff1": {
      "model_module": "@jupyter-widgets/controls",
      "model_module_version": "1.5.0",
      "model_name": "SliderStyleModel",
      "state": {
       "description_width": ""
      }
     },
     "742438ba6bc54be0a10e51208f855ab3": {
      "model_module": "@jupyter-widgets/controls",
      "model_module_version": "1.5.0",
      "model_name": "SliderStyleModel",
      "state": {
       "description_width": ""
      }
     },
     "8184e331bc1f43ffa0030b34613ad941": {
      "model_module": "@jupyter-widgets/controls",
      "model_module_version": "1.5.0",
      "model_name": "FloatSliderModel",
      "state": {
       "description": "x_pos",
       "layout": "IPY_MODEL_4d7af6668ee84db38a50a4851e76fc13",
       "max": 3,
       "min": -3,
       "step": 0.1,
       "style": "IPY_MODEL_742438ba6bc54be0a10e51208f855ab3",
       "value": 0.4
      }
     },
     "824b8fe6dc884998b1cfd23aa1a65e5a": {
      "model_module": "jupyter-matplotlib",
      "model_module_version": "^0.9.0",
      "model_name": "MPLCanvasModel",
      "state": {
       "_cursor": "default",
       "_figure_label": "Figure 2",
       "_height": 480,
       "_image_mode": "diff",
       "_message": "x=7.0589, y=−0.1500, z=−16.8636",
       "_width": 640,
       "layout": "IPY_MODEL_4127833b5c2547adbcba49e96d49458e",
       "toolbar": "IPY_MODEL_f4c463053cde4f8a97ad26fb9de9aacf",
       "toolbar_position": "left"
      }
     },
     "84ca978f031249c9813f520753746a07": {
      "model_module": "@jupyter-widgets/output",
      "model_module_version": "1.0.0",
      "model_name": "OutputModel",
      "state": {
       "layout": "IPY_MODEL_33fb475285ee4779b8d875cb972e53e5"
      }
     },
     "88654e56287e42008977aadf7b640171": {
      "model_module": "@jupyter-widgets/controls",
      "model_module_version": "1.5.0",
      "model_name": "VBoxModel",
      "state": {
       "_dom_classes": [
        "widget-interact"
       ],
       "children": [
        "IPY_MODEL_9626db8e7ac74712a43803518f6a006e",
        "IPY_MODEL_ece45e4ff524400eb289d131e05b7cac",
        "IPY_MODEL_ce2701dc527a44a98cbdb1130fe3da4e"
       ],
       "layout": "IPY_MODEL_ad250695cf744a3da7a171e45326d61d"
      }
     },
     "9626db8e7ac74712a43803518f6a006e": {
      "model_module": "@jupyter-widgets/controls",
      "model_module_version": "1.5.0",
      "model_name": "FloatSliderModel",
      "state": {
       "description": "x_pos",
       "layout": "IPY_MODEL_66893910abc54a4da729835fd748bc8c",
       "max": 5,
       "min": -5,
       "step": 0.1,
       "style": "IPY_MODEL_c481d2d0df9c4d6abb952e77f489e81d"
      }
     },
     "ad250695cf744a3da7a171e45326d61d": {
      "model_module": "@jupyter-widgets/base",
      "model_module_version": "1.2.0",
      "model_name": "LayoutModel",
      "state": {}
     },
     "ae87fe01597645c0bc6156a3fa3b51fd": {
      "model_module": "@jupyter-widgets/base",
      "model_module_version": "1.2.0",
      "model_name": "LayoutModel",
      "state": {}
     },
     "ae9b2b727a8a42f6bae12d00b0700711": {
      "model_module": "@jupyter-widgets/controls",
      "model_module_version": "1.5.0",
      "model_name": "SliderStyleModel",
      "state": {
       "description_width": ""
      }
     },
     "b0eac3a5dda24a16bd050f56a8c0b993": {
      "model_module": "@jupyter-widgets/base",
      "model_module_version": "1.2.0",
      "model_name": "LayoutModel",
      "state": {}
     },
     "c149ec95366346008a0c00bbf3260cbe": {
      "model_module": "@jupyter-widgets/base",
      "model_module_version": "1.2.0",
      "model_name": "LayoutModel",
      "state": {}
     },
     "c35c29afca8e4c2894a1bb58e535e91c": {
      "model_module": "@jupyter-widgets/base",
      "model_module_version": "1.2.0",
      "model_name": "LayoutModel",
      "state": {}
     },
     "c481d2d0df9c4d6abb952e77f489e81d": {
      "model_module": "@jupyter-widgets/controls",
      "model_module_version": "1.5.0",
      "model_name": "SliderStyleModel",
      "state": {
       "description_width": ""
      }
     },
     "c63e6506c0d84f7f909c856e0fa52735": {
      "model_module": "@jupyter-widgets/base",
      "model_module_version": "1.2.0",
      "model_name": "LayoutModel",
      "state": {}
     },
     "ce2701dc527a44a98cbdb1130fe3da4e": {
      "model_module": "@jupyter-widgets/output",
      "model_module_version": "1.0.0",
      "model_name": "OutputModel",
      "state": {
       "layout": "IPY_MODEL_ed71f8f75aa34c45acbca58a623189ec"
      }
     },
     "e0576a38fc2e4826823ec81168b401fc": {
      "model_module": "@jupyter-widgets/controls",
      "model_module_version": "1.5.0",
      "model_name": "VBoxModel",
      "state": {
       "_dom_classes": [
        "widget-interact"
       ],
       "children": [
        "IPY_MODEL_8184e331bc1f43ffa0030b34613ad941",
        "IPY_MODEL_6196a7a357ad4991827e955c68fde6dd",
        "IPY_MODEL_1fed0b9f3a694924a40457c4679f70cf",
        "IPY_MODEL_84ca978f031249c9813f520753746a07"
       ],
       "layout": "IPY_MODEL_fb408adb74064b25836e38549b9537bc"
      }
     },
     "ece45e4ff524400eb289d131e05b7cac": {
      "model_module": "@jupyter-widgets/controls",
      "model_module_version": "1.5.0",
      "model_name": "FloatSliderModel",
      "state": {
       "description": "y_pos",
       "layout": "IPY_MODEL_1ddde70fbab047a09c67701bfe897a5e",
       "max": 5,
       "min": -5,
       "step": 0.1,
       "style": "IPY_MODEL_f214e465e9b749b998b4191d27eab90e"
      }
     },
     "ed71f8f75aa34c45acbca58a623189ec": {
      "model_module": "@jupyter-widgets/base",
      "model_module_version": "1.2.0",
      "model_name": "LayoutModel",
      "state": {}
     },
     "f214e465e9b749b998b4191d27eab90e": {
      "model_module": "@jupyter-widgets/controls",
      "model_module_version": "1.5.0",
      "model_name": "SliderStyleModel",
      "state": {
       "description_width": ""
      }
     },
     "f4c463053cde4f8a97ad26fb9de9aacf": {
      "model_module": "jupyter-matplotlib",
      "model_module_version": "^0.9.0",
      "model_name": "ToolbarModel",
      "state": {
       "layout": "IPY_MODEL_c35c29afca8e4c2894a1bb58e535e91c",
       "toolitems": [
        [
         "Home",
         "Reset original view",
         "home",
         "home"
        ],
        [
         "Back",
         "Back to previous view",
         "arrow-left",
         "back"
        ],
        [
         "Forward",
         "Forward to next view",
         "arrow-right",
         "forward"
        ],
        [
         "Pan",
         "Left button pans, Right button zooms\nx/y fixes axis, CTRL fixes aspect",
         "arrows",
         "pan"
        ],
        [
         "Zoom",
         "Zoom to rectangle\nx/y fixes axis, CTRL fixes aspect",
         "square-o",
         "zoom"
        ],
        [
         "Download",
         "Download plot",
         "floppy-o",
         "save_figure"
        ]
       ]
      }
     },
     "fb408adb74064b25836e38549b9537bc": {
      "model_module": "@jupyter-widgets/base",
      "model_module_version": "1.2.0",
      "model_name": "LayoutModel",
      "state": {}
     }
    },
    "version_major": 2,
    "version_minor": 0
   }
  }
 },
 "nbformat": 4,
 "nbformat_minor": 5
}
