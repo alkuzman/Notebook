{
 "cells": [
  {
   "cell_type": "code",
   "execution_count": 3,
   "id": "b6d75d18-ec2c-4bf7-b443-74f22fde9603",
   "metadata": {},
   "outputs": [],
   "source": [
    "import numpy as np\n",
    "\n",
    "from matplotlib import pyplot as plt\n",
    "from mpl_toolkits.mplot3d import Axes3D\n",
    "\n",
    "import sympy as sym\n",
    "from sympy.plotting import plot3d\n",
    "\n",
    "\n",
    "from ipywidgets import interact\n",
    "from ipywidgets import FloatSlider\n",
    "\n",
    "from IPython.display import clear_output\n",
    "\n",
    "x, y = sym.symbols('x y')\n",
    "%matplotlib widget\n",
    "# import matplotlib\n",
    "# matplotlib.rcParams['text.usetex'] = True\n",
    "plt.ion()"
   ]
  },
  {
   "cell_type": "markdown",
   "id": "738a4e64-2d15-4595-901f-6825c5798128",
   "metadata": {},
   "source": [
    "# 2D Points\n",
    "**2D points.** (pixel coordinates in an image) can be denoted using a pair of values $\\textbf{x}=(x,y) \\in \\mathcal{R}^2$ or alternatively,\n",
    "$$\n",
    "\\textbf{x} = \\begin{bmatrix}\n",
    "x \\\\ \n",
    "y\n",
    "\\end{bmatrix}\n",
    "$$\n",
    "(As stated in the introduction, we use the $(x_1, x_2, \\dots)$ notation to denote column vectors.)"
   ]
  },
  {
   "cell_type": "code",
   "execution_count": 4,
   "id": "ac79dd81-58cb-4f87-8775-eb62ba5eea02",
   "metadata": {},
   "outputs": [
    {
     "data": {
      "application/vnd.jupyter.widget-view+json": {
       "model_id": "9f76ca7ebea342df935dda5df5ec08f4",
       "version_major": 2,
       "version_minor": 0
      },
      "text/plain": [
       "Canvas(toolbar=Toolbar(toolitems=[('Home', 'Reset original view', 'home', 'home'), ('Back', 'Back to previous …"
      ]
     },
     "metadata": {},
     "output_type": "display_data"
    },
    {
     "data": {
      "application/vnd.jupyter.widget-view+json": {
       "model_id": "76ee98cd6b6b43a0b871f4e22373bc87",
       "version_major": 2,
       "version_minor": 0
      },
      "text/plain": [
       "interactive(children=(FloatSlider(value=0.0, description='x_pos', max=5.0, min=-5.0), FloatSlider(value=0.0, d…"
      ]
     },
     "metadata": {},
     "output_type": "display_data"
    }
   ],
   "source": [
    "class Point2Dplot:\n",
    "    def __init__(self, im_plane_size = (10, 10)):\n",
    "        x_size, y_size = im_plane_size\n",
    "        x_size_h, y_size_h = x_size / 2, y_size / 2\n",
    "        fig, self.ax = plt.subplots()\n",
    "        self.setup(x_size_h, y_size_h)\n",
    "        \n",
    "        self.sc = self.ax.scatter([1], [1], label = 'Point Location', color='blue')\n",
    "        leg = self.ax.legend(loc='upper right')\n",
    "        plt.tight_layout()\n",
    "\n",
    "        x_slider=FloatSlider(min=-x_size_h, max=x_size_h, value=0)\n",
    "        y_slider=FloatSlider(min=-y_size_h, max=y_size_h, value=0)\n",
    "        \n",
    "        interact(self.update, x_pos=x_slider, y_pos=y_slider)\n",
    "        \n",
    "    def setup(self, x_size_h, y_size_h):\n",
    "        self.ax.set_xlim([-x_size_h, x_size_h])\n",
    "        self.ax.set_ylim([-y_size_h, y_size_h])\n",
    "\n",
    "\n",
    "        self.ax.set_title(\"Point on 2D image plane\")\n",
    "        self.ax.set_xlabel('x')\n",
    "        self.ax.set_ylabel('y')\n",
    "        self.ax.grid(True)\n",
    "\n",
    "    def update(self, x_pos, y_pos):\n",
    "        self.sc.remove()\n",
    "        self.sc = self.ax.scatter(x_pos, y_pos, color='blue')\n",
    "        \n",
    "p2p = Point2Dplot()"
   ]
  },
  {
   "cell_type": "markdown",
   "id": "3873a872-bc4d-465d-9183-6747a96ace58",
   "metadata": {},
   "source": [
    "## Homogeneous coordinates\n",
    "\n",
    "In mathematics, **homogeneous coordinates** or **projective coordinates**, introduced by [August Ferdinand Möbius](https://en.wikipedia.org/wiki/August_Ferdinand_M%C3%B6bius) in his 1827 work Der barycentrische Calcul, are a system of coordinates used in [projective geometry](https://en.wikipedia.org/wiki/Projective_geometry), as [Cartesian coordinates](https://en.wikipedia.org/wiki/Cartesian_coordinate_system) are used in [Euclidean geometry](https://en.wikipedia.org/wiki/Euclidean_geometry). \n",
    "\n",
    "2D points can also be represented using *homogeneueous coordinates*, $\\tilde{\\textbf{x}}=(\\tilde{x}, \\tilde{y}, \\tilde{w}) \\in \\mathcal{P}^2$, where vectors that differ only by scale are considered to be equivalent. $\\mathcal{P}^2 = \\mathcal{R}^3 - (0, 0, 0)$ is called 2D *projective space*.\n",
    "\n",
    "A homogeneous vector $\\tilde{\\textbf{x}}$ can be converted back into an *inhomogeneous* vector $\\textbf{x}$ by dividing through by the last element $\\tilde{w}$ i.e.,\n",
    "\n",
    "$$ \\tilde{\\textbf{x}} = (\\tilde{x}, \\tilde{y}, \\tilde{w}) = \\tilde{w} (x, y, 1) = \\tilde{w}\\bar{\\textbf{x}}$$\n",
    "\n",
    "where $\\bar{\\textbf{x}} = (x, y, 1)$ is and *augumented vector*. Homogeneous points whose last element is $\\tilde{w} = 0$ is called *ideal points or points at infinity* and do not have an equivalent inhomogeneous representation. "
   ]
  },
  {
   "cell_type": "code",
   "execution_count": 33,
   "id": "29c83139-1ed3-4a4a-8106-609815baff41",
   "metadata": {},
   "outputs": [
    {
     "data": {
      "application/vnd.jupyter.widget-view+json": {
       "model_id": "43a64e7e16e84c94a7988a40cd094102",
       "version_major": 2,
       "version_minor": 0
      },
      "text/plain": [
       "Canvas(toolbar=Toolbar(toolitems=[('Home', 'Reset original view', 'home', 'home'), ('Back', 'Back to previous …"
      ]
     },
     "metadata": {},
     "output_type": "display_data"
    },
    {
     "data": {
      "application/vnd.jupyter.widget-view+json": {
       "model_id": "d10f17ce058443a085a97de411f0477f",
       "version_major": 2,
       "version_minor": 0
      },
      "text/plain": [
       "interactive(children=(FloatSlider(value=0.0, description='x_pos', max=3.0, min=-3.0), FloatSlider(value=0.0, d…"
      ]
     },
     "metadata": {},
     "output_type": "display_data"
    }
   ],
   "source": [
    "class Point2Dray3D:\n",
    "    def __init__(self, im_plane_size = (6, 6), depth=5):\n",
    "        x_size, y_size = im_plane_size\n",
    "        x_size_h, y_size_h = x_size / 2, y_size / 2\n",
    "        view_point_x = x_size_h * depth\n",
    "        view_point_y = y_size_h * depth\n",
    "        fig = plt.figure()\n",
    "        self.ax = fig.add_subplot(projection='3d')\n",
    "\n",
    "        self.ax.set_xlim([-view_point_x, view_point_x])\n",
    "        self.ax.set_ylim([0, depth])\n",
    "        self.ax.set_zlim([-view_point_y, view_point_y])\n",
    "\n",
    "        self.ax.set_title(\"3D point projection on Image plane\")\n",
    "        self.ax.set_xlabel('x')\n",
    "        self.ax.set_ylabel('z')\n",
    "        self.ax.set_zlabel('y')\n",
    "        \n",
    "        self.center = np.zeros(3)\n",
    "        self.pov = self.ax.scatter(*self.center, color='black')\n",
    "\n",
    "        xx, yy = np.meshgrid(np.arange(-x_size_h, x_size_h+1), np.arange(-y_size_h, y_size_h+1))\n",
    "        zz = np.ones_like(xx)\n",
    "\n",
    "        self.im_plane = self.ax.plot_surface(xx, zz, yy, alpha=0.3, color=\"blue\")\n",
    "        self.ax.text(-x_size_h, 1, y_size_h, \"Image Plane\", fontsize=6, color='blue')\n",
    "        \n",
    "        self.ax.plot(*tuple(zip(self.center, [-view_point_x, depth, view_point_y])), color='grey', alpha=0.5)\n",
    "        self.ax.plot(*tuple(zip(self.center, [view_point_x, depth, view_point_y])), color='grey', alpha=0.5)\n",
    "        self.ax.plot(*tuple(zip(self.center, [view_point_x, depth, -view_point_y])), color='grey', alpha=0.5)\n",
    "        self.ax.plot(*tuple(zip(self.center, [-view_point_x, depth, -view_point_y])), color='grey', alpha=0.5)\n",
    "        \n",
    "        \n",
    "        vect = np.array([0, 1, 0])\n",
    "\n",
    "        self.ray = self.ax.quiver(*self.center, *vect, color='green')\n",
    "        self.ray_text = self.ax.text(*vect, str(vect), fontsize=6, color='green')\n",
    "        self.im_point = self.ax.scatter(*vect, color='red')\n",
    "        \n",
    "        self.ax.legend([self.pov, self.ray, self.im_point], [r'Point of View: $x=(0, 0, 0)$', r'View Ray: Vect($\\tilde{w}(x, y, 1)$)', 'Image point: $(x, y, 1)$'], loc='upper right',\n",
    "                      shadow=True)\n",
    "        plt.tight_layout()\n",
    "        \n",
    "        x_slider=FloatSlider(min=-x_size_h, max=x_size_h, value=0)\n",
    "        y_slider=FloatSlider(min=-y_size_h, max=y_size_h, value=0)\n",
    "        dist_slider=FloatSlider(min=0, max=depth, value=1)\n",
    "        \n",
    "        interact(self.update, x_pos=x_slider, y_pos=y_slider, dist=dist_slider)\n",
    "        \n",
    "    def update(self, x_pos, y_pos, dist):\n",
    "        vect = np.array([x_pos, 1, y_pos])\n",
    "        vect_scaled = vect * dist\n",
    "\n",
    "        self.ray.remove()\n",
    "        self.ray = self.ax.quiver(*self.center, *vect_scaled, color='green')\n",
    "        self.ray_text.remove()\n",
    "        self.ray_text = self.ax.text(*vect_scaled, str(vect_scaled), fontsize=6, color='green')\n",
    "\n",
    "        self.im_point.remove()\n",
    "        self.im_point = self.ax.scatter(*vect, color='red')\n",
    "            \n",
    "p2r3 = Point2Dray3D()"
   ]
  },
  {
   "cell_type": "markdown",
   "id": "af5ed25f-a130-486c-8fbc-921a7c1877d4",
   "metadata": {},
   "source": [
    "#### Point Translation"
   ]
  },
  {
   "cell_type": "code",
   "execution_count": 25,
   "id": "65d9a82a-d9e1-4fe3-8594-5e5be1655dc5",
   "metadata": {},
   "outputs": [
    {
     "name": "stdout",
     "output_type": "stream",
     "text": [
      "[6. 8. 1.] [6 8 1]\n"
     ]
    }
   ],
   "source": [
    "T = np.array([\n",
    "    [1, 0, 3],\n",
    "    [0, 1, 6],\n",
    "    [0, 0, 1]\n",
    "])\n",
    "\n",
    "point1 = np.array([3, 2, 1])\n",
    "\n",
    "print((T @ (point1 * 5)) / 5, T @ point1)"
   ]
  }
 ],
 "metadata": {
  "kernelspec": {
   "display_name": "Python 3",
   "language": "python",
   "name": "python3"
  },
  "language_info": {
   "codemirror_mode": {
    "name": "ipython",
    "version": 3
   },
   "file_extension": ".py",
   "mimetype": "text/x-python",
   "name": "python",
   "nbconvert_exporter": "python",
   "pygments_lexer": "ipython3",
   "version": "3.6.13"
  },
  "widgets": {
   "application/vnd.jupyter.widget-state+json": {
    "state": {
     "00000ce506a44a5aa49c3ed88f350cc1": {
      "model_module": "@jupyter-widgets/controls",
      "model_module_version": "1.5.0",
      "model_name": "FloatSliderModel",
      "state": {
       "description": "x_pos",
       "layout": "IPY_MODEL_86a046e9bf0f413aa42e9dacbc6377d1",
       "max": 5,
       "min": -5,
       "step": 0.1,
       "style": "IPY_MODEL_e7faaf30732e414ba03143ad8b965eac"
      }
     },
     "01529299763b4a8bb1efd99b333d77ba": {
      "model_module": "@jupyter-widgets/base",
      "model_module_version": "1.2.0",
      "model_name": "LayoutModel",
      "state": {}
     },
     "04b5e95e247345939cce108631c2aca7": {
      "model_module": "@jupyter-widgets/controls",
      "model_module_version": "1.5.0",
      "model_name": "FloatSliderModel",
      "state": {
       "description": "dist",
       "layout": "IPY_MODEL_15124bbc223a48ee8d0fd12938f96c2c",
       "max": 5,
       "step": 0.1,
       "style": "IPY_MODEL_811479b022604830a0d0cfb82837caef",
       "value": 3
      }
     },
     "04e4a541f245497facf65770c632329c": {
      "model_module": "@jupyter-widgets/base",
      "model_module_version": "1.2.0",
      "model_name": "LayoutModel",
      "state": {}
     },
     "05ce61faafd54cdbb21f069b862d5578": {
      "model_module": "@jupyter-widgets/base",
      "model_module_version": "1.2.0",
      "model_name": "LayoutModel",
      "state": {}
     },
     "087e142297be4607ad1abf4dc70d2f10": {
      "model_module": "@jupyter-widgets/base",
      "model_module_version": "1.2.0",
      "model_name": "LayoutModel",
      "state": {}
     },
     "09340f6889044aaf85a0b19cbfa77b3c": {
      "model_module": "@jupyter-widgets/output",
      "model_module_version": "1.0.0",
      "model_name": "OutputModel",
      "state": {
       "layout": "IPY_MODEL_f1d534df1257412084ca016813667a4f"
      }
     },
     "0ce3f63c2321432d8ba67c0cd0a16414": {
      "model_module": "@jupyter-widgets/controls",
      "model_module_version": "1.5.0",
      "model_name": "VBoxModel",
      "state": {
       "_dom_classes": [
        "widget-interact"
       ],
       "children": [
        "IPY_MODEL_656ee0f58c5f4b40a72318c154438032",
        "IPY_MODEL_2f909483d70445fba4f13556fe5d1abb",
        "IPY_MODEL_2aa07f53b8d2408ba7ececc4ec87330d"
       ],
       "layout": "IPY_MODEL_a263601725d04fcba9445b6e21a305ad"
      }
     },
     "0dfc82681deb40b39cc951cb3f309555": {
      "model_module": "@jupyter-widgets/base",
      "model_module_version": "1.2.0",
      "model_name": "LayoutModel",
      "state": {}
     },
     "0e1a471cba634a05a081e71282a0123e": {
      "model_module": "@jupyter-widgets/base",
      "model_module_version": "1.2.0",
      "model_name": "LayoutModel",
      "state": {}
     },
     "0eb91cd010ed49cd955afbcf1f4f6a3e": {
      "model_module": "@jupyter-widgets/controls",
      "model_module_version": "1.5.0",
      "model_name": "FloatSliderModel",
      "state": {
       "description": "x_pos",
       "layout": "IPY_MODEL_ca4ec7c297e2424399cd99e0e74b0567",
       "max": 3,
       "min": -3,
       "step": 0.1,
       "style": "IPY_MODEL_c530e5835f164e5fb9435daf1a87c69b",
       "value": 0.8
      }
     },
     "13c7c272ec4a4f3ba6cd1fcd59e887ff": {
      "model_module": "@jupyter-widgets/base",
      "model_module_version": "1.2.0",
      "model_name": "LayoutModel",
      "state": {}
     },
     "15124bbc223a48ee8d0fd12938f96c2c": {
      "model_module": "@jupyter-widgets/base",
      "model_module_version": "1.2.0",
      "model_name": "LayoutModel",
      "state": {}
     },
     "15c76d2b0a214aaba04f8bf701dde6f8": {
      "model_module": "@jupyter-widgets/base",
      "model_module_version": "1.2.0",
      "model_name": "LayoutModel",
      "state": {}
     },
     "16181ae71a6c479bbf806a0ebe6e2789": {
      "model_module": "jupyter-matplotlib",
      "model_module_version": "^0.9.0",
      "model_name": "ToolbarModel",
      "state": {
       "layout": "IPY_MODEL_aac6422a7c9c4b37ab1e7a814527e023",
       "toolitems": [
        [
         "Home",
         "Reset original view",
         "home",
         "home"
        ],
        [
         "Back",
         "Back to previous view",
         "arrow-left",
         "back"
        ],
        [
         "Forward",
         "Forward to next view",
         "arrow-right",
         "forward"
        ],
        [
         "Pan",
         "Left button pans, Right button zooms\nx/y fixes axis, CTRL fixes aspect",
         "arrows",
         "pan"
        ],
        [
         "Zoom",
         "Zoom to rectangle\nx/y fixes axis, CTRL fixes aspect",
         "square-o",
         "zoom"
        ],
        [
         "Download",
         "Download plot",
         "floppy-o",
         "save_figure"
        ]
       ]
      }
     },
     "176b1927c5e14e1b899b62e94cd5ea03": {
      "model_module": "@jupyter-widgets/controls",
      "model_module_version": "1.5.0",
      "model_name": "FloatSliderModel",
      "state": {
       "description": "x_pos",
       "layout": "IPY_MODEL_640bb450cac94537871dda6bf64354f1",
       "max": 3,
       "min": -3,
       "step": 0.1,
       "style": "IPY_MODEL_3a5dae1ebc9d494e9f72f0ee2281ba71",
       "value": 1
      }
     },
     "17afd02e6d7b4a18b3adab05a0d44bf5": {
      "model_module": "jupyter-matplotlib",
      "model_module_version": "^0.9.0",
      "model_name": "MPLCanvasModel",
      "state": {
       "_cursor": "default",
       "_figure_label": "Figure 4",
       "_height": 480,
       "_width": 640,
       "layout": "IPY_MODEL_d2e56fba9f6d4bed9f6f038723d2a2ad",
       "toolbar": "IPY_MODEL_bf917247ba9647eda0968d476bee7cb6",
       "toolbar_position": "left"
      }
     },
     "17b6b1133c4b41399c32e643d86e1cc5": {
      "model_module": "@jupyter-widgets/base",
      "model_module_version": "1.2.0",
      "model_name": "LayoutModel",
      "state": {}
     },
     "19851c9345e043aca28f9dbb2dcbbce5": {
      "model_module": "@jupyter-widgets/controls",
      "model_module_version": "1.5.0",
      "model_name": "SliderStyleModel",
      "state": {
       "description_width": ""
      }
     },
     "19b30de34e674e549580fbed6e69c1fa": {
      "model_module": "@jupyter-widgets/base",
      "model_module_version": "1.2.0",
      "model_name": "LayoutModel",
      "state": {}
     },
     "202f7a6778724179b7ace7b8b7701d91": {
      "model_module": "@jupyter-widgets/base",
      "model_module_version": "1.2.0",
      "model_name": "LayoutModel",
      "state": {}
     },
     "2361c1c4419b49a5b4786fe2b4dc36f1": {
      "model_module": "@jupyter-widgets/base",
      "model_module_version": "1.2.0",
      "model_name": "LayoutModel",
      "state": {}
     },
     "23cc64456aa749da8853c44ece62e25c": {
      "model_module": "@jupyter-widgets/controls",
      "model_module_version": "1.5.0",
      "model_name": "SliderStyleModel",
      "state": {
       "description_width": ""
      }
     },
     "24db746fee4e4816a635cf205b14531a": {
      "model_module": "@jupyter-widgets/controls",
      "model_module_version": "1.5.0",
      "model_name": "FloatSliderModel",
      "state": {
       "description": "x_pos",
       "layout": "IPY_MODEL_d81f1d84be774fb88d7e2889fdb4cdcd",
       "max": 3,
       "min": -3,
       "step": 0.1,
       "style": "IPY_MODEL_4b38055f3f6d42528e8fa44053b4aad3"
      }
     },
     "24eed629fa5441338a014c7bab642caa": {
      "model_module": "@jupyter-widgets/controls",
      "model_module_version": "1.5.0",
      "model_name": "SliderStyleModel",
      "state": {
       "description_width": ""
      }
     },
     "2726371ce260454ea344de91ef7bf465": {
      "model_module": "@jupyter-widgets/controls",
      "model_module_version": "1.5.0",
      "model_name": "SliderStyleModel",
      "state": {
       "description_width": ""
      }
     },
     "2883e061fba34e1b90f2e069084860de": {
      "model_module": "@jupyter-widgets/base",
      "model_module_version": "1.2.0",
      "model_name": "LayoutModel",
      "state": {}
     },
     "2aa07f53b8d2408ba7ececc4ec87330d": {
      "model_module": "@jupyter-widgets/output",
      "model_module_version": "1.0.0",
      "model_name": "OutputModel",
      "state": {
       "layout": "IPY_MODEL_e7fe15f5d6964b8d907fceed86eec64b"
      }
     },
     "2dc97784e70f440c982604cbdb564de9": {
      "model_module": "@jupyter-widgets/base",
      "model_module_version": "1.2.0",
      "model_name": "LayoutModel",
      "state": {}
     },
     "2f909483d70445fba4f13556fe5d1abb": {
      "model_module": "@jupyter-widgets/controls",
      "model_module_version": "1.5.0",
      "model_name": "FloatSliderModel",
      "state": {
       "description": "y_pos",
       "layout": "IPY_MODEL_9512daad376742639ca79ac7e0cddad2",
       "max": 5,
       "min": -5,
       "step": 0.1,
       "style": "IPY_MODEL_9322fcea8ee04aafadc7ba10120acfa0"
      }
     },
     "32bf5962fe114a788a36bc2ba9917ef0": {
      "model_module": "@jupyter-widgets/controls",
      "model_module_version": "1.5.0",
      "model_name": "FloatSliderModel",
      "state": {
       "description": "dist",
       "layout": "IPY_MODEL_2361c1c4419b49a5b4786fe2b4dc36f1",
       "max": 5,
       "step": 0.1,
       "style": "IPY_MODEL_5029b087d8764219b4741a1674576588",
       "value": 5
      }
     },
     "3a5dae1ebc9d494e9f72f0ee2281ba71": {
      "model_module": "@jupyter-widgets/controls",
      "model_module_version": "1.5.0",
      "model_name": "SliderStyleModel",
      "state": {
       "description_width": ""
      }
     },
     "3ac331aae9ce4a1497fe0e17dfac8d9e": {
      "model_module": "@jupyter-widgets/controls",
      "model_module_version": "1.5.0",
      "model_name": "FloatSliderModel",
      "state": {
       "description": "x_pos",
       "layout": "IPY_MODEL_0e1a471cba634a05a081e71282a0123e",
       "max": 3,
       "min": -3,
       "step": 0.1,
       "style": "IPY_MODEL_65fe40ee66bf42bdb272c01d1b9e27bf"
      }
     },
     "3b6a81a7a2a546d9a2ece8affe09b07c": {
      "model_module": "@jupyter-widgets/controls",
      "model_module_version": "1.5.0",
      "model_name": "FloatSliderModel",
      "state": {
       "description": "dist",
       "layout": "IPY_MODEL_d36a436cc663474b9d96ba4ece4df534",
       "max": 5,
       "step": 0.1,
       "style": "IPY_MODEL_419fd04f0705467cb468c959ca0f09c4",
       "value": 1
      }
     },
     "3f15158aec794d23b377d6041f8c7268": {
      "model_module": "@jupyter-widgets/controls",
      "model_module_version": "1.5.0",
      "model_name": "FloatSliderModel",
      "state": {
       "description": "y_pos",
       "layout": "IPY_MODEL_f55f40142bfe49269fdce3f169806958",
       "max": 3,
       "min": -3,
       "step": 0.1,
       "style": "IPY_MODEL_409a04307044422e9bf608272e2b178a"
      }
     },
     "409a04307044422e9bf608272e2b178a": {
      "model_module": "@jupyter-widgets/controls",
      "model_module_version": "1.5.0",
      "model_name": "SliderStyleModel",
      "state": {
       "description_width": ""
      }
     },
     "4151ec40eeff4be2b11884fc9a04a78e": {
      "model_module": "@jupyter-widgets/base",
      "model_module_version": "1.2.0",
      "model_name": "LayoutModel",
      "state": {}
     },
     "419fd04f0705467cb468c959ca0f09c4": {
      "model_module": "@jupyter-widgets/controls",
      "model_module_version": "1.5.0",
      "model_name": "SliderStyleModel",
      "state": {
       "description_width": ""
      }
     },
     "432507e426794319a1d141f60ba6b037": {
      "model_module": "@jupyter-widgets/base",
      "model_module_version": "1.2.0",
      "model_name": "LayoutModel",
      "state": {}
     },
     "43a64e7e16e84c94a7988a40cd094102": {
      "model_module": "jupyter-matplotlib",
      "model_module_version": "^0.9.0",
      "model_name": "MPLCanvasModel",
      "state": {
       "_cursor": "default",
       "_figure_label": "Figure 9",
       "_height": 480,
       "_image_mode": "diff",
       "_width": 640,
       "layout": "IPY_MODEL_01529299763b4a8bb1efd99b333d77ba",
       "toolbar": "IPY_MODEL_5aa84bf1dda24369989d094c87c304c8",
       "toolbar_position": "left"
      }
     },
     "4603bfd05f35418bab108fb9277b22bc": {
      "model_module": "@jupyter-widgets/base",
      "model_module_version": "1.2.0",
      "model_name": "LayoutModel",
      "state": {}
     },
     "47633a690b0f415ca14e1d416052a3c7": {
      "model_module": "@jupyter-widgets/base",
      "model_module_version": "1.2.0",
      "model_name": "LayoutModel",
      "state": {}
     },
     "487294094bdd41119ed63b70a44abefd": {
      "model_module": "@jupyter-widgets/controls",
      "model_module_version": "1.5.0",
      "model_name": "VBoxModel",
      "state": {
       "_dom_classes": [
        "widget-interact"
       ],
       "children": [
        "IPY_MODEL_176b1927c5e14e1b899b62e94cd5ea03",
        "IPY_MODEL_3f15158aec794d23b377d6041f8c7268",
        "IPY_MODEL_04b5e95e247345939cce108631c2aca7",
        "IPY_MODEL_09340f6889044aaf85a0b19cbfa77b3c"
       ],
       "layout": "IPY_MODEL_fffca0d5ebf444e893347b95418fbcfc"
      }
     },
     "489bbf62c0d44f43858bbfbde4960a65": {
      "model_module": "@jupyter-widgets/base",
      "model_module_version": "1.2.0",
      "model_name": "LayoutModel",
      "state": {}
     },
     "4b38055f3f6d42528e8fa44053b4aad3": {
      "model_module": "@jupyter-widgets/controls",
      "model_module_version": "1.5.0",
      "model_name": "SliderStyleModel",
      "state": {
       "description_width": ""
      }
     },
     "4cfde9dacfbb4ba894234036e4afcff3": {
      "model_module": "@jupyter-widgets/controls",
      "model_module_version": "1.5.0",
      "model_name": "FloatSliderModel",
      "state": {
       "description": "y_pos",
       "layout": "IPY_MODEL_47633a690b0f415ca14e1d416052a3c7",
       "max": 3,
       "min": -3,
       "step": 0.1,
       "style": "IPY_MODEL_fee7b3bc7e8741cbb47ed48311482f79",
       "value": 1.5
      }
     },
     "5029b087d8764219b4741a1674576588": {
      "model_module": "@jupyter-widgets/controls",
      "model_module_version": "1.5.0",
      "model_name": "SliderStyleModel",
      "state": {
       "description_width": ""
      }
     },
     "525c988087994f49b123e77f99c1512b": {
      "model_module": "@jupyter-widgets/controls",
      "model_module_version": "1.5.0",
      "model_name": "SliderStyleModel",
      "state": {
       "description_width": ""
      }
     },
     "5a32b5fddf8646ccb6b577c876b271ad": {
      "model_module": "@jupyter-widgets/controls",
      "model_module_version": "1.5.0",
      "model_name": "FloatSliderModel",
      "state": {
       "description": "y_pos",
       "layout": "IPY_MODEL_4603bfd05f35418bab108fb9277b22bc",
       "max": 3,
       "min": -3,
       "step": 0.1,
       "style": "IPY_MODEL_bdf23838c3324da5910fae5392f6ba02"
      }
     },
     "5aa84bf1dda24369989d094c87c304c8": {
      "model_module": "jupyter-matplotlib",
      "model_module_version": "^0.9.0",
      "model_name": "ToolbarModel",
      "state": {
       "layout": "IPY_MODEL_88314db78a4c42bc91375394d0337017",
       "toolitems": [
        [
         "Home",
         "Reset original view",
         "home",
         "home"
        ],
        [
         "Back",
         "Back to previous view",
         "arrow-left",
         "back"
        ],
        [
         "Forward",
         "Forward to next view",
         "arrow-right",
         "forward"
        ],
        [
         "Pan",
         "Left button pans, Right button zooms\nx/y fixes axis, CTRL fixes aspect",
         "arrows",
         "pan"
        ],
        [
         "Zoom",
         "Zoom to rectangle\nx/y fixes axis, CTRL fixes aspect",
         "square-o",
         "zoom"
        ],
        [
         "Download",
         "Download plot",
         "floppy-o",
         "save_figure"
        ]
       ]
      }
     },
     "5b0b76b98210428e8f56bbc2ce9d76f3": {
      "model_module": "@jupyter-widgets/controls",
      "model_module_version": "1.5.0",
      "model_name": "FloatSliderModel",
      "state": {
       "description": "y_pos",
       "layout": "IPY_MODEL_678f1abba5d9439c9c2822218b74c93f",
       "max": 3,
       "min": -3,
       "step": 0.1,
       "style": "IPY_MODEL_a6cd99960eae4f9db203c2d7b3d22025",
       "value": -0.2
      }
     },
     "5bf85f8e5c954416aa6881f66beabbab": {
      "model_module": "jupyter-matplotlib",
      "model_module_version": "^0.9.0",
      "model_name": "ToolbarModel",
      "state": {
       "layout": "IPY_MODEL_04e4a541f245497facf65770c632329c",
       "toolitems": [
        [
         "Home",
         "Reset original view",
         "home",
         "home"
        ],
        [
         "Back",
         "Back to previous view",
         "arrow-left",
         "back"
        ],
        [
         "Forward",
         "Forward to next view",
         "arrow-right",
         "forward"
        ],
        [
         "Pan",
         "Left button pans, Right button zooms\nx/y fixes axis, CTRL fixes aspect",
         "arrows",
         "pan"
        ],
        [
         "Zoom",
         "Zoom to rectangle\nx/y fixes axis, CTRL fixes aspect",
         "square-o",
         "zoom"
        ],
        [
         "Download",
         "Download plot",
         "floppy-o",
         "save_figure"
        ]
       ]
      }
     },
     "5e397d78f93248f398ab036630dc783f": {
      "model_module": "@jupyter-widgets/base",
      "model_module_version": "1.2.0",
      "model_name": "LayoutModel",
      "state": {}
     },
     "5ff2adc1260b4d3bb03c089e48ac12d5": {
      "model_module": "@jupyter-widgets/controls",
      "model_module_version": "1.5.0",
      "model_name": "FloatSliderModel",
      "state": {
       "description": "dist",
       "layout": "IPY_MODEL_17b6b1133c4b41399c32e643d86e1cc5",
       "max": 5,
       "step": 0.1,
       "style": "IPY_MODEL_24eed629fa5441338a014c7bab642caa",
       "value": 1
      }
     },
     "640bb450cac94537871dda6bf64354f1": {
      "model_module": "@jupyter-widgets/base",
      "model_module_version": "1.2.0",
      "model_name": "LayoutModel",
      "state": {}
     },
     "64a5ddde8c8c40068a82fd90a5ae9410": {
      "model_module": "@jupyter-widgets/controls",
      "model_module_version": "1.5.0",
      "model_name": "FloatSliderModel",
      "state": {
       "description": "dist",
       "layout": "IPY_MODEL_2dc97784e70f440c982604cbdb564de9",
       "max": 5,
       "step": 0.1,
       "style": "IPY_MODEL_19851c9345e043aca28f9dbb2dcbbce5",
       "value": 5
      }
     },
     "654e6d19839b43e8b5fb22153c9f2661": {
      "model_module": "@jupyter-widgets/controls",
      "model_module_version": "1.5.0",
      "model_name": "FloatSliderModel",
      "state": {
       "description": "x_pos",
       "layout": "IPY_MODEL_f421f6444f7a4e268cb2dbcaf6829b23",
       "max": 3,
       "min": -3,
       "step": 0.1,
       "style": "IPY_MODEL_2726371ce260454ea344de91ef7bf465"
      }
     },
     "656ee0f58c5f4b40a72318c154438032": {
      "model_module": "@jupyter-widgets/controls",
      "model_module_version": "1.5.0",
      "model_name": "FloatSliderModel",
      "state": {
       "description": "x_pos",
       "layout": "IPY_MODEL_2883e061fba34e1b90f2e069084860de",
       "max": 5,
       "min": -5,
       "step": 0.1,
       "style": "IPY_MODEL_c22f6edc7db643dcb6d15ebee29a210f"
      }
     },
     "65a421b0398c480eb197d7a9d080043b": {
      "model_module": "@jupyter-widgets/controls",
      "model_module_version": "1.5.0",
      "model_name": "VBoxModel",
      "state": {
       "_dom_classes": [
        "widget-interact"
       ],
       "children": [
        "IPY_MODEL_faa2c25be73642cbb5624136595690eb",
        "IPY_MODEL_5b0b76b98210428e8f56bbc2ce9d76f3",
        "IPY_MODEL_696f7bc7ccc34346949b7820310fa5c4",
        "IPY_MODEL_b8f188560f024db0a2eccb9774339475"
       ],
       "layout": "IPY_MODEL_e78f464d72f04cb1972bf2370f0c41a6"
      }
     },
     "65fe40ee66bf42bdb272c01d1b9e27bf": {
      "model_module": "@jupyter-widgets/controls",
      "model_module_version": "1.5.0",
      "model_name": "SliderStyleModel",
      "state": {
       "description_width": ""
      }
     },
     "678f1abba5d9439c9c2822218b74c93f": {
      "model_module": "@jupyter-widgets/base",
      "model_module_version": "1.2.0",
      "model_name": "LayoutModel",
      "state": {}
     },
     "68c53117023b473eb6455a33debbac40": {
      "model_module": "@jupyter-widgets/base",
      "model_module_version": "1.2.0",
      "model_name": "LayoutModel",
      "state": {}
     },
     "696f7bc7ccc34346949b7820310fa5c4": {
      "model_module": "@jupyter-widgets/controls",
      "model_module_version": "1.5.0",
      "model_name": "FloatSliderModel",
      "state": {
       "description": "dist",
       "layout": "IPY_MODEL_77a9177a06e147eaa8d4384c349fbe53",
       "max": 5,
       "step": 0.1,
       "style": "IPY_MODEL_70da53bee6ad484eb9a5c4e657a03932",
       "value": 1
      }
     },
     "6d767431101c4f8a9883c9562bcb1a9c": {
      "model_module": "@jupyter-widgets/base",
      "model_module_version": "1.2.0",
      "model_name": "LayoutModel",
      "state": {}
     },
     "6df510b644d14e7893688ca27a762b46": {
      "model_module": "@jupyter-widgets/base",
      "model_module_version": "1.2.0",
      "model_name": "LayoutModel",
      "state": {}
     },
     "6f34ddd8b8c04df592215767e6982a7a": {
      "model_module": "jupyter-matplotlib",
      "model_module_version": "^0.9.0",
      "model_name": "MPLCanvasModel",
      "state": {
       "_cursor": "default",
       "_figure_label": "Figure 6",
       "_height": 480,
       "_image_mode": "diff",
       "_width": 640,
       "layout": "IPY_MODEL_71d67c1498be4b73919c40938278b83b",
       "toolbar": "IPY_MODEL_16181ae71a6c479bbf806a0ebe6e2789",
       "toolbar_position": "left"
      }
     },
     "70da53bee6ad484eb9a5c4e657a03932": {
      "model_module": "@jupyter-widgets/controls",
      "model_module_version": "1.5.0",
      "model_name": "SliderStyleModel",
      "state": {
       "description_width": ""
      }
     },
     "71d67c1498be4b73919c40938278b83b": {
      "model_module": "@jupyter-widgets/base",
      "model_module_version": "1.2.0",
      "model_name": "LayoutModel",
      "state": {}
     },
     "73946386240745a58f53d5fd5d86ecc8": {
      "model_module": "@jupyter-widgets/base",
      "model_module_version": "1.2.0",
      "model_name": "LayoutModel",
      "state": {}
     },
     "74366d38d5f34aa484f07091fddb8928": {
      "model_module": "@jupyter-widgets/controls",
      "model_module_version": "1.5.0",
      "model_name": "SliderStyleModel",
      "state": {
       "description_width": ""
      }
     },
     "762c0be3a0eb4d63828c3edef5542c78": {
      "model_module": "jupyter-matplotlib",
      "model_module_version": "^0.9.0",
      "model_name": "MPLCanvasModel",
      "state": {
       "_cursor": "default",
       "_figure_label": "Figure 5",
       "_height": 480,
       "_image_mode": "diff",
       "_width": 640,
       "layout": "IPY_MODEL_0dfc82681deb40b39cc951cb3f309555",
       "toolbar": "IPY_MODEL_f97a180c82c54b8987d987a6751f2149",
       "toolbar_position": "left"
      }
     },
     "76ee98cd6b6b43a0b871f4e22373bc87": {
      "model_module": "@jupyter-widgets/controls",
      "model_module_version": "1.5.0",
      "model_name": "VBoxModel",
      "state": {
       "_dom_classes": [
        "widget-interact"
       ],
       "children": [
        "IPY_MODEL_00000ce506a44a5aa49c3ed88f350cc1",
        "IPY_MODEL_dba117a2bef5438983b29848c142d11d",
        "IPY_MODEL_faf25500a4cd48c2ba0d7f6f5fcb1e01"
       ],
       "layout": "IPY_MODEL_6d767431101c4f8a9883c9562bcb1a9c"
      }
     },
     "77a9177a06e147eaa8d4384c349fbe53": {
      "model_module": "@jupyter-widgets/base",
      "model_module_version": "1.2.0",
      "model_name": "LayoutModel",
      "state": {}
     },
     "78ef04eb943c4ce0b077577055ed0489": {
      "model_module": "@jupyter-widgets/controls",
      "model_module_version": "1.5.0",
      "model_name": "FloatSliderModel",
      "state": {
       "description": "y_pos",
       "layout": "IPY_MODEL_6df510b644d14e7893688ca27a762b46",
       "max": 3,
       "min": -3,
       "step": 0.1,
       "style": "IPY_MODEL_23cc64456aa749da8853c44ece62e25c",
       "value": -1.1
      }
     },
     "7a4f01132ed04006b48e382efe1a8c63": {
      "model_module": "@jupyter-widgets/base",
      "model_module_version": "1.2.0",
      "model_name": "LayoutModel",
      "state": {}
     },
     "811479b022604830a0d0cfb82837caef": {
      "model_module": "@jupyter-widgets/controls",
      "model_module_version": "1.5.0",
      "model_name": "SliderStyleModel",
      "state": {
       "description_width": ""
      }
     },
     "86a046e9bf0f413aa42e9dacbc6377d1": {
      "model_module": "@jupyter-widgets/base",
      "model_module_version": "1.2.0",
      "model_name": "LayoutModel",
      "state": {}
     },
     "88314db78a4c42bc91375394d0337017": {
      "model_module": "@jupyter-widgets/base",
      "model_module_version": "1.2.0",
      "model_name": "LayoutModel",
      "state": {}
     },
     "8fc7a051fc7444e5af28c39c015c0181": {
      "model_module": "jupyter-matplotlib",
      "model_module_version": "^0.9.0",
      "model_name": "MPLCanvasModel",
      "state": {
       "_cursor": "default",
       "_figure_label": "Figure 7",
       "_height": 480,
       "_image_mode": "diff",
       "_width": 640,
       "layout": "IPY_MODEL_15c76d2b0a214aaba04f8bf701dde6f8",
       "toolbar": "IPY_MODEL_fad584792f3c487996bf9541ee7f9b15",
       "toolbar_position": "left"
      }
     },
     "92a0fd87d9874b08a981267eff81883d": {
      "model_module": "jupyter-matplotlib",
      "model_module_version": "^0.9.0",
      "model_name": "ToolbarModel",
      "state": {
       "layout": "IPY_MODEL_d7a9ea42d55e4fc3b4716c15f8c9b67f",
       "toolitems": [
        [
         "Home",
         "Reset original view",
         "home",
         "home"
        ],
        [
         "Back",
         "Back to previous view",
         "arrow-left",
         "back"
        ],
        [
         "Forward",
         "Forward to next view",
         "arrow-right",
         "forward"
        ],
        [
         "Pan",
         "Left button pans, Right button zooms\nx/y fixes axis, CTRL fixes aspect",
         "arrows",
         "pan"
        ],
        [
         "Zoom",
         "Zoom to rectangle\nx/y fixes axis, CTRL fixes aspect",
         "square-o",
         "zoom"
        ],
        [
         "Download",
         "Download plot",
         "floppy-o",
         "save_figure"
        ]
       ]
      }
     },
     "9322fcea8ee04aafadc7ba10120acfa0": {
      "model_module": "@jupyter-widgets/controls",
      "model_module_version": "1.5.0",
      "model_name": "SliderStyleModel",
      "state": {
       "description_width": ""
      }
     },
     "93684a04930f4b1ca4f5e5096e2fd2bc": {
      "model_module": "@jupyter-widgets/controls",
      "model_module_version": "1.5.0",
      "model_name": "SliderStyleModel",
      "state": {
       "description_width": ""
      }
     },
     "9390fdf6aa104e538b391870c0a6c156": {
      "model_module": "jupyter-matplotlib",
      "model_module_version": "^0.9.0",
      "model_name": "ToolbarModel",
      "state": {
       "layout": "IPY_MODEL_7a4f01132ed04006b48e382efe1a8c63",
       "toolitems": [
        [
         "Home",
         "Reset original view",
         "home",
         "home"
        ],
        [
         "Back",
         "Back to previous view",
         "arrow-left",
         "back"
        ],
        [
         "Forward",
         "Forward to next view",
         "arrow-right",
         "forward"
        ],
        [
         "Pan",
         "Left button pans, Right button zooms\nx/y fixes axis, CTRL fixes aspect",
         "arrows",
         "pan"
        ],
        [
         "Zoom",
         "Zoom to rectangle\nx/y fixes axis, CTRL fixes aspect",
         "square-o",
         "zoom"
        ],
        [
         "Download",
         "Download plot",
         "floppy-o",
         "save_figure"
        ]
       ]
      }
     },
     "942b5e075c9e401e9ac7a88a5c6ff495": {
      "model_module": "@jupyter-widgets/controls",
      "model_module_version": "1.5.0",
      "model_name": "FloatSliderModel",
      "state": {
       "description": "y_pos",
       "layout": "IPY_MODEL_c6da2e98d1ae43e8a9e94161681dc37f",
       "max": 3,
       "min": -3,
       "step": 0.1,
       "style": "IPY_MODEL_f1bad7c011754e1d9f9f9608df6e155b",
       "value": 0.3
      }
     },
     "9454e35d34c14051a0c0ed3bf318f867": {
      "model_module": "@jupyter-widgets/output",
      "model_module_version": "1.0.0",
      "model_name": "OutputModel",
      "state": {
       "layout": "IPY_MODEL_b4ab6cc429004d26900656b5fa3afe43"
      }
     },
     "9512daad376742639ca79ac7e0cddad2": {
      "model_module": "@jupyter-widgets/base",
      "model_module_version": "1.2.0",
      "model_name": "LayoutModel",
      "state": {}
     },
     "97e46cee523641819b443a2fa500a5b1": {
      "model_module": "@jupyter-widgets/base",
      "model_module_version": "1.2.0",
      "model_name": "LayoutModel",
      "state": {}
     },
     "983faa8cc887426bbfa2d14e7ec24835": {
      "model_module": "@jupyter-widgets/controls",
      "model_module_version": "1.5.0",
      "model_name": "FloatSliderModel",
      "state": {
       "description": "x_pos",
       "layout": "IPY_MODEL_b9b27237bc83437787ecfecd2bb9fbe5",
       "max": 3,
       "min": -3,
       "step": 0.1,
       "style": "IPY_MODEL_93684a04930f4b1ca4f5e5096e2fd2bc",
       "value": 3
      }
     },
     "9a271950f2c74ef0839c21d66b1f151c": {
      "model_module": "@jupyter-widgets/output",
      "model_module_version": "1.0.0",
      "model_name": "OutputModel",
      "state": {
       "layout": "IPY_MODEL_68c53117023b473eb6455a33debbac40"
      }
     },
     "9bbd0c3c667b4dd2a7211c01fa97f5b0": {
      "model_module": "jupyter-matplotlib",
      "model_module_version": "^0.9.0",
      "model_name": "MPLCanvasModel",
      "state": {
       "_cursor": "default",
       "_figure_label": "Figure 3",
       "_height": 480,
       "_width": 640,
       "layout": "IPY_MODEL_9d0d8c3c8cfc4db589e4cbd6f966267b",
       "toolbar": "IPY_MODEL_92a0fd87d9874b08a981267eff81883d",
       "toolbar_position": "left"
      }
     },
     "9d0d8c3c8cfc4db589e4cbd6f966267b": {
      "model_module": "@jupyter-widgets/base",
      "model_module_version": "1.2.0",
      "model_name": "LayoutModel",
      "state": {}
     },
     "9eef0a5aeedb40719ee8b8652b2ff004": {
      "model_module": "@jupyter-widgets/controls",
      "model_module_version": "1.5.0",
      "model_name": "SliderStyleModel",
      "state": {
       "description_width": ""
      }
     },
     "9f76ca7ebea342df935dda5df5ec08f4": {
      "model_module": "jupyter-matplotlib",
      "model_module_version": "^0.9.0",
      "model_name": "MPLCanvasModel",
      "state": {
       "_cursor": "default",
       "_figure_label": "Figure 1",
       "_height": 480,
       "_message": "x=3.37 y=4.64",
       "_width": 640,
       "layout": "IPY_MODEL_97e46cee523641819b443a2fa500a5b1",
       "toolbar": "IPY_MODEL_be7a9ee65f6a43f49e8997b0f9545a22",
       "toolbar_position": "left"
      }
     },
     "a10ade5870da42478ffb0f200d50f5a8": {
      "model_module": "@jupyter-widgets/controls",
      "model_module_version": "1.5.0",
      "model_name": "VBoxModel",
      "state": {
       "_dom_classes": [
        "widget-interact"
       ],
       "children": [
        "IPY_MODEL_654e6d19839b43e8b5fb22153c9f2661",
        "IPY_MODEL_fd87115e16014b41bfe9a0905df87568",
        "IPY_MODEL_3b6a81a7a2a546d9a2ece8affe09b07c",
        "IPY_MODEL_bca05bb29de44e8b8fb43bb23cd2b1e9"
       ],
       "layout": "IPY_MODEL_d217e41cd515416a98cf9bf89f927b8e"
      }
     },
     "a263601725d04fcba9445b6e21a305ad": {
      "model_module": "@jupyter-widgets/base",
      "model_module_version": "1.2.0",
      "model_name": "LayoutModel",
      "state": {}
     },
     "a6cd99960eae4f9db203c2d7b3d22025": {
      "model_module": "@jupyter-widgets/controls",
      "model_module_version": "1.5.0",
      "model_name": "SliderStyleModel",
      "state": {
       "description_width": ""
      }
     },
     "a863798476284383b09084178971e70e": {
      "model_module": "@jupyter-widgets/controls",
      "model_module_version": "1.5.0",
      "model_name": "VBoxModel",
      "state": {
       "_dom_classes": [
        "widget-interact"
       ],
       "children": [
        "IPY_MODEL_3ac331aae9ce4a1497fe0e17dfac8d9e",
        "IPY_MODEL_942b5e075c9e401e9ac7a88a5c6ff495",
        "IPY_MODEL_faa0e69c317247c198ef16624a5b75c6",
        "IPY_MODEL_9454e35d34c14051a0c0ed3bf318f867"
       ],
       "layout": "IPY_MODEL_bb3da5a2571f4e4e92aaf5a78399b503"
      }
     },
     "aa5e08bf2d2b47a6913453a85428fa64": {
      "model_module": "@jupyter-widgets/base",
      "model_module_version": "1.2.0",
      "model_name": "LayoutModel",
      "state": {}
     },
     "aac6422a7c9c4b37ab1e7a814527e023": {
      "model_module": "@jupyter-widgets/base",
      "model_module_version": "1.2.0",
      "model_name": "LayoutModel",
      "state": {}
     },
     "af277164c0e0476388a2f558b527ca4a": {
      "model_module": "@jupyter-widgets/base",
      "model_module_version": "1.2.0",
      "model_name": "LayoutModel",
      "state": {}
     },
     "b4ab6cc429004d26900656b5fa3afe43": {
      "model_module": "@jupyter-widgets/base",
      "model_module_version": "1.2.0",
      "model_name": "LayoutModel",
      "state": {}
     },
     "b5a80101edb04136a9bd84436de344ef": {
      "model_module": "@jupyter-widgets/output",
      "model_module_version": "1.0.0",
      "model_name": "OutputModel",
      "state": {
       "layout": "IPY_MODEL_cd4449fc8f654ba0ad961fac8f6be454"
      }
     },
     "b776a24819a94e9685656f022ff174b8": {
      "model_module": "@jupyter-widgets/base",
      "model_module_version": "1.2.0",
      "model_name": "LayoutModel",
      "state": {}
     },
     "b8f188560f024db0a2eccb9774339475": {
      "model_module": "@jupyter-widgets/output",
      "model_module_version": "1.0.0",
      "model_name": "OutputModel",
      "state": {
       "layout": "IPY_MODEL_4151ec40eeff4be2b11884fc9a04a78e"
      }
     },
     "b9b27237bc83437787ecfecd2bb9fbe5": {
      "model_module": "@jupyter-widgets/base",
      "model_module_version": "1.2.0",
      "model_name": "LayoutModel",
      "state": {}
     },
     "bb3da5a2571f4e4e92aaf5a78399b503": {
      "model_module": "@jupyter-widgets/base",
      "model_module_version": "1.2.0",
      "model_name": "LayoutModel",
      "state": {}
     },
     "bb8823246dfd4ab297a71acd318b1164": {
      "model_module": "jupyter-matplotlib",
      "model_module_version": "^0.9.0",
      "model_name": "MPLCanvasModel",
      "state": {
       "_cursor": "default",
       "_figure_label": "Figure 8",
       "_height": 480,
       "_message": "x=−12.3363, y=0.2381, z=−4.6522",
       "_width": 640,
       "layout": "IPY_MODEL_bdb580cfff6945fd87cd76828adee8d9",
       "toolbar": "IPY_MODEL_5bf85f8e5c954416aa6881f66beabbab",
       "toolbar_position": "left"
      }
     },
     "bbd1110662d64843a0982810b7ee7f59": {
      "model_module": "@jupyter-widgets/base",
      "model_module_version": "1.2.0",
      "model_name": "LayoutModel",
      "state": {}
     },
     "bca05bb29de44e8b8fb43bb23cd2b1e9": {
      "model_module": "@jupyter-widgets/output",
      "model_module_version": "1.0.0",
      "model_name": "OutputModel",
      "state": {
       "layout": "IPY_MODEL_f3756a987c2b4dad8a2b63a76a484353"
      }
     },
     "bdb580cfff6945fd87cd76828adee8d9": {
      "model_module": "@jupyter-widgets/base",
      "model_module_version": "1.2.0",
      "model_name": "LayoutModel",
      "state": {}
     },
     "bdf23838c3324da5910fae5392f6ba02": {
      "model_module": "@jupyter-widgets/controls",
      "model_module_version": "1.5.0",
      "model_name": "SliderStyleModel",
      "state": {
       "description_width": ""
      }
     },
     "be41e346419448e7b27393dfcc58ff1b": {
      "model_module": "@jupyter-widgets/output",
      "model_module_version": "1.0.0",
      "model_name": "OutputModel",
      "state": {
       "layout": "IPY_MODEL_489bbf62c0d44f43858bbfbde4960a65"
      }
     },
     "be7a9ee65f6a43f49e8997b0f9545a22": {
      "model_module": "jupyter-matplotlib",
      "model_module_version": "^0.9.0",
      "model_name": "ToolbarModel",
      "state": {
       "layout": "IPY_MODEL_73946386240745a58f53d5fd5d86ecc8",
       "toolitems": [
        [
         "Home",
         "Reset original view",
         "home",
         "home"
        ],
        [
         "Back",
         "Back to previous view",
         "arrow-left",
         "back"
        ],
        [
         "Forward",
         "Forward to next view",
         "arrow-right",
         "forward"
        ],
        [
         "Pan",
         "Left button pans, Right button zooms\nx/y fixes axis, CTRL fixes aspect",
         "arrows",
         "pan"
        ],
        [
         "Zoom",
         "Zoom to rectangle\nx/y fixes axis, CTRL fixes aspect",
         "square-o",
         "zoom"
        ],
        [
         "Download",
         "Download plot",
         "floppy-o",
         "save_figure"
        ]
       ]
      }
     },
     "bf917247ba9647eda0968d476bee7cb6": {
      "model_module": "jupyter-matplotlib",
      "model_module_version": "^0.9.0",
      "model_name": "ToolbarModel",
      "state": {
       "layout": "IPY_MODEL_c85af56890c24fd3892ee9a374edb993",
       "toolitems": [
        [
         "Home",
         "Reset original view",
         "home",
         "home"
        ],
        [
         "Back",
         "Back to previous view",
         "arrow-left",
         "back"
        ],
        [
         "Forward",
         "Forward to next view",
         "arrow-right",
         "forward"
        ],
        [
         "Pan",
         "Left button pans, Right button zooms\nx/y fixes axis, CTRL fixes aspect",
         "arrows",
         "pan"
        ],
        [
         "Zoom",
         "Zoom to rectangle\nx/y fixes axis, CTRL fixes aspect",
         "square-o",
         "zoom"
        ],
        [
         "Download",
         "Download plot",
         "floppy-o",
         "save_figure"
        ]
       ]
      }
     },
     "c22f6edc7db643dcb6d15ebee29a210f": {
      "model_module": "@jupyter-widgets/controls",
      "model_module_version": "1.5.0",
      "model_name": "SliderStyleModel",
      "state": {
       "description_width": ""
      }
     },
     "c530e5835f164e5fb9435daf1a87c69b": {
      "model_module": "@jupyter-widgets/controls",
      "model_module_version": "1.5.0",
      "model_name": "SliderStyleModel",
      "state": {
       "description_width": ""
      }
     },
     "c6da2e98d1ae43e8a9e94161681dc37f": {
      "model_module": "@jupyter-widgets/base",
      "model_module_version": "1.2.0",
      "model_name": "LayoutModel",
      "state": {}
     },
     "c85af56890c24fd3892ee9a374edb993": {
      "model_module": "@jupyter-widgets/base",
      "model_module_version": "1.2.0",
      "model_name": "LayoutModel",
      "state": {}
     },
     "ca4ec7c297e2424399cd99e0e74b0567": {
      "model_module": "@jupyter-widgets/base",
      "model_module_version": "1.2.0",
      "model_name": "LayoutModel",
      "state": {}
     },
     "ccd1e940c5c146f8aaf7661f3c82c24b": {
      "model_module": "jupyter-matplotlib",
      "model_module_version": "^0.9.0",
      "model_name": "ToolbarModel",
      "state": {
       "layout": "IPY_MODEL_202f7a6778724179b7ace7b8b7701d91",
       "toolitems": [
        [
         "Home",
         "Reset original view",
         "home",
         "home"
        ],
        [
         "Back",
         "Back to previous view",
         "arrow-left",
         "back"
        ],
        [
         "Forward",
         "Forward to next view",
         "arrow-right",
         "forward"
        ],
        [
         "Pan",
         "Left button pans, Right button zooms\nx/y fixes axis, CTRL fixes aspect",
         "arrows",
         "pan"
        ],
        [
         "Zoom",
         "Zoom to rectangle\nx/y fixes axis, CTRL fixes aspect",
         "square-o",
         "zoom"
        ],
        [
         "Download",
         "Download plot",
         "floppy-o",
         "save_figure"
        ]
       ]
      }
     },
     "cd4449fc8f654ba0ad961fac8f6be454": {
      "model_module": "@jupyter-widgets/base",
      "model_module_version": "1.2.0",
      "model_name": "LayoutModel",
      "state": {}
     },
     "d10f17ce058443a085a97de411f0477f": {
      "model_module": "@jupyter-widgets/controls",
      "model_module_version": "1.5.0",
      "model_name": "VBoxModel",
      "state": {
       "_dom_classes": [
        "widget-interact"
       ],
       "children": [
        "IPY_MODEL_983faa8cc887426bbfa2d14e7ec24835",
        "IPY_MODEL_4cfde9dacfbb4ba894234036e4afcff3",
        "IPY_MODEL_64a5ddde8c8c40068a82fd90a5ae9410",
        "IPY_MODEL_b5a80101edb04136a9bd84436de344ef"
       ],
       "layout": "IPY_MODEL_af277164c0e0476388a2f558b527ca4a"
      }
     },
     "d217e41cd515416a98cf9bf89f927b8e": {
      "model_module": "@jupyter-widgets/base",
      "model_module_version": "1.2.0",
      "model_name": "LayoutModel",
      "state": {}
     },
     "d2e107f063394fe298bfc967331baab4": {
      "model_module": "jupyter-matplotlib",
      "model_module_version": "^0.9.0",
      "model_name": "MPLCanvasModel",
      "state": {
       "_cursor": "default",
       "_figure_label": "Figure 2",
       "_height": 480,
       "_image_mode": "diff",
       "_width": 640,
       "layout": "IPY_MODEL_bbd1110662d64843a0982810b7ee7f59",
       "toolbar": "IPY_MODEL_ccd1e940c5c146f8aaf7661f3c82c24b",
       "toolbar_position": "left"
      }
     },
     "d2e56fba9f6d4bed9f6f038723d2a2ad": {
      "model_module": "@jupyter-widgets/base",
      "model_module_version": "1.2.0",
      "model_name": "LayoutModel",
      "state": {}
     },
     "d36a436cc663474b9d96ba4ece4df534": {
      "model_module": "@jupyter-widgets/base",
      "model_module_version": "1.2.0",
      "model_name": "LayoutModel",
      "state": {}
     },
     "d7541e2cdb284be89c80d16873ba9310": {
      "model_module": "@jupyter-widgets/base",
      "model_module_version": "1.2.0",
      "model_name": "LayoutModel",
      "state": {}
     },
     "d7a9ea42d55e4fc3b4716c15f8c9b67f": {
      "model_module": "@jupyter-widgets/base",
      "model_module_version": "1.2.0",
      "model_name": "LayoutModel",
      "state": {}
     },
     "d81f1d84be774fb88d7e2889fdb4cdcd": {
      "model_module": "@jupyter-widgets/base",
      "model_module_version": "1.2.0",
      "model_name": "LayoutModel",
      "state": {}
     },
     "d929de0512f5452c8faa4fd78192b4d2": {
      "model_module": "@jupyter-widgets/controls",
      "model_module_version": "1.5.0",
      "model_name": "VBoxModel",
      "state": {
       "_dom_classes": [
        "widget-interact"
       ],
       "children": [
        "IPY_MODEL_24db746fee4e4816a635cf205b14531a",
        "IPY_MODEL_5a32b5fddf8646ccb6b577c876b271ad",
        "IPY_MODEL_5ff2adc1260b4d3bb03c089e48ac12d5",
        "IPY_MODEL_9a271950f2c74ef0839c21d66b1f151c"
       ],
       "layout": "IPY_MODEL_d7541e2cdb284be89c80d16873ba9310"
      }
     },
     "dba117a2bef5438983b29848c142d11d": {
      "model_module": "@jupyter-widgets/controls",
      "model_module_version": "1.5.0",
      "model_name": "FloatSliderModel",
      "state": {
       "description": "y_pos",
       "layout": "IPY_MODEL_432507e426794319a1d141f60ba6b037",
       "max": 5,
       "min": -5,
       "step": 0.1,
       "style": "IPY_MODEL_9eef0a5aeedb40719ee8b8652b2ff004"
      }
     },
     "e343f62f5e7d41bf9c983a2bb427cb8f": {
      "model_module": "@jupyter-widgets/controls",
      "model_module_version": "1.5.0",
      "model_name": "VBoxModel",
      "state": {
       "_dom_classes": [
        "widget-interact"
       ],
       "children": [
        "IPY_MODEL_0eb91cd010ed49cd955afbcf1f4f6a3e",
        "IPY_MODEL_78ef04eb943c4ce0b077577055ed0489",
        "IPY_MODEL_32bf5962fe114a788a36bc2ba9917ef0",
        "IPY_MODEL_be41e346419448e7b27393dfcc58ff1b"
       ],
       "layout": "IPY_MODEL_b776a24819a94e9685656f022ff174b8"
      }
     },
     "e78f464d72f04cb1972bf2370f0c41a6": {
      "model_module": "@jupyter-widgets/base",
      "model_module_version": "1.2.0",
      "model_name": "LayoutModel",
      "state": {}
     },
     "e7faaf30732e414ba03143ad8b965eac": {
      "model_module": "@jupyter-widgets/controls",
      "model_module_version": "1.5.0",
      "model_name": "SliderStyleModel",
      "state": {
       "description_width": ""
      }
     },
     "e7fe15f5d6964b8d907fceed86eec64b": {
      "model_module": "@jupyter-widgets/base",
      "model_module_version": "1.2.0",
      "model_name": "LayoutModel",
      "state": {}
     },
     "ed23524c6aa44c619429363379dace16": {
      "model_module": "@jupyter-widgets/controls",
      "model_module_version": "1.5.0",
      "model_name": "SliderStyleModel",
      "state": {
       "description_width": ""
      }
     },
     "f1bad7c011754e1d9f9f9608df6e155b": {
      "model_module": "@jupyter-widgets/controls",
      "model_module_version": "1.5.0",
      "model_name": "SliderStyleModel",
      "state": {
       "description_width": ""
      }
     },
     "f1d534df1257412084ca016813667a4f": {
      "model_module": "@jupyter-widgets/base",
      "model_module_version": "1.2.0",
      "model_name": "LayoutModel",
      "state": {}
     },
     "f3756a987c2b4dad8a2b63a76a484353": {
      "model_module": "@jupyter-widgets/base",
      "model_module_version": "1.2.0",
      "model_name": "LayoutModel",
      "state": {}
     },
     "f421f6444f7a4e268cb2dbcaf6829b23": {
      "model_module": "@jupyter-widgets/base",
      "model_module_version": "1.2.0",
      "model_name": "LayoutModel",
      "state": {}
     },
     "f510c3c4339b4cf29ff303dd27ea1ccc": {
      "model_module": "@jupyter-widgets/base",
      "model_module_version": "1.2.0",
      "model_name": "LayoutModel",
      "state": {}
     },
     "f55f40142bfe49269fdce3f169806958": {
      "model_module": "@jupyter-widgets/base",
      "model_module_version": "1.2.0",
      "model_name": "LayoutModel",
      "state": {}
     },
     "f97a180c82c54b8987d987a6751f2149": {
      "model_module": "jupyter-matplotlib",
      "model_module_version": "^0.9.0",
      "model_name": "ToolbarModel",
      "state": {
       "layout": "IPY_MODEL_5e397d78f93248f398ab036630dc783f",
       "toolitems": [
        [
         "Home",
         "Reset original view",
         "home",
         "home"
        ],
        [
         "Back",
         "Back to previous view",
         "arrow-left",
         "back"
        ],
        [
         "Forward",
         "Forward to next view",
         "arrow-right",
         "forward"
        ],
        [
         "Pan",
         "Left button pans, Right button zooms\nx/y fixes axis, CTRL fixes aspect",
         "arrows",
         "pan"
        ],
        [
         "Zoom",
         "Zoom to rectangle\nx/y fixes axis, CTRL fixes aspect",
         "square-o",
         "zoom"
        ],
        [
         "Download",
         "Download plot",
         "floppy-o",
         "save_figure"
        ]
       ]
      }
     },
     "faa0e69c317247c198ef16624a5b75c6": {
      "model_module": "@jupyter-widgets/controls",
      "model_module_version": "1.5.0",
      "model_name": "FloatSliderModel",
      "state": {
       "description": "dist",
       "layout": "IPY_MODEL_05ce61faafd54cdbb21f069b862d5578",
       "max": 5,
       "step": 0.1,
       "style": "IPY_MODEL_74366d38d5f34aa484f07091fddb8928",
       "value": 5
      }
     },
     "faa2c25be73642cbb5624136595690eb": {
      "model_module": "@jupyter-widgets/controls",
      "model_module_version": "1.5.0",
      "model_name": "FloatSliderModel",
      "state": {
       "description": "x_pos",
       "layout": "IPY_MODEL_f510c3c4339b4cf29ff303dd27ea1ccc",
       "max": 3,
       "min": -3,
       "step": 0.1,
       "style": "IPY_MODEL_525c988087994f49b123e77f99c1512b",
       "value": 0.5
      }
     },
     "fad584792f3c487996bf9541ee7f9b15": {
      "model_module": "jupyter-matplotlib",
      "model_module_version": "^0.9.0",
      "model_name": "ToolbarModel",
      "state": {
       "layout": "IPY_MODEL_13c7c272ec4a4f3ba6cd1fcd59e887ff",
       "toolitems": [
        [
         "Home",
         "Reset original view",
         "home",
         "home"
        ],
        [
         "Back",
         "Back to previous view",
         "arrow-left",
         "back"
        ],
        [
         "Forward",
         "Forward to next view",
         "arrow-right",
         "forward"
        ],
        [
         "Pan",
         "Left button pans, Right button zooms\nx/y fixes axis, CTRL fixes aspect",
         "arrows",
         "pan"
        ],
        [
         "Zoom",
         "Zoom to rectangle\nx/y fixes axis, CTRL fixes aspect",
         "square-o",
         "zoom"
        ],
        [
         "Download",
         "Download plot",
         "floppy-o",
         "save_figure"
        ]
       ]
      }
     },
     "faf25500a4cd48c2ba0d7f6f5fcb1e01": {
      "model_module": "@jupyter-widgets/output",
      "model_module_version": "1.0.0",
      "model_name": "OutputModel",
      "state": {
       "layout": "IPY_MODEL_aa5e08bf2d2b47a6913453a85428fa64"
      }
     },
     "fd87115e16014b41bfe9a0905df87568": {
      "model_module": "@jupyter-widgets/controls",
      "model_module_version": "1.5.0",
      "model_name": "FloatSliderModel",
      "state": {
       "description": "y_pos",
       "layout": "IPY_MODEL_087e142297be4607ad1abf4dc70d2f10",
       "max": 3,
       "min": -3,
       "step": 0.1,
       "style": "IPY_MODEL_ed23524c6aa44c619429363379dace16"
      }
     },
     "fee7b3bc7e8741cbb47ed48311482f79": {
      "model_module": "@jupyter-widgets/controls",
      "model_module_version": "1.5.0",
      "model_name": "SliderStyleModel",
      "state": {
       "description_width": ""
      }
     },
     "fffca0d5ebf444e893347b95418fbcfc": {
      "model_module": "@jupyter-widgets/base",
      "model_module_version": "1.2.0",
      "model_name": "LayoutModel",
      "state": {}
     }
    },
    "version_major": 2,
    "version_minor": 0
   }
  }
 },
 "nbformat": 4,
 "nbformat_minor": 5
}
